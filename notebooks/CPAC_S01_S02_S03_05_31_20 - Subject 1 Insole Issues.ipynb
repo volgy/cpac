{
 "cells": [
  {
   "cell_type": "markdown",
   "metadata": {},
   "source": [
    "# Debugging Subject 1 Insole Data Issues in the CPAC_S01_S02_S03_05_31_20 dataset"
   ]
  },
  {
   "cell_type": "markdown",
   "metadata": {},
   "source": [
    "## Libraries"
   ]
  },
  {
   "cell_type": "code",
   "execution_count": 1,
   "metadata": {},
   "outputs": [],
   "source": [
    "import sklearn\n",
    "assert sklearn.__version__ >= \"0.21\", \"Use the conda_python3_latest kernel!\"\n",
    "\n",
    "# Standard library\n",
    "import os\n",
    "import re\n",
    "import warnings\n",
    "\n",
    "# Third party\n",
    "import numpy as np\n",
    "import pandas as pd\n",
    "import matplotlib.pyplot as plt\n",
    "import seaborn as sns\n",
    "from sklearn.experimental import enable_hist_gradient_boosting  # noqa\n",
    "from sklearn import (dummy, linear_model, ensemble, \n",
    "                     metrics, preprocessing, pipeline, inspection, \n",
    "                     model_selection)\n",
    "\n",
    "from IPython.display import display, Markdown\n",
    "\n",
    "# Local\n",
    "import utils\n",
    "\n",
    "# matplotlib hackery\n",
    "%matplotlib inline"
   ]
  },
  {
   "cell_type": "markdown",
   "metadata": {},
   "source": [
    "## Load Dataset"
   ]
  },
  {
   "cell_type": "code",
   "execution_count": 2,
   "metadata": {},
   "outputs": [
    {
     "data": {
      "text/html": [
       "<div>\n",
       "<style scoped>\n",
       "    .dataframe tbody tr th:only-of-type {\n",
       "        vertical-align: middle;\n",
       "    }\n",
       "\n",
       "    .dataframe tbody tr th {\n",
       "        vertical-align: top;\n",
       "    }\n",
       "\n",
       "    .dataframe thead th {\n",
       "        text-align: right;\n",
       "    }\n",
       "</style>\n",
       "<table border=\"1\" class=\"dataframe\">\n",
       "  <thead>\n",
       "    <tr style=\"text-align: right;\">\n",
       "      <th></th>\n",
       "      <th>M_Trial_Num</th>\n",
       "      <th>M_Mass</th>\n",
       "      <th>M_Mass_to_L5S1</th>\n",
       "      <th>M_sub_task_indices</th>\n",
       "      <th>M_sub_task_num</th>\n",
       "      <th>M_include_overall</th>\n",
       "      <th>M_Index</th>\n",
       "      <th>M_Sub</th>\n",
       "      <th>M_sub_task_num_overall</th>\n",
       "      <th>M_Index_overall</th>\n",
       "      <th>...</th>\n",
       "      <th>RWEO_03_04_00_00_INSOLE_LY_AP_threshF50_mm</th>\n",
       "      <th>RWEO_01_00_00_00_INSOLE_RFORCE_threshF50_N</th>\n",
       "      <th>RWEO_01_02_00_00_INSOLE_RX_ML_threshF50_mm</th>\n",
       "      <th>RWEO_01_02_00_00_INSOLE_RY_AP_threshF50_mm</th>\n",
       "      <th>RWEF_03_00_00_00_INSOLE_LFORCE_threshF50_BW</th>\n",
       "      <th>RWEF_03_04_00_00_INSOLE_LX_ML_threshF50_BH</th>\n",
       "      <th>RWEF_03_04_00_00_INSOLE_LY_AP_threshF50_BH</th>\n",
       "      <th>RWEF_01_00_00_00_INSOLE_RFORCE_threshF50_BW</th>\n",
       "      <th>RWEF_01_02_00_00_INSOLE_RX_ML_threshF50_BH</th>\n",
       "      <th>RWEF_01_02_00_00_INSOLE_RY_AP_threshF50_BH</th>\n",
       "    </tr>\n",
       "  </thead>\n",
       "  <tbody>\n",
       "    <tr>\n",
       "      <th>count</th>\n",
       "      <td>596920.000000</td>\n",
       "      <td>596920.000000</td>\n",
       "      <td>450392.000000</td>\n",
       "      <td>596920.000000</td>\n",
       "      <td>596920.000000</td>\n",
       "      <td>596920.000000</td>\n",
       "      <td>596920.000000</td>\n",
       "      <td>596920.000000</td>\n",
       "      <td>596920.000000</td>\n",
       "      <td>596920.000000</td>\n",
       "      <td>...</td>\n",
       "      <td>509406.000000</td>\n",
       "      <td>594981.000000</td>\n",
       "      <td>506937.000000</td>\n",
       "      <td>506937.000000</td>\n",
       "      <td>594981.000000</td>\n",
       "      <td>509406.000000</td>\n",
       "      <td>509406.000000</td>\n",
       "      <td>594981.000000</td>\n",
       "      <td>506937.000000</td>\n",
       "      <td>506937.000000</td>\n",
       "    </tr>\n",
       "    <tr>\n",
       "      <th>mean</th>\n",
       "      <td>68.172854</td>\n",
       "      <td>10.576766</td>\n",
       "      <td>0.310355</td>\n",
       "      <td>295.212494</td>\n",
       "      <td>5.496341</td>\n",
       "      <td>0.782267</td>\n",
       "      <td>2850.599620</td>\n",
       "      <td>1.897787</td>\n",
       "      <td>235.306545</td>\n",
       "      <td>76305.094906</td>\n",
       "      <td>...</td>\n",
       "      <td>121.034549</td>\n",
       "      <td>357.312319</td>\n",
       "      <td>47.795679</td>\n",
       "      <td>135.603684</td>\n",
       "      <td>0.473457</td>\n",
       "      <td>0.028690</td>\n",
       "      <td>0.067842</td>\n",
       "      <td>0.487438</td>\n",
       "      <td>0.026754</td>\n",
       "      <td>0.075886</td>\n",
       "    </tr>\n",
       "    <tr>\n",
       "      <th>std</th>\n",
       "      <td>23.458992</td>\n",
       "      <td>5.960748</td>\n",
       "      <td>0.164044</td>\n",
       "      <td>234.100540</td>\n",
       "      <td>4.754427</td>\n",
       "      <td>0.412705</td>\n",
       "      <td>2708.406675</td>\n",
       "      <td>0.817537</td>\n",
       "      <td>121.308144</td>\n",
       "      <td>72015.333181</td>\n",
       "      <td>...</td>\n",
       "      <td>55.562888</td>\n",
       "      <td>283.629719</td>\n",
       "      <td>8.805979</td>\n",
       "      <td>53.366872</td>\n",
       "      <td>0.336114</td>\n",
       "      <td>0.005458</td>\n",
       "      <td>0.031498</td>\n",
       "      <td>0.354233</td>\n",
       "      <td>0.004836</td>\n",
       "      <td>0.030041</td>\n",
       "    </tr>\n",
       "    <tr>\n",
       "      <th>min</th>\n",
       "      <td>1.000000</td>\n",
       "      <td>0.000000</td>\n",
       "      <td>0.083662</td>\n",
       "      <td>1.000000</td>\n",
       "      <td>1.000000</td>\n",
       "      <td>0.000000</td>\n",
       "      <td>1.000000</td>\n",
       "      <td>1.000000</td>\n",
       "      <td>1.000000</td>\n",
       "      <td>-0.195016</td>\n",
       "      <td>...</td>\n",
       "      <td>0.000000</td>\n",
       "      <td>0.000000</td>\n",
       "      <td>0.000000</td>\n",
       "      <td>0.000000</td>\n",
       "      <td>0.000000</td>\n",
       "      <td>0.000000</td>\n",
       "      <td>0.000000</td>\n",
       "      <td>0.000000</td>\n",
       "      <td>0.000000</td>\n",
       "      <td>0.000000</td>\n",
       "    </tr>\n",
       "    <tr>\n",
       "      <th>25%</th>\n",
       "      <td>49.000000</td>\n",
       "      <td>5.000000</td>\n",
       "      <td>0.154197</td>\n",
       "      <td>121.000000</td>\n",
       "      <td>1.000000</td>\n",
       "      <td>1.000000</td>\n",
       "      <td>603.000000</td>\n",
       "      <td>1.000000</td>\n",
       "      <td>132.000000</td>\n",
       "      <td>0.000000</td>\n",
       "      <td>...</td>\n",
       "      <td>75.000000</td>\n",
       "      <td>125.815000</td>\n",
       "      <td>44.110000</td>\n",
       "      <td>93.770000</td>\n",
       "      <td>0.173023</td>\n",
       "      <td>0.026911</td>\n",
       "      <td>0.041779</td>\n",
       "      <td>0.187174</td>\n",
       "      <td>0.024577</td>\n",
       "      <td>0.052399</td>\n",
       "    </tr>\n",
       "    <tr>\n",
       "      <th>50%</th>\n",
       "      <td>78.000000</td>\n",
       "      <td>10.000000</td>\n",
       "      <td>0.274311</td>\n",
       "      <td>250.000000</td>\n",
       "      <td>4.000000</td>\n",
       "      <td>1.000000</td>\n",
       "      <td>1954.000000</td>\n",
       "      <td>2.000000</td>\n",
       "      <td>250.000000</td>\n",
       "      <td>63184.500000</td>\n",
       "      <td>...</td>\n",
       "      <td>112.680000</td>\n",
       "      <td>313.860000</td>\n",
       "      <td>49.980000</td>\n",
       "      <td>133.750000</td>\n",
       "      <td>0.482852</td>\n",
       "      <td>0.029677</td>\n",
       "      <td>0.062232</td>\n",
       "      <td>0.481379</td>\n",
       "      <td>0.028043</td>\n",
       "      <td>0.073984</td>\n",
       "    </tr>\n",
       "    <tr>\n",
       "      <th>75%</th>\n",
       "      <td>85.000000</td>\n",
       "      <td>15.000000</td>\n",
       "      <td>0.457227</td>\n",
       "      <td>407.000000</td>\n",
       "      <td>8.000000</td>\n",
       "      <td>1.000000</td>\n",
       "      <td>4445.000000</td>\n",
       "      <td>3.000000</td>\n",
       "      <td>335.000000</td>\n",
       "      <td>137799.250000</td>\n",
       "      <td>...</td>\n",
       "      <td>168.120000</td>\n",
       "      <td>559.535000</td>\n",
       "      <td>53.710000</td>\n",
       "      <td>183.140000</td>\n",
       "      <td>0.726662</td>\n",
       "      <td>0.032168</td>\n",
       "      <td>0.093348</td>\n",
       "      <td>0.726368</td>\n",
       "      <td>0.029920</td>\n",
       "      <td>0.101509</td>\n",
       "    </tr>\n",
       "    <tr>\n",
       "      <th>max</th>\n",
       "      <td>96.000000</td>\n",
       "      <td>23.000000</td>\n",
       "      <td>0.701759</td>\n",
       "      <td>1866.000000</td>\n",
       "      <td>21.000000</td>\n",
       "      <td>1.000000</td>\n",
       "      <td>14119.000000</td>\n",
       "      <td>3.000000</td>\n",
       "      <td>452.000000</td>\n",
       "      <td>233105.000000</td>\n",
       "      <td>...</td>\n",
       "      <td>242.320000</td>\n",
       "      <td>1558.065000</td>\n",
       "      <td>71.260000</td>\n",
       "      <td>247.560000</td>\n",
       "      <td>1.949560</td>\n",
       "      <td>0.041882</td>\n",
       "      <td>0.140069</td>\n",
       "      <td>2.041016</td>\n",
       "      <td>0.041191</td>\n",
       "      <td>0.143098</td>\n",
       "    </tr>\n",
       "  </tbody>\n",
       "</table>\n",
       "<p>8 rows × 377 columns</p>\n",
       "</div>"
      ],
      "text/plain": [
       "         M_Trial_Num         M_Mass  M_Mass_to_L5S1  M_sub_task_indices  \\\n",
       "count  596920.000000  596920.000000   450392.000000       596920.000000   \n",
       "mean       68.172854      10.576766        0.310355          295.212494   \n",
       "std        23.458992       5.960748        0.164044          234.100540   \n",
       "min         1.000000       0.000000        0.083662            1.000000   \n",
       "25%        49.000000       5.000000        0.154197          121.000000   \n",
       "50%        78.000000      10.000000        0.274311          250.000000   \n",
       "75%        85.000000      15.000000        0.457227          407.000000   \n",
       "max        96.000000      23.000000        0.701759         1866.000000   \n",
       "\n",
       "       M_sub_task_num  M_include_overall        M_Index          M_Sub  \\\n",
       "count   596920.000000      596920.000000  596920.000000  596920.000000   \n",
       "mean         5.496341           0.782267    2850.599620       1.897787   \n",
       "std          4.754427           0.412705    2708.406675       0.817537   \n",
       "min          1.000000           0.000000       1.000000       1.000000   \n",
       "25%          1.000000           1.000000     603.000000       1.000000   \n",
       "50%          4.000000           1.000000    1954.000000       2.000000   \n",
       "75%          8.000000           1.000000    4445.000000       3.000000   \n",
       "max         21.000000           1.000000   14119.000000       3.000000   \n",
       "\n",
       "       M_sub_task_num_overall  M_Index_overall  ...  \\\n",
       "count           596920.000000    596920.000000  ...   \n",
       "mean               235.306545     76305.094906  ...   \n",
       "std                121.308144     72015.333181  ...   \n",
       "min                  1.000000        -0.195016  ...   \n",
       "25%                132.000000         0.000000  ...   \n",
       "50%                250.000000     63184.500000  ...   \n",
       "75%                335.000000    137799.250000  ...   \n",
       "max                452.000000    233105.000000  ...   \n",
       "\n",
       "       RWEO_03_04_00_00_INSOLE_LY_AP_threshF50_mm  \\\n",
       "count                               509406.000000   \n",
       "mean                                   121.034549   \n",
       "std                                     55.562888   \n",
       "min                                      0.000000   \n",
       "25%                                     75.000000   \n",
       "50%                                    112.680000   \n",
       "75%                                    168.120000   \n",
       "max                                    242.320000   \n",
       "\n",
       "       RWEO_01_00_00_00_INSOLE_RFORCE_threshF50_N  \\\n",
       "count                               594981.000000   \n",
       "mean                                   357.312319   \n",
       "std                                    283.629719   \n",
       "min                                      0.000000   \n",
       "25%                                    125.815000   \n",
       "50%                                    313.860000   \n",
       "75%                                    559.535000   \n",
       "max                                   1558.065000   \n",
       "\n",
       "       RWEO_01_02_00_00_INSOLE_RX_ML_threshF50_mm  \\\n",
       "count                               506937.000000   \n",
       "mean                                    47.795679   \n",
       "std                                      8.805979   \n",
       "min                                      0.000000   \n",
       "25%                                     44.110000   \n",
       "50%                                     49.980000   \n",
       "75%                                     53.710000   \n",
       "max                                     71.260000   \n",
       "\n",
       "       RWEO_01_02_00_00_INSOLE_RY_AP_threshF50_mm  \\\n",
       "count                               506937.000000   \n",
       "mean                                   135.603684   \n",
       "std                                     53.366872   \n",
       "min                                      0.000000   \n",
       "25%                                     93.770000   \n",
       "50%                                    133.750000   \n",
       "75%                                    183.140000   \n",
       "max                                    247.560000   \n",
       "\n",
       "       RWEF_03_00_00_00_INSOLE_LFORCE_threshF50_BW  \\\n",
       "count                                594981.000000   \n",
       "mean                                      0.473457   \n",
       "std                                       0.336114   \n",
       "min                                       0.000000   \n",
       "25%                                       0.173023   \n",
       "50%                                       0.482852   \n",
       "75%                                       0.726662   \n",
       "max                                       1.949560   \n",
       "\n",
       "       RWEF_03_04_00_00_INSOLE_LX_ML_threshF50_BH  \\\n",
       "count                               509406.000000   \n",
       "mean                                     0.028690   \n",
       "std                                      0.005458   \n",
       "min                                      0.000000   \n",
       "25%                                      0.026911   \n",
       "50%                                      0.029677   \n",
       "75%                                      0.032168   \n",
       "max                                      0.041882   \n",
       "\n",
       "       RWEF_03_04_00_00_INSOLE_LY_AP_threshF50_BH  \\\n",
       "count                               509406.000000   \n",
       "mean                                     0.067842   \n",
       "std                                      0.031498   \n",
       "min                                      0.000000   \n",
       "25%                                      0.041779   \n",
       "50%                                      0.062232   \n",
       "75%                                      0.093348   \n",
       "max                                      0.140069   \n",
       "\n",
       "       RWEF_01_00_00_00_INSOLE_RFORCE_threshF50_BW  \\\n",
       "count                                594981.000000   \n",
       "mean                                      0.487438   \n",
       "std                                       0.354233   \n",
       "min                                       0.000000   \n",
       "25%                                       0.187174   \n",
       "50%                                       0.481379   \n",
       "75%                                       0.726368   \n",
       "max                                       2.041016   \n",
       "\n",
       "       RWEF_01_02_00_00_INSOLE_RX_ML_threshF50_BH  \\\n",
       "count                               506937.000000   \n",
       "mean                                     0.026754   \n",
       "std                                      0.004836   \n",
       "min                                      0.000000   \n",
       "25%                                      0.024577   \n",
       "50%                                      0.028043   \n",
       "75%                                      0.029920   \n",
       "max                                      0.041191   \n",
       "\n",
       "       RWEF_01_02_00_00_INSOLE_RY_AP_threshF50_BH  \n",
       "count                               506937.000000  \n",
       "mean                                     0.075886  \n",
       "std                                      0.030041  \n",
       "min                                      0.000000  \n",
       "25%                                      0.052399  \n",
       "50%                                      0.073984  \n",
       "75%                                      0.101509  \n",
       "max                                      0.143098  \n",
       "\n",
       "[8 rows x 377 columns]"
      ]
     },
     "execution_count": 2,
     "metadata": {},
     "output_type": "execute_result"
    }
   ],
   "source": [
    "df_orig = utils.load_dataset(\"s3://cpac/ORIG/CPAC_S01_S02_S03_05_31_20/CPAC10S_S01_S02_S03_06_01_20.csv\")\n",
    "df_orig.describe()"
   ]
  },
  {
   "cell_type": "markdown",
   "metadata": {},
   "source": [
    "## Associate column names"
   ]
  },
  {
   "cell_type": "code",
   "execution_count": 3,
   "metadata": {},
   "outputs": [],
   "source": [
    "def _get_columns_with_prefix(df, prefix):\n",
    "    columns = []\n",
    "    for column in df.columns:\n",
    "        if column.startswith(prefix):\n",
    "            columns.append(column)\n",
    "    return columns\n",
    "    \n",
    "def get_target_names(df):\n",
    "    return _get_columns_with_prefix(df, \"T_\")\n",
    "\n",
    "def get_meta_names(df):\n",
    "    return _get_columns_with_prefix(df, \"M_\")    "
   ]
  },
  {
   "cell_type": "markdown",
   "metadata": {},
   "source": [
    "## Clean-up dataset\n",
    "\n",
    "- Remove samples based on `M_include_overall`"
   ]
  },
  {
   "cell_type": "code",
   "execution_count": 4,
   "metadata": {},
   "outputs": [
    {
     "name": "stdout",
     "output_type": "stream",
     "text": [
      "Number of samples: 466951 (before clean-up: 596920)\n",
      "Number of trials: 140 (before clean-up: 141)\n",
      "Number of subjects: 3\n"
     ]
    }
   ],
   "source": [
    "df = df_orig[df_orig[\"M_include_overall\"] > 0]\n",
    "print(f\"Number of samples: {df.shape[0]} (before clean-up: {df_orig.shape[0]})\")\n",
    "print(f\"Number of trials: {len(df['M_Trial_Name'].unique())} (before clean-up: {len(df_orig['M_Trial_Name'].unique())})\")\n",
    "print(f\"Number of subjects: {len(df['M_Sub'].unique())}\")"
   ]
  },
  {
   "cell_type": "markdown",
   "metadata": {},
   "source": [
    "## Predictor configurations (recipes)"
   ]
  },
  {
   "cell_type": "code",
   "execution_count": 5,
   "metadata": {
    "scrolled": false
   },
   "outputs": [
    {
     "name": "stdout",
     "output_type": "stream",
     "text": [
      "Recipe 1: Simulated Wearable - All Regular\n",
      "\tPredictors: 75, Sensors: 10\n",
      "\n",
      "Recipe 2: Simulated Wearable - All Regular & Exploratory\n",
      "\tPredictors: 104, Sensors: 10\n",
      "\n",
      "Recipe 3: Real Wearable - All Regular\n",
      "\tPredictors: 166, Sensors: 10\n",
      "\n",
      "Recipe 4: Real Wearable - All Regular & Exploratory\n",
      "\tPredictors: 201, Sensors: 10\n",
      "\n",
      "Recipe 5: Real Wearable - Insole Only\n",
      "\tPredictors: 17, Sensors: 2\n",
      "\n",
      "Recipe 6: Real Wearable - Trunk Orientatoin Only\n",
      "\tPredictors: 56, Sensors: 1\n",
      "\n",
      "Recipe 7: Real Wearable - Insole & Trunk Orientation\n",
      "\tPredictors: 77, Sensors: 3\n",
      "\n",
      "Recipe 8: Real Wearable - Insole & Hip Angles & Trunk Orientation\n",
      "\tPredictors: 133, Sensors: 6\n",
      "\n"
     ]
    }
   ],
   "source": [
    "def predictor_short_name(predictor):\n",
    "    return predictor[17:]\n",
    "\n",
    "def predictor_sensor_number(predictor):\n",
    "    return int(predictor[5:7])\n",
    "\n",
    "def filter_predictors(all_predictors, patterns):\n",
    "    if isinstance(patterns, str):\n",
    "        patterns = (patterns,)\n",
    "        \n",
    "    predictors = []\n",
    "    for predictor in all_predictors:\n",
    "        for pattern in patterns:\n",
    "            if pattern in predictor:\n",
    "                predictors.append(predictor)\n",
    "                break\n",
    "    return predictors\n",
    "\n",
    "\n",
    "feature_sets = {\n",
    "    \"Recipe 1: Simulated Wearable - All Regular\": \n",
    "        filter_predictors(df.columns, \"SWRF\"),\n",
    "    \n",
    "    \"Recipe 2: Simulated Wearable - All Regular & Exploratory\": \n",
    "        filter_predictors(df.columns, (\"SWRF\", \"SWEF\")),\n",
    "    \n",
    "    \"Recipe 3: Real Wearable - All Regular\": \n",
    "        filter_predictors(df.columns, \"RWRF\"),\n",
    "    \n",
    "    \"Recipe 4: Real Wearable - All Regular & Exploratory\": \n",
    "        filter_predictors(df.columns, (\"RWRF\", \"RWEF\")),\n",
    "    \n",
    "    \"Recipe 5: Real Wearable - Insole Only\":\n",
    "        filter_predictors(\n",
    "            filter_predictors(df.columns, (\"RWRF\", \"RWEF\")),\n",
    "            (\"03_00_00_00\", \"01_00_00_00\", \"03_04_00_00\", \"01_02_00_00\", \"01_03_00_00\")\n",
    "        ),\n",
    "    \n",
    "    \"Recipe 6: Real Wearable - Trunk Orientatoin Only\":\n",
    "        filter_predictors(\n",
    "            filter_predictors(df.columns, (\"RWRF\", \"RWEF\")),\n",
    "            (\"12_00_00_00\",)\n",
    "        ),\n",
    "    \n",
    "    \"Recipe 7: Real Wearable - Insole & Trunk Orientation\":\n",
    "        filter_predictors(\n",
    "            filter_predictors(df.columns, (\"RWRF\", \"RWEF\")),\n",
    "            (\"03_00_00_00\", \"01_00_00_00\", \"03_04_00_00\", \"01_02_00_00\", \"01_03_00_00\", \n",
    "             \"12_00_00_00\", \"01_03_12_00\")\n",
    "        ),\n",
    "    \n",
    "    \"Recipe 8: Real Wearable - Insole & Hip Angles & Trunk Orientation\":\n",
    "        filter_predictors(\n",
    "            filter_predictors(df.columns, (\"RWRF\", \"RWEF\")),\n",
    "            (\"03_00_00_00\", \"01_00_00_00\", \"03_04_00_00\", \"01_02_00_00\", \"01_03_00_00\", \n",
    "             \"12_00_00_00\", \"01_03_12_00\",\n",
    "             \"05_06_00_00\", \"05_09_00_00\", \"06_00_00_00\", \"09_00_00_00\", \"05_12_00_00\", \"05_06_01_03\", \"05_09_01_03\")\n",
    "        ),\n",
    "    \n",
    "}\n",
    "\n",
    "for feature_set_name, predictors in feature_sets.items():\n",
    "    sensors = set(map(predictor_sensor_number, predictors))\n",
    "    print(f\"{feature_set_name}\\n\\tPredictors: {len(predictors)}, Sensors: {len(sensors)}\\n\")"
   ]
  },
  {
   "cell_type": "markdown",
   "metadata": {},
   "source": [
    "## Train/Test configurations"
   ]
  },
  {
   "cell_type": "code",
   "execution_count": 6,
   "metadata": {},
   "outputs": [
    {
     "name": "stdout",
     "output_type": "stream",
     "text": [
      "Subject 1 & 2 -> Subject 3: 317564/149387 (68.0%/32.0%)\n",
      "Subject 1 & 3 -> Subject 2: 308407/158544 (66.0%/34.0%)\n",
      "Subject 2 & 3 -> Subject 1: 307931/159020 (65.9%/34.1%)\n",
      "Subject 1 -> Subject 2: 159020/158544 (34.1%/34.0%)\n",
      "Subject 2 -> Subject 1: 158544/159020 (34.0%/34.1%)\n",
      "Subject 1 -> Subject 3: 159020/149387 (34.1%/32.0%)\n",
      "Subject 3 -> Subject 1: 149387/159020 (32.0%/34.1%)\n",
      "Subject 2 -> Subject 3: 158544/149387 (34.0%/32.0%)\n",
      "Subject 3 -> Subject 2: 149387/158544 (32.0%/34.0%)\n"
     ]
    }
   ],
   "source": [
    "train_test_selectors = {\n",
    "    \"Subject 1 & 2 -> Subject 3\": (df[\"M_Sub\"] != 3, df[\"M_Sub\"] == 3),\n",
    "    \"Subject 1 & 3 -> Subject 2\": (df[\"M_Sub\"] != 2, df[\"M_Sub\"] == 2),\n",
    "    \"Subject 2 & 3 -> Subject 1\": (df[\"M_Sub\"] != 1, df[\"M_Sub\"] == 1),\n",
    "    \"Subject 1 -> Subject 2\": (df[\"M_Sub\"] == 1, df[\"M_Sub\"] == 2),\n",
    "    \"Subject 2 -> Subject 1\": (df[\"M_Sub\"] == 2, df[\"M_Sub\"] == 1),\n",
    "    \"Subject 1 -> Subject 3\": (df[\"M_Sub\"] == 1, df[\"M_Sub\"] == 3),\n",
    "    \"Subject 3 -> Subject 1\": (df[\"M_Sub\"] == 3, df[\"M_Sub\"] == 1),\n",
    "    \"Subject 2 -> Subject 3\": (df[\"M_Sub\"] == 2, df[\"M_Sub\"] == 3),\n",
    "    \"Subject 3 -> Subject 2\": (df[\"M_Sub\"] == 3, df[\"M_Sub\"] == 2)\n",
    "}\n",
    "\n",
    "train_test_sets = {}\n",
    "for test_selector_name, (train_selector, test_selector) in train_test_selectors.items():\n",
    "    #df_train, df_test = df[train_selector].dropna(), df[test_selector].dropna()\n",
    "    df_train, df_test = df[train_selector], df[test_selector]\n",
    "    train_test_sets[test_selector_name] = (df_train, df_test)\n",
    "    print(f\"{test_selector_name}: {len(df_train)}/{len(df_test)} \"\n",
    "          f\"({len(df_train) / len(df):.1%}/{len(df_test) / len(df):.1%})\")"
   ]
  },
  {
   "cell_type": "markdown",
   "metadata": {},
   "source": [
    "## Train and evaluate boosted tree models"
   ]
  },
  {
   "cell_type": "code",
   "execution_count": 7,
   "metadata": {
    "scrolled": false
   },
   "outputs": [],
   "source": [
    "def train_model(X_train, y_train):\n",
    "    model = pipeline.Pipeline([\n",
    "        ('scaler', preprocessing.StandardScaler()),\n",
    "        ('gboost', ensemble.HistGradientBoostingRegressor())\n",
    "    ]).fit(X_train, y_train)\n",
    "    return model\n",
    "    \n",
    "def evaluate_model(desc, model, X_test, y_test, show_plot=False, show_importance=False):\n",
    "    y_test_pred = model.predict(X_test)\n",
    "    \n",
    "    # Quantitative results\n",
    "    rmse = np.sqrt(metrics.mean_squared_error(y_test_pred, y_test))\n",
    "    r2 = metrics.r2_score(y_test_pred, y_test)\n",
    "    \n",
    "    display(\n",
    "        Markdown(\n",
    "            \"---\\n\"\n",
    "            f\"**Target**: {desc['target']}  \\n\"\n",
    "            f\"**Features**: {desc['feature_set']}  \\n\"\n",
    "            f\"**Train/Test**: {desc['train_test_set']}  \\n\"\n",
    "            f\"**R2={r2:.3f}**\"\n",
    "        )\n",
    "    )\n",
    "    \n",
    "    if show_plot:\n",
    "        ax = sns.jointplot(y_test, y_test_pred, alpha=0.1, s=1.0, color=desc[\"color\"])\n",
    "        ax.set_axis_labels(\"Actual Pelvis Moment\", 'Predicted Pelvis Moment', fontsize=14)\n",
    "        ax.ax_joint.grid()\n",
    "        ax.ax_marg_x.set_title(\"Predictions\")\n",
    "\n",
    "        summary = '\\n'.join((\n",
    "            r\"$\\mathrm{RMSE}=%.2f$\" % (rmse,),\n",
    "            r\"$\\mathrm{R}^2=%.3f$\" % (r2,)\n",
    "        ))\n",
    "\n",
    "        props = dict(boxstyle='round', facecolor='wheat', alpha=0.5)\n",
    "        ax.ax_joint.text(0.05, 0.95, summary, transform=ax.ax_joint.transAxes, fontsize=14,\n",
    "            verticalalignment='top', bbox=props)\n",
    "        plt.show()\n",
    "        \n",
    "    if show_importance:\n",
    "        feature_importances = inspection.permutation_importance(model, \n",
    "                                           X_test, \n",
    "                                           y_test, \n",
    "                                           n_repeats=5, n_jobs=-1)\n",
    "        top_idxs = feature_importances.importances_mean.argsort()[::-1][:6]\n",
    "        fig, ax = plt.subplots()\n",
    "#         ax.boxplot(feature_importances.importances[top_idxs].T,\n",
    "#                vert=False, labels=[predictor_short_name(X_test.columns[idx]) for idx in top_idxs])\n",
    "        ax.barh(\n",
    "            [predictor_short_name(X_test.columns[idx]) for idx in top_idxs], \n",
    "            feature_importances.importances_mean[top_idxs],\n",
    "            color=desc[\"color\"]\n",
    "        )\n",
    "        ax.set_title(\"Feature Importances\")\n",
    "        plt.show()\n",
    "    \n",
    "    return r2, pd.Series(y_test_pred, index=y_test.index)\n",
    "\n",
    "def run_experiments(target_name, train_test_sets, color=\"steelblue\"):\n",
    "    warnings.filterwarnings('ignore')\n",
    "    r2_scores = {}\n",
    "    predictions = {}\n",
    "    for train_test_set_name, (df_train, df_test) in train_test_sets.items():\n",
    "        for feature_set_name, feature_names in feature_sets.items():\n",
    "            desc = {\"target\": target_name, \n",
    "                    \"feature_set\": feature_set_name, \n",
    "                    \"train_test_set\": train_test_set_name,\n",
    "                    \"color\": color\n",
    "                   }\n",
    "            model = train_model(df_train[feature_names], df_train[target_name])\n",
    "            r2, prediction = evaluate_model(\n",
    "                desc, \n",
    "                model, \n",
    "                df_test[feature_names], \n",
    "                df_test[target_name], \n",
    "                show_plot=False, \n",
    "                show_importance=False)\n",
    "            \n",
    "            r2_scores.setdefault(train_test_set_name, {})[feature_set_name] = r2\n",
    "            predictions.setdefault(train_test_set_name, {})[feature_set_name] = prediction\n",
    "    warnings.filterwarnings('default')\n",
    "    return r2_scores, predictions\n"
   ]
  },
  {
   "cell_type": "markdown",
   "metadata": {},
   "source": [
    "## Estimating TF_Pelvis_Moment_X_BWBH\n"
   ]
  },
  {
   "cell_type": "code",
   "execution_count": 8,
   "metadata": {
    "scrolled": false
   },
   "outputs": [
    {
     "data": {
      "text/markdown": [
       "---\n",
       "**Target**: TF_Pelvis_Moment_X_BWBH  \n",
       "**Features**: Recipe 1: Simulated Wearable - All Regular  \n",
       "**Train/Test**: Subject 1 & 2 -> Subject 3  \n",
       "**R2=0.903**"
      ],
      "text/plain": [
       "<IPython.core.display.Markdown object>"
      ]
     },
     "metadata": {},
     "output_type": "display_data"
    },
    {
     "data": {
      "text/markdown": [
       "---\n",
       "**Target**: TF_Pelvis_Moment_X_BWBH  \n",
       "**Features**: Recipe 2: Simulated Wearable - All Regular & Exploratory  \n",
       "**Train/Test**: Subject 1 & 2 -> Subject 3  \n",
       "**R2=0.904**"
      ],
      "text/plain": [
       "<IPython.core.display.Markdown object>"
      ]
     },
     "metadata": {},
     "output_type": "display_data"
    },
    {
     "data": {
      "text/markdown": [
       "---\n",
       "**Target**: TF_Pelvis_Moment_X_BWBH  \n",
       "**Features**: Recipe 3: Real Wearable - All Regular  \n",
       "**Train/Test**: Subject 1 & 2 -> Subject 3  \n",
       "**R2=0.748**"
      ],
      "text/plain": [
       "<IPython.core.display.Markdown object>"
      ]
     },
     "metadata": {},
     "output_type": "display_data"
    },
    {
     "data": {
      "text/markdown": [
       "---\n",
       "**Target**: TF_Pelvis_Moment_X_BWBH  \n",
       "**Features**: Recipe 4: Real Wearable - All Regular & Exploratory  \n",
       "**Train/Test**: Subject 1 & 2 -> Subject 3  \n",
       "**R2=0.761**"
      ],
      "text/plain": [
       "<IPython.core.display.Markdown object>"
      ]
     },
     "metadata": {},
     "output_type": "display_data"
    },
    {
     "data": {
      "text/markdown": [
       "---\n",
       "**Target**: TF_Pelvis_Moment_X_BWBH  \n",
       "**Features**: Recipe 5: Real Wearable - Insole Only  \n",
       "**Train/Test**: Subject 1 & 2 -> Subject 3  \n",
       "**R2=-0.953**"
      ],
      "text/plain": [
       "<IPython.core.display.Markdown object>"
      ]
     },
     "metadata": {},
     "output_type": "display_data"
    },
    {
     "data": {
      "text/markdown": [
       "---\n",
       "**Target**: TF_Pelvis_Moment_X_BWBH  \n",
       "**Features**: Recipe 6: Real Wearable - Trunk Orientatoin Only  \n",
       "**Train/Test**: Subject 1 & 2 -> Subject 3  \n",
       "**R2=0.738**"
      ],
      "text/plain": [
       "<IPython.core.display.Markdown object>"
      ]
     },
     "metadata": {},
     "output_type": "display_data"
    },
    {
     "data": {
      "text/markdown": [
       "---\n",
       "**Target**: TF_Pelvis_Moment_X_BWBH  \n",
       "**Features**: Recipe 7: Real Wearable - Insole & Trunk Orientation  \n",
       "**Train/Test**: Subject 1 & 2 -> Subject 3  \n",
       "**R2=0.762**"
      ],
      "text/plain": [
       "<IPython.core.display.Markdown object>"
      ]
     },
     "metadata": {},
     "output_type": "display_data"
    },
    {
     "data": {
      "text/markdown": [
       "---\n",
       "**Target**: TF_Pelvis_Moment_X_BWBH  \n",
       "**Features**: Recipe 8: Real Wearable - Insole & Hip Angles & Trunk Orientation  \n",
       "**Train/Test**: Subject 1 & 2 -> Subject 3  \n",
       "**R2=0.768**"
      ],
      "text/plain": [
       "<IPython.core.display.Markdown object>"
      ]
     },
     "metadata": {},
     "output_type": "display_data"
    },
    {
     "data": {
      "text/markdown": [
       "---\n",
       "**Target**: TF_Pelvis_Moment_X_BWBH  \n",
       "**Features**: Recipe 1: Simulated Wearable - All Regular  \n",
       "**Train/Test**: Subject 1 & 3 -> Subject 2  \n",
       "**R2=0.788**"
      ],
      "text/plain": [
       "<IPython.core.display.Markdown object>"
      ]
     },
     "metadata": {},
     "output_type": "display_data"
    },
    {
     "data": {
      "text/markdown": [
       "---\n",
       "**Target**: TF_Pelvis_Moment_X_BWBH  \n",
       "**Features**: Recipe 2: Simulated Wearable - All Regular & Exploratory  \n",
       "**Train/Test**: Subject 1 & 3 -> Subject 2  \n",
       "**R2=0.850**"
      ],
      "text/plain": [
       "<IPython.core.display.Markdown object>"
      ]
     },
     "metadata": {},
     "output_type": "display_data"
    },
    {
     "data": {
      "text/markdown": [
       "---\n",
       "**Target**: TF_Pelvis_Moment_X_BWBH  \n",
       "**Features**: Recipe 3: Real Wearable - All Regular  \n",
       "**Train/Test**: Subject 1 & 3 -> Subject 2  \n",
       "**R2=0.800**"
      ],
      "text/plain": [
       "<IPython.core.display.Markdown object>"
      ]
     },
     "metadata": {},
     "output_type": "display_data"
    },
    {
     "data": {
      "text/markdown": [
       "---\n",
       "**Target**: TF_Pelvis_Moment_X_BWBH  \n",
       "**Features**: Recipe 4: Real Wearable - All Regular & Exploratory  \n",
       "**Train/Test**: Subject 1 & 3 -> Subject 2  \n",
       "**R2=0.774**"
      ],
      "text/plain": [
       "<IPython.core.display.Markdown object>"
      ]
     },
     "metadata": {},
     "output_type": "display_data"
    },
    {
     "data": {
      "text/markdown": [
       "---\n",
       "**Target**: TF_Pelvis_Moment_X_BWBH  \n",
       "**Features**: Recipe 5: Real Wearable - Insole Only  \n",
       "**Train/Test**: Subject 1 & 3 -> Subject 2  \n",
       "**R2=-2.328**"
      ],
      "text/plain": [
       "<IPython.core.display.Markdown object>"
      ]
     },
     "metadata": {},
     "output_type": "display_data"
    },
    {
     "data": {
      "text/markdown": [
       "---\n",
       "**Target**: TF_Pelvis_Moment_X_BWBH  \n",
       "**Features**: Recipe 6: Real Wearable - Trunk Orientatoin Only  \n",
       "**Train/Test**: Subject 1 & 3 -> Subject 2  \n",
       "**R2=0.615**"
      ],
      "text/plain": [
       "<IPython.core.display.Markdown object>"
      ]
     },
     "metadata": {},
     "output_type": "display_data"
    },
    {
     "data": {
      "text/markdown": [
       "---\n",
       "**Target**: TF_Pelvis_Moment_X_BWBH  \n",
       "**Features**: Recipe 7: Real Wearable - Insole & Trunk Orientation  \n",
       "**Train/Test**: Subject 1 & 3 -> Subject 2  \n",
       "**R2=0.688**"
      ],
      "text/plain": [
       "<IPython.core.display.Markdown object>"
      ]
     },
     "metadata": {},
     "output_type": "display_data"
    },
    {
     "data": {
      "text/markdown": [
       "---\n",
       "**Target**: TF_Pelvis_Moment_X_BWBH  \n",
       "**Features**: Recipe 8: Real Wearable - Insole & Hip Angles & Trunk Orientation  \n",
       "**Train/Test**: Subject 1 & 3 -> Subject 2  \n",
       "**R2=0.726**"
      ],
      "text/plain": [
       "<IPython.core.display.Markdown object>"
      ]
     },
     "metadata": {},
     "output_type": "display_data"
    },
    {
     "data": {
      "text/markdown": [
       "---\n",
       "**Target**: TF_Pelvis_Moment_X_BWBH  \n",
       "**Features**: Recipe 1: Simulated Wearable - All Regular  \n",
       "**Train/Test**: Subject 2 & 3 -> Subject 1  \n",
       "**R2=0.889**"
      ],
      "text/plain": [
       "<IPython.core.display.Markdown object>"
      ]
     },
     "metadata": {},
     "output_type": "display_data"
    },
    {
     "data": {
      "text/markdown": [
       "---\n",
       "**Target**: TF_Pelvis_Moment_X_BWBH  \n",
       "**Features**: Recipe 2: Simulated Wearable - All Regular & Exploratory  \n",
       "**Train/Test**: Subject 2 & 3 -> Subject 1  \n",
       "**R2=0.910**"
      ],
      "text/plain": [
       "<IPython.core.display.Markdown object>"
      ]
     },
     "metadata": {},
     "output_type": "display_data"
    },
    {
     "data": {
      "text/markdown": [
       "---\n",
       "**Target**: TF_Pelvis_Moment_X_BWBH  \n",
       "**Features**: Recipe 3: Real Wearable - All Regular  \n",
       "**Train/Test**: Subject 2 & 3 -> Subject 1  \n",
       "**R2=0.633**"
      ],
      "text/plain": [
       "<IPython.core.display.Markdown object>"
      ]
     },
     "metadata": {},
     "output_type": "display_data"
    },
    {
     "data": {
      "text/markdown": [
       "---\n",
       "**Target**: TF_Pelvis_Moment_X_BWBH  \n",
       "**Features**: Recipe 4: Real Wearable - All Regular & Exploratory  \n",
       "**Train/Test**: Subject 2 & 3 -> Subject 1  \n",
       "**R2=0.569**"
      ],
      "text/plain": [
       "<IPython.core.display.Markdown object>"
      ]
     },
     "metadata": {},
     "output_type": "display_data"
    },
    {
     "data": {
      "text/markdown": [
       "---\n",
       "**Target**: TF_Pelvis_Moment_X_BWBH  \n",
       "**Features**: Recipe 5: Real Wearable - Insole Only  \n",
       "**Train/Test**: Subject 2 & 3 -> Subject 1  \n",
       "**R2=-2.712**"
      ],
      "text/plain": [
       "<IPython.core.display.Markdown object>"
      ]
     },
     "metadata": {},
     "output_type": "display_data"
    },
    {
     "data": {
      "text/markdown": [
       "---\n",
       "**Target**: TF_Pelvis_Moment_X_BWBH  \n",
       "**Features**: Recipe 6: Real Wearable - Trunk Orientatoin Only  \n",
       "**Train/Test**: Subject 2 & 3 -> Subject 1  \n",
       "**R2=0.627**"
      ],
      "text/plain": [
       "<IPython.core.display.Markdown object>"
      ]
     },
     "metadata": {},
     "output_type": "display_data"
    },
    {
     "data": {
      "text/markdown": [
       "---\n",
       "**Target**: TF_Pelvis_Moment_X_BWBH  \n",
       "**Features**: Recipe 7: Real Wearable - Insole & Trunk Orientation  \n",
       "**Train/Test**: Subject 2 & 3 -> Subject 1  \n",
       "**R2=0.477**"
      ],
      "text/plain": [
       "<IPython.core.display.Markdown object>"
      ]
     },
     "metadata": {},
     "output_type": "display_data"
    },
    {
     "data": {
      "text/markdown": [
       "---\n",
       "**Target**: TF_Pelvis_Moment_X_BWBH  \n",
       "**Features**: Recipe 8: Real Wearable - Insole & Hip Angles & Trunk Orientation  \n",
       "**Train/Test**: Subject 2 & 3 -> Subject 1  \n",
       "**R2=0.560**"
      ],
      "text/plain": [
       "<IPython.core.display.Markdown object>"
      ]
     },
     "metadata": {},
     "output_type": "display_data"
    },
    {
     "data": {
      "text/markdown": [
       "---\n",
       "**Target**: TF_Pelvis_Moment_X_BWBH  \n",
       "**Features**: Recipe 1: Simulated Wearable - All Regular  \n",
       "**Train/Test**: Subject 1 -> Subject 2  \n",
       "**R2=0.801**"
      ],
      "text/plain": [
       "<IPython.core.display.Markdown object>"
      ]
     },
     "metadata": {},
     "output_type": "display_data"
    },
    {
     "data": {
      "text/markdown": [
       "---\n",
       "**Target**: TF_Pelvis_Moment_X_BWBH  \n",
       "**Features**: Recipe 2: Simulated Wearable - All Regular & Exploratory  \n",
       "**Train/Test**: Subject 1 -> Subject 2  \n",
       "**R2=0.875**"
      ],
      "text/plain": [
       "<IPython.core.display.Markdown object>"
      ]
     },
     "metadata": {},
     "output_type": "display_data"
    },
    {
     "data": {
      "text/markdown": [
       "---\n",
       "**Target**: TF_Pelvis_Moment_X_BWBH  \n",
       "**Features**: Recipe 3: Real Wearable - All Regular  \n",
       "**Train/Test**: Subject 1 -> Subject 2  \n",
       "**R2=0.777**"
      ],
      "text/plain": [
       "<IPython.core.display.Markdown object>"
      ]
     },
     "metadata": {},
     "output_type": "display_data"
    },
    {
     "data": {
      "text/markdown": [
       "---\n",
       "**Target**: TF_Pelvis_Moment_X_BWBH  \n",
       "**Features**: Recipe 4: Real Wearable - All Regular & Exploratory  \n",
       "**Train/Test**: Subject 1 -> Subject 2  \n",
       "**R2=0.763**"
      ],
      "text/plain": [
       "<IPython.core.display.Markdown object>"
      ]
     },
     "metadata": {},
     "output_type": "display_data"
    },
    {
     "data": {
      "text/markdown": [
       "---\n",
       "**Target**: TF_Pelvis_Moment_X_BWBH  \n",
       "**Features**: Recipe 5: Real Wearable - Insole Only  \n",
       "**Train/Test**: Subject 1 -> Subject 2  \n",
       "**R2=-1.839**"
      ],
      "text/plain": [
       "<IPython.core.display.Markdown object>"
      ]
     },
     "metadata": {},
     "output_type": "display_data"
    },
    {
     "data": {
      "text/markdown": [
       "---\n",
       "**Target**: TF_Pelvis_Moment_X_BWBH  \n",
       "**Features**: Recipe 6: Real Wearable - Trunk Orientatoin Only  \n",
       "**Train/Test**: Subject 1 -> Subject 2  \n",
       "**R2=0.629**"
      ],
      "text/plain": [
       "<IPython.core.display.Markdown object>"
      ]
     },
     "metadata": {},
     "output_type": "display_data"
    },
    {
     "data": {
      "text/markdown": [
       "---\n",
       "**Target**: TF_Pelvis_Moment_X_BWBH  \n",
       "**Features**: Recipe 7: Real Wearable - Insole & Trunk Orientation  \n",
       "**Train/Test**: Subject 1 -> Subject 2  \n",
       "**R2=0.706**"
      ],
      "text/plain": [
       "<IPython.core.display.Markdown object>"
      ]
     },
     "metadata": {},
     "output_type": "display_data"
    },
    {
     "data": {
      "text/markdown": [
       "---\n",
       "**Target**: TF_Pelvis_Moment_X_BWBH  \n",
       "**Features**: Recipe 8: Real Wearable - Insole & Hip Angles & Trunk Orientation  \n",
       "**Train/Test**: Subject 1 -> Subject 2  \n",
       "**R2=0.717**"
      ],
      "text/plain": [
       "<IPython.core.display.Markdown object>"
      ]
     },
     "metadata": {},
     "output_type": "display_data"
    },
    {
     "data": {
      "text/markdown": [
       "---\n",
       "**Target**: TF_Pelvis_Moment_X_BWBH  \n",
       "**Features**: Recipe 1: Simulated Wearable - All Regular  \n",
       "**Train/Test**: Subject 2 -> Subject 1  \n",
       "**R2=0.853**"
      ],
      "text/plain": [
       "<IPython.core.display.Markdown object>"
      ]
     },
     "metadata": {},
     "output_type": "display_data"
    },
    {
     "data": {
      "text/markdown": [
       "---\n",
       "**Target**: TF_Pelvis_Moment_X_BWBH  \n",
       "**Features**: Recipe 2: Simulated Wearable - All Regular & Exploratory  \n",
       "**Train/Test**: Subject 2 -> Subject 1  \n",
       "**R2=0.895**"
      ],
      "text/plain": [
       "<IPython.core.display.Markdown object>"
      ]
     },
     "metadata": {},
     "output_type": "display_data"
    },
    {
     "data": {
      "text/markdown": [
       "---\n",
       "**Target**: TF_Pelvis_Moment_X_BWBH  \n",
       "**Features**: Recipe 3: Real Wearable - All Regular  \n",
       "**Train/Test**: Subject 2 -> Subject 1  \n",
       "**R2=0.630**"
      ],
      "text/plain": [
       "<IPython.core.display.Markdown object>"
      ]
     },
     "metadata": {},
     "output_type": "display_data"
    },
    {
     "data": {
      "text/markdown": [
       "---\n",
       "**Target**: TF_Pelvis_Moment_X_BWBH  \n",
       "**Features**: Recipe 4: Real Wearable - All Regular & Exploratory  \n",
       "**Train/Test**: Subject 2 -> Subject 1  \n",
       "**R2=0.062**"
      ],
      "text/plain": [
       "<IPython.core.display.Markdown object>"
      ]
     },
     "metadata": {},
     "output_type": "display_data"
    },
    {
     "data": {
      "text/markdown": [
       "---\n",
       "**Target**: TF_Pelvis_Moment_X_BWBH  \n",
       "**Features**: Recipe 5: Real Wearable - Insole Only  \n",
       "**Train/Test**: Subject 2 -> Subject 1  \n",
       "**R2=-7.939**"
      ],
      "text/plain": [
       "<IPython.core.display.Markdown object>"
      ]
     },
     "metadata": {},
     "output_type": "display_data"
    },
    {
     "data": {
      "text/markdown": [
       "---\n",
       "**Target**: TF_Pelvis_Moment_X_BWBH  \n",
       "**Features**: Recipe 6: Real Wearable - Trunk Orientatoin Only  \n",
       "**Train/Test**: Subject 2 -> Subject 1  \n",
       "**R2=0.655**"
      ],
      "text/plain": [
       "<IPython.core.display.Markdown object>"
      ]
     },
     "metadata": {},
     "output_type": "display_data"
    },
    {
     "data": {
      "text/markdown": [
       "---\n",
       "**Target**: TF_Pelvis_Moment_X_BWBH  \n",
       "**Features**: Recipe 7: Real Wearable - Insole & Trunk Orientation  \n",
       "**Train/Test**: Subject 2 -> Subject 1  \n",
       "**R2=0.021**"
      ],
      "text/plain": [
       "<IPython.core.display.Markdown object>"
      ]
     },
     "metadata": {},
     "output_type": "display_data"
    },
    {
     "data": {
      "text/markdown": [
       "---\n",
       "**Target**: TF_Pelvis_Moment_X_BWBH  \n",
       "**Features**: Recipe 8: Real Wearable - Insole & Hip Angles & Trunk Orientation  \n",
       "**Train/Test**: Subject 2 -> Subject 1  \n",
       "**R2=0.271**"
      ],
      "text/plain": [
       "<IPython.core.display.Markdown object>"
      ]
     },
     "metadata": {},
     "output_type": "display_data"
    },
    {
     "data": {
      "text/markdown": [
       "---\n",
       "**Target**: TF_Pelvis_Moment_X_BWBH  \n",
       "**Features**: Recipe 1: Simulated Wearable - All Regular  \n",
       "**Train/Test**: Subject 1 -> Subject 3  \n",
       "**R2=0.869**"
      ],
      "text/plain": [
       "<IPython.core.display.Markdown object>"
      ]
     },
     "metadata": {},
     "output_type": "display_data"
    },
    {
     "data": {
      "text/markdown": [
       "---\n",
       "**Target**: TF_Pelvis_Moment_X_BWBH  \n",
       "**Features**: Recipe 2: Simulated Wearable - All Regular & Exploratory  \n",
       "**Train/Test**: Subject 1 -> Subject 3  \n",
       "**R2=0.919**"
      ],
      "text/plain": [
       "<IPython.core.display.Markdown object>"
      ]
     },
     "metadata": {},
     "output_type": "display_data"
    },
    {
     "data": {
      "text/markdown": [
       "---\n",
       "**Target**: TF_Pelvis_Moment_X_BWBH  \n",
       "**Features**: Recipe 3: Real Wearable - All Regular  \n",
       "**Train/Test**: Subject 1 -> Subject 3  \n",
       "**R2=0.716**"
      ],
      "text/plain": [
       "<IPython.core.display.Markdown object>"
      ]
     },
     "metadata": {},
     "output_type": "display_data"
    },
    {
     "data": {
      "text/markdown": [
       "---\n",
       "**Target**: TF_Pelvis_Moment_X_BWBH  \n",
       "**Features**: Recipe 4: Real Wearable - All Regular & Exploratory  \n",
       "**Train/Test**: Subject 1 -> Subject 3  \n",
       "**R2=0.721**"
      ],
      "text/plain": [
       "<IPython.core.display.Markdown object>"
      ]
     },
     "metadata": {},
     "output_type": "display_data"
    },
    {
     "data": {
      "text/markdown": [
       "---\n",
       "**Target**: TF_Pelvis_Moment_X_BWBH  \n",
       "**Features**: Recipe 5: Real Wearable - Insole Only  \n",
       "**Train/Test**: Subject 1 -> Subject 3  \n",
       "**R2=-1.249**"
      ],
      "text/plain": [
       "<IPython.core.display.Markdown object>"
      ]
     },
     "metadata": {},
     "output_type": "display_data"
    },
    {
     "data": {
      "text/markdown": [
       "---\n",
       "**Target**: TF_Pelvis_Moment_X_BWBH  \n",
       "**Features**: Recipe 6: Real Wearable - Trunk Orientatoin Only  \n",
       "**Train/Test**: Subject 1 -> Subject 3  \n",
       "**R2=0.729**"
      ],
      "text/plain": [
       "<IPython.core.display.Markdown object>"
      ]
     },
     "metadata": {},
     "output_type": "display_data"
    },
    {
     "data": {
      "text/markdown": [
       "---\n",
       "**Target**: TF_Pelvis_Moment_X_BWBH  \n",
       "**Features**: Recipe 7: Real Wearable - Insole & Trunk Orientation  \n",
       "**Train/Test**: Subject 1 -> Subject 3  \n",
       "**R2=0.748**"
      ],
      "text/plain": [
       "<IPython.core.display.Markdown object>"
      ]
     },
     "metadata": {},
     "output_type": "display_data"
    },
    {
     "data": {
      "text/markdown": [
       "---\n",
       "**Target**: TF_Pelvis_Moment_X_BWBH  \n",
       "**Features**: Recipe 8: Real Wearable - Insole & Hip Angles & Trunk Orientation  \n",
       "**Train/Test**: Subject 1 -> Subject 3  \n",
       "**R2=0.702**"
      ],
      "text/plain": [
       "<IPython.core.display.Markdown object>"
      ]
     },
     "metadata": {},
     "output_type": "display_data"
    },
    {
     "data": {
      "text/markdown": [
       "---\n",
       "**Target**: TF_Pelvis_Moment_X_BWBH  \n",
       "**Features**: Recipe 1: Simulated Wearable - All Regular  \n",
       "**Train/Test**: Subject 3 -> Subject 1  \n",
       "**R2=0.817**"
      ],
      "text/plain": [
       "<IPython.core.display.Markdown object>"
      ]
     },
     "metadata": {},
     "output_type": "display_data"
    },
    {
     "data": {
      "text/markdown": [
       "---\n",
       "**Target**: TF_Pelvis_Moment_X_BWBH  \n",
       "**Features**: Recipe 2: Simulated Wearable - All Regular & Exploratory  \n",
       "**Train/Test**: Subject 3 -> Subject 1  \n",
       "**R2=0.851**"
      ],
      "text/plain": [
       "<IPython.core.display.Markdown object>"
      ]
     },
     "metadata": {},
     "output_type": "display_data"
    },
    {
     "data": {
      "text/markdown": [
       "---\n",
       "**Target**: TF_Pelvis_Moment_X_BWBH  \n",
       "**Features**: Recipe 3: Real Wearable - All Regular  \n",
       "**Train/Test**: Subject 3 -> Subject 1  \n",
       "**R2=0.326**"
      ],
      "text/plain": [
       "<IPython.core.display.Markdown object>"
      ]
     },
     "metadata": {},
     "output_type": "display_data"
    },
    {
     "data": {
      "text/markdown": [
       "---\n",
       "**Target**: TF_Pelvis_Moment_X_BWBH  \n",
       "**Features**: Recipe 4: Real Wearable - All Regular & Exploratory  \n",
       "**Train/Test**: Subject 3 -> Subject 1  \n",
       "**R2=0.397**"
      ],
      "text/plain": [
       "<IPython.core.display.Markdown object>"
      ]
     },
     "metadata": {},
     "output_type": "display_data"
    },
    {
     "data": {
      "text/markdown": [
       "---\n",
       "**Target**: TF_Pelvis_Moment_X_BWBH  \n",
       "**Features**: Recipe 5: Real Wearable - Insole Only  \n",
       "**Train/Test**: Subject 3 -> Subject 1  \n",
       "**R2=-2.215**"
      ],
      "text/plain": [
       "<IPython.core.display.Markdown object>"
      ]
     },
     "metadata": {},
     "output_type": "display_data"
    },
    {
     "data": {
      "text/markdown": [
       "---\n",
       "**Target**: TF_Pelvis_Moment_X_BWBH  \n",
       "**Features**: Recipe 6: Real Wearable - Trunk Orientatoin Only  \n",
       "**Train/Test**: Subject 3 -> Subject 1  \n",
       "**R2=0.406**"
      ],
      "text/plain": [
       "<IPython.core.display.Markdown object>"
      ]
     },
     "metadata": {},
     "output_type": "display_data"
    },
    {
     "data": {
      "text/markdown": [
       "---\n",
       "**Target**: TF_Pelvis_Moment_X_BWBH  \n",
       "**Features**: Recipe 7: Real Wearable - Insole & Trunk Orientation  \n",
       "**Train/Test**: Subject 3 -> Subject 1  \n",
       "**R2=0.468**"
      ],
      "text/plain": [
       "<IPython.core.display.Markdown object>"
      ]
     },
     "metadata": {},
     "output_type": "display_data"
    },
    {
     "data": {
      "text/markdown": [
       "---\n",
       "**Target**: TF_Pelvis_Moment_X_BWBH  \n",
       "**Features**: Recipe 8: Real Wearable - Insole & Hip Angles & Trunk Orientation  \n",
       "**Train/Test**: Subject 3 -> Subject 1  \n",
       "**R2=0.464**"
      ],
      "text/plain": [
       "<IPython.core.display.Markdown object>"
      ]
     },
     "metadata": {},
     "output_type": "display_data"
    },
    {
     "data": {
      "text/markdown": [
       "---\n",
       "**Target**: TF_Pelvis_Moment_X_BWBH  \n",
       "**Features**: Recipe 1: Simulated Wearable - All Regular  \n",
       "**Train/Test**: Subject 2 -> Subject 3  \n",
       "**R2=0.839**"
      ],
      "text/plain": [
       "<IPython.core.display.Markdown object>"
      ]
     },
     "metadata": {},
     "output_type": "display_data"
    },
    {
     "data": {
      "text/markdown": [
       "---\n",
       "**Target**: TF_Pelvis_Moment_X_BWBH  \n",
       "**Features**: Recipe 2: Simulated Wearable - All Regular & Exploratory  \n",
       "**Train/Test**: Subject 2 -> Subject 3  \n",
       "**R2=0.839**"
      ],
      "text/plain": [
       "<IPython.core.display.Markdown object>"
      ]
     },
     "metadata": {},
     "output_type": "display_data"
    },
    {
     "data": {
      "text/markdown": [
       "---\n",
       "**Target**: TF_Pelvis_Moment_X_BWBH  \n",
       "**Features**: Recipe 3: Real Wearable - All Regular  \n",
       "**Train/Test**: Subject 2 -> Subject 3  \n",
       "**R2=0.780**"
      ],
      "text/plain": [
       "<IPython.core.display.Markdown object>"
      ]
     },
     "metadata": {},
     "output_type": "display_data"
    },
    {
     "data": {
      "text/markdown": [
       "---\n",
       "**Target**: TF_Pelvis_Moment_X_BWBH  \n",
       "**Features**: Recipe 4: Real Wearable - All Regular & Exploratory  \n",
       "**Train/Test**: Subject 2 -> Subject 3  \n",
       "**R2=0.670**"
      ],
      "text/plain": [
       "<IPython.core.display.Markdown object>"
      ]
     },
     "metadata": {},
     "output_type": "display_data"
    },
    {
     "data": {
      "text/markdown": [
       "---\n",
       "**Target**: TF_Pelvis_Moment_X_BWBH  \n",
       "**Features**: Recipe 5: Real Wearable - Insole Only  \n",
       "**Train/Test**: Subject 2 -> Subject 3  \n",
       "**R2=-2.989**"
      ],
      "text/plain": [
       "<IPython.core.display.Markdown object>"
      ]
     },
     "metadata": {},
     "output_type": "display_data"
    },
    {
     "data": {
      "text/markdown": [
       "---\n",
       "**Target**: TF_Pelvis_Moment_X_BWBH  \n",
       "**Features**: Recipe 6: Real Wearable - Trunk Orientatoin Only  \n",
       "**Train/Test**: Subject 2 -> Subject 3  \n",
       "**R2=0.708**"
      ],
      "text/plain": [
       "<IPython.core.display.Markdown object>"
      ]
     },
     "metadata": {},
     "output_type": "display_data"
    },
    {
     "data": {
      "text/markdown": [
       "---\n",
       "**Target**: TF_Pelvis_Moment_X_BWBH  \n",
       "**Features**: Recipe 7: Real Wearable - Insole & Trunk Orientation  \n",
       "**Train/Test**: Subject 2 -> Subject 3  \n",
       "**R2=0.674**"
      ],
      "text/plain": [
       "<IPython.core.display.Markdown object>"
      ]
     },
     "metadata": {},
     "output_type": "display_data"
    },
    {
     "data": {
      "text/markdown": [
       "---\n",
       "**Target**: TF_Pelvis_Moment_X_BWBH  \n",
       "**Features**: Recipe 8: Real Wearable - Insole & Hip Angles & Trunk Orientation  \n",
       "**Train/Test**: Subject 2 -> Subject 3  \n",
       "**R2=0.687**"
      ],
      "text/plain": [
       "<IPython.core.display.Markdown object>"
      ]
     },
     "metadata": {},
     "output_type": "display_data"
    },
    {
     "data": {
      "text/markdown": [
       "---\n",
       "**Target**: TF_Pelvis_Moment_X_BWBH  \n",
       "**Features**: Recipe 1: Simulated Wearable - All Regular  \n",
       "**Train/Test**: Subject 3 -> Subject 2  \n",
       "**R2=0.689**"
      ],
      "text/plain": [
       "<IPython.core.display.Markdown object>"
      ]
     },
     "metadata": {},
     "output_type": "display_data"
    },
    {
     "data": {
      "text/markdown": [
       "---\n",
       "**Target**: TF_Pelvis_Moment_X_BWBH  \n",
       "**Features**: Recipe 2: Simulated Wearable - All Regular & Exploratory  \n",
       "**Train/Test**: Subject 3 -> Subject 2  \n",
       "**R2=0.780**"
      ],
      "text/plain": [
       "<IPython.core.display.Markdown object>"
      ]
     },
     "metadata": {},
     "output_type": "display_data"
    },
    {
     "data": {
      "text/markdown": [
       "---\n",
       "**Target**: TF_Pelvis_Moment_X_BWBH  \n",
       "**Features**: Recipe 3: Real Wearable - All Regular  \n",
       "**Train/Test**: Subject 3 -> Subject 2  \n",
       "**R2=0.591**"
      ],
      "text/plain": [
       "<IPython.core.display.Markdown object>"
      ]
     },
     "metadata": {},
     "output_type": "display_data"
    },
    {
     "data": {
      "text/markdown": [
       "---\n",
       "**Target**: TF_Pelvis_Moment_X_BWBH  \n",
       "**Features**: Recipe 4: Real Wearable - All Regular & Exploratory  \n",
       "**Train/Test**: Subject 3 -> Subject 2  \n",
       "**R2=0.573**"
      ],
      "text/plain": [
       "<IPython.core.display.Markdown object>"
      ]
     },
     "metadata": {},
     "output_type": "display_data"
    },
    {
     "data": {
      "text/markdown": [
       "---\n",
       "**Target**: TF_Pelvis_Moment_X_BWBH  \n",
       "**Features**: Recipe 5: Real Wearable - Insole Only  \n",
       "**Train/Test**: Subject 3 -> Subject 2  \n",
       "**R2=-3.971**"
      ],
      "text/plain": [
       "<IPython.core.display.Markdown object>"
      ]
     },
     "metadata": {},
     "output_type": "display_data"
    },
    {
     "data": {
      "text/markdown": [
       "---\n",
       "**Target**: TF_Pelvis_Moment_X_BWBH  \n",
       "**Features**: Recipe 6: Real Wearable - Trunk Orientatoin Only  \n",
       "**Train/Test**: Subject 3 -> Subject 2  \n",
       "**R2=0.510**"
      ],
      "text/plain": [
       "<IPython.core.display.Markdown object>"
      ]
     },
     "metadata": {},
     "output_type": "display_data"
    },
    {
     "data": {
      "text/markdown": [
       "---\n",
       "**Target**: TF_Pelvis_Moment_X_BWBH  \n",
       "**Features**: Recipe 7: Real Wearable - Insole & Trunk Orientation  \n",
       "**Train/Test**: Subject 3 -> Subject 2  \n",
       "**R2=0.590**"
      ],
      "text/plain": [
       "<IPython.core.display.Markdown object>"
      ]
     },
     "metadata": {},
     "output_type": "display_data"
    },
    {
     "data": {
      "text/markdown": [
       "---\n",
       "**Target**: TF_Pelvis_Moment_X_BWBH  \n",
       "**Features**: Recipe 8: Real Wearable - Insole & Hip Angles & Trunk Orientation  \n",
       "**Train/Test**: Subject 3 -> Subject 2  \n",
       "**R2=0.633**"
      ],
      "text/plain": [
       "<IPython.core.display.Markdown object>"
      ]
     },
     "metadata": {},
     "output_type": "display_data"
    }
   ],
   "source": [
    "r2_scores_X, predictions_X = run_experiments(\"TF_Pelvis_Moment_X_BWBH\", train_test_sets, color=\"steelblue\")"
   ]
  },
  {
   "cell_type": "markdown",
   "metadata": {},
   "source": [
    "## Estimating TF_Pelvis_Moment_Y_BWBH\n"
   ]
  },
  {
   "cell_type": "code",
   "execution_count": null,
   "metadata": {
    "scrolled": false
   },
   "outputs": [
    {
     "data": {
      "text/markdown": [
       "---\n",
       "**Target**: TF_Pelvis_Moment_Y_BWBH  \n",
       "**Features**: Recipe 1: Simulated Wearable - All Regular  \n",
       "**Train/Test**: Subject 1 & 2 -> Subject 3  \n",
       "**R2=0.900**"
      ],
      "text/plain": [
       "<IPython.core.display.Markdown object>"
      ]
     },
     "metadata": {},
     "output_type": "display_data"
    },
    {
     "data": {
      "text/markdown": [
       "---\n",
       "**Target**: TF_Pelvis_Moment_Y_BWBH  \n",
       "**Features**: Recipe 2: Simulated Wearable - All Regular & Exploratory  \n",
       "**Train/Test**: Subject 1 & 2 -> Subject 3  \n",
       "**R2=0.906**"
      ],
      "text/plain": [
       "<IPython.core.display.Markdown object>"
      ]
     },
     "metadata": {},
     "output_type": "display_data"
    },
    {
     "data": {
      "text/markdown": [
       "---\n",
       "**Target**: TF_Pelvis_Moment_Y_BWBH  \n",
       "**Features**: Recipe 3: Real Wearable - All Regular  \n",
       "**Train/Test**: Subject 1 & 2 -> Subject 3  \n",
       "**R2=0.722**"
      ],
      "text/plain": [
       "<IPython.core.display.Markdown object>"
      ]
     },
     "metadata": {},
     "output_type": "display_data"
    },
    {
     "data": {
      "text/markdown": [
       "---\n",
       "**Target**: TF_Pelvis_Moment_Y_BWBH  \n",
       "**Features**: Recipe 4: Real Wearable - All Regular & Exploratory  \n",
       "**Train/Test**: Subject 1 & 2 -> Subject 3  \n",
       "**R2=0.714**"
      ],
      "text/plain": [
       "<IPython.core.display.Markdown object>"
      ]
     },
     "metadata": {},
     "output_type": "display_data"
    },
    {
     "data": {
      "text/markdown": [
       "---\n",
       "**Target**: TF_Pelvis_Moment_Y_BWBH  \n",
       "**Features**: Recipe 5: Real Wearable - Insole Only  \n",
       "**Train/Test**: Subject 1 & 2 -> Subject 3  \n",
       "**R2=0.625**"
      ],
      "text/plain": [
       "<IPython.core.display.Markdown object>"
      ]
     },
     "metadata": {},
     "output_type": "display_data"
    },
    {
     "data": {
      "text/markdown": [
       "---\n",
       "**Target**: TF_Pelvis_Moment_Y_BWBH  \n",
       "**Features**: Recipe 6: Real Wearable - Trunk Orientatoin Only  \n",
       "**Train/Test**: Subject 1 & 2 -> Subject 3  \n",
       "**R2=0.502**"
      ],
      "text/plain": [
       "<IPython.core.display.Markdown object>"
      ]
     },
     "metadata": {},
     "output_type": "display_data"
    },
    {
     "data": {
      "text/markdown": [
       "---\n",
       "**Target**: TF_Pelvis_Moment_Y_BWBH  \n",
       "**Features**: Recipe 7: Real Wearable - Insole & Trunk Orientation  \n",
       "**Train/Test**: Subject 1 & 2 -> Subject 3  \n",
       "**R2=0.719**"
      ],
      "text/plain": [
       "<IPython.core.display.Markdown object>"
      ]
     },
     "metadata": {},
     "output_type": "display_data"
    },
    {
     "data": {
      "text/markdown": [
       "---\n",
       "**Target**: TF_Pelvis_Moment_Y_BWBH  \n",
       "**Features**: Recipe 8: Real Wearable - Insole & Hip Angles & Trunk Orientation  \n",
       "**Train/Test**: Subject 1 & 2 -> Subject 3  \n",
       "**R2=0.721**"
      ],
      "text/plain": [
       "<IPython.core.display.Markdown object>"
      ]
     },
     "metadata": {},
     "output_type": "display_data"
    },
    {
     "data": {
      "text/markdown": [
       "---\n",
       "**Target**: TF_Pelvis_Moment_Y_BWBH  \n",
       "**Features**: Recipe 1: Simulated Wearable - All Regular  \n",
       "**Train/Test**: Subject 1 & 3 -> Subject 2  \n",
       "**R2=0.912**"
      ],
      "text/plain": [
       "<IPython.core.display.Markdown object>"
      ]
     },
     "metadata": {},
     "output_type": "display_data"
    },
    {
     "data": {
      "text/markdown": [
       "---\n",
       "**Target**: TF_Pelvis_Moment_Y_BWBH  \n",
       "**Features**: Recipe 2: Simulated Wearable - All Regular & Exploratory  \n",
       "**Train/Test**: Subject 1 & 3 -> Subject 2  \n",
       "**R2=0.912**"
      ],
      "text/plain": [
       "<IPython.core.display.Markdown object>"
      ]
     },
     "metadata": {},
     "output_type": "display_data"
    },
    {
     "data": {
      "text/markdown": [
       "---\n",
       "**Target**: TF_Pelvis_Moment_Y_BWBH  \n",
       "**Features**: Recipe 3: Real Wearable - All Regular  \n",
       "**Train/Test**: Subject 1 & 3 -> Subject 2  \n",
       "**R2=0.730**"
      ],
      "text/plain": [
       "<IPython.core.display.Markdown object>"
      ]
     },
     "metadata": {},
     "output_type": "display_data"
    },
    {
     "data": {
      "text/markdown": [
       "---\n",
       "**Target**: TF_Pelvis_Moment_Y_BWBH  \n",
       "**Features**: Recipe 4: Real Wearable - All Regular & Exploratory  \n",
       "**Train/Test**: Subject 1 & 3 -> Subject 2  \n",
       "**R2=0.739**"
      ],
      "text/plain": [
       "<IPython.core.display.Markdown object>"
      ]
     },
     "metadata": {},
     "output_type": "display_data"
    },
    {
     "data": {
      "text/markdown": [
       "---\n",
       "**Target**: TF_Pelvis_Moment_Y_BWBH  \n",
       "**Features**: Recipe 5: Real Wearable - Insole Only  \n",
       "**Train/Test**: Subject 1 & 3 -> Subject 2  \n",
       "**R2=-0.003**"
      ],
      "text/plain": [
       "<IPython.core.display.Markdown object>"
      ]
     },
     "metadata": {},
     "output_type": "display_data"
    },
    {
     "data": {
      "text/markdown": [
       "---\n",
       "**Target**: TF_Pelvis_Moment_Y_BWBH  \n",
       "**Features**: Recipe 6: Real Wearable - Trunk Orientatoin Only  \n",
       "**Train/Test**: Subject 1 & 3 -> Subject 2  \n",
       "**R2=0.635**"
      ],
      "text/plain": [
       "<IPython.core.display.Markdown object>"
      ]
     },
     "metadata": {},
     "output_type": "display_data"
    },
    {
     "data": {
      "text/markdown": [
       "---\n",
       "**Target**: TF_Pelvis_Moment_Y_BWBH  \n",
       "**Features**: Recipe 7: Real Wearable - Insole & Trunk Orientation  \n",
       "**Train/Test**: Subject 1 & 3 -> Subject 2  \n",
       "**R2=0.637**"
      ],
      "text/plain": [
       "<IPython.core.display.Markdown object>"
      ]
     },
     "metadata": {},
     "output_type": "display_data"
    },
    {
     "data": {
      "text/markdown": [
       "---\n",
       "**Target**: TF_Pelvis_Moment_Y_BWBH  \n",
       "**Features**: Recipe 8: Real Wearable - Insole & Hip Angles & Trunk Orientation  \n",
       "**Train/Test**: Subject 1 & 3 -> Subject 2  \n",
       "**R2=0.645**"
      ],
      "text/plain": [
       "<IPython.core.display.Markdown object>"
      ]
     },
     "metadata": {},
     "output_type": "display_data"
    },
    {
     "data": {
      "text/markdown": [
       "---\n",
       "**Target**: TF_Pelvis_Moment_Y_BWBH  \n",
       "**Features**: Recipe 1: Simulated Wearable - All Regular  \n",
       "**Train/Test**: Subject 2 & 3 -> Subject 1  \n",
       "**R2=0.809**"
      ],
      "text/plain": [
       "<IPython.core.display.Markdown object>"
      ]
     },
     "metadata": {},
     "output_type": "display_data"
    },
    {
     "data": {
      "text/markdown": [
       "---\n",
       "**Target**: TF_Pelvis_Moment_Y_BWBH  \n",
       "**Features**: Recipe 2: Simulated Wearable - All Regular & Exploratory  \n",
       "**Train/Test**: Subject 2 & 3 -> Subject 1  \n",
       "**R2=0.826**"
      ],
      "text/plain": [
       "<IPython.core.display.Markdown object>"
      ]
     },
     "metadata": {},
     "output_type": "display_data"
    },
    {
     "data": {
      "text/markdown": [
       "---\n",
       "**Target**: TF_Pelvis_Moment_Y_BWBH  \n",
       "**Features**: Recipe 3: Real Wearable - All Regular  \n",
       "**Train/Test**: Subject 2 & 3 -> Subject 1  \n",
       "**R2=0.386**"
      ],
      "text/plain": [
       "<IPython.core.display.Markdown object>"
      ]
     },
     "metadata": {},
     "output_type": "display_data"
    },
    {
     "data": {
      "text/markdown": [
       "---\n",
       "**Target**: TF_Pelvis_Moment_Y_BWBH  \n",
       "**Features**: Recipe 4: Real Wearable - All Regular & Exploratory  \n",
       "**Train/Test**: Subject 2 & 3 -> Subject 1  \n",
       "**R2=0.388**"
      ],
      "text/plain": [
       "<IPython.core.display.Markdown object>"
      ]
     },
     "metadata": {},
     "output_type": "display_data"
    },
    {
     "data": {
      "text/markdown": [
       "---\n",
       "**Target**: TF_Pelvis_Moment_Y_BWBH  \n",
       "**Features**: Recipe 5: Real Wearable - Insole Only  \n",
       "**Train/Test**: Subject 2 & 3 -> Subject 1  \n",
       "**R2=-0.087**"
      ],
      "text/plain": [
       "<IPython.core.display.Markdown object>"
      ]
     },
     "metadata": {},
     "output_type": "display_data"
    },
    {
     "data": {
      "text/markdown": [
       "---\n",
       "**Target**: TF_Pelvis_Moment_Y_BWBH  \n",
       "**Features**: Recipe 6: Real Wearable - Trunk Orientatoin Only  \n",
       "**Train/Test**: Subject 2 & 3 -> Subject 1  \n",
       "**R2=0.326**"
      ],
      "text/plain": [
       "<IPython.core.display.Markdown object>"
      ]
     },
     "metadata": {},
     "output_type": "display_data"
    },
    {
     "data": {
      "text/markdown": [
       "---\n",
       "**Target**: TF_Pelvis_Moment_Y_BWBH  \n",
       "**Features**: Recipe 7: Real Wearable - Insole & Trunk Orientation  \n",
       "**Train/Test**: Subject 2 & 3 -> Subject 1  \n",
       "**R2=0.517**"
      ],
      "text/plain": [
       "<IPython.core.display.Markdown object>"
      ]
     },
     "metadata": {},
     "output_type": "display_data"
    },
    {
     "data": {
      "text/markdown": [
       "---\n",
       "**Target**: TF_Pelvis_Moment_Y_BWBH  \n",
       "**Features**: Recipe 8: Real Wearable - Insole & Hip Angles & Trunk Orientation  \n",
       "**Train/Test**: Subject 2 & 3 -> Subject 1  \n",
       "**R2=0.412**"
      ],
      "text/plain": [
       "<IPython.core.display.Markdown object>"
      ]
     },
     "metadata": {},
     "output_type": "display_data"
    },
    {
     "data": {
      "text/markdown": [
       "---\n",
       "**Target**: TF_Pelvis_Moment_Y_BWBH  \n",
       "**Features**: Recipe 1: Simulated Wearable - All Regular  \n",
       "**Train/Test**: Subject 1 -> Subject 2  \n",
       "**R2=0.903**"
      ],
      "text/plain": [
       "<IPython.core.display.Markdown object>"
      ]
     },
     "metadata": {},
     "output_type": "display_data"
    },
    {
     "data": {
      "text/markdown": [
       "---\n",
       "**Target**: TF_Pelvis_Moment_Y_BWBH  \n",
       "**Features**: Recipe 2: Simulated Wearable - All Regular & Exploratory  \n",
       "**Train/Test**: Subject 1 -> Subject 2  \n",
       "**R2=0.901**"
      ],
      "text/plain": [
       "<IPython.core.display.Markdown object>"
      ]
     },
     "metadata": {},
     "output_type": "display_data"
    },
    {
     "data": {
      "text/markdown": [
       "---\n",
       "**Target**: TF_Pelvis_Moment_Y_BWBH  \n",
       "**Features**: Recipe 3: Real Wearable - All Regular  \n",
       "**Train/Test**: Subject 1 -> Subject 2  \n",
       "**R2=0.726**"
      ],
      "text/plain": [
       "<IPython.core.display.Markdown object>"
      ]
     },
     "metadata": {},
     "output_type": "display_data"
    },
    {
     "data": {
      "text/markdown": [
       "---\n",
       "**Target**: TF_Pelvis_Moment_Y_BWBH  \n",
       "**Features**: Recipe 4: Real Wearable - All Regular & Exploratory  \n",
       "**Train/Test**: Subject 1 -> Subject 2  \n",
       "**R2=0.753**"
      ],
      "text/plain": [
       "<IPython.core.display.Markdown object>"
      ]
     },
     "metadata": {},
     "output_type": "display_data"
    },
    {
     "data": {
      "text/markdown": [
       "---\n",
       "**Target**: TF_Pelvis_Moment_Y_BWBH  \n",
       "**Features**: Recipe 5: Real Wearable - Insole Only  \n",
       "**Train/Test**: Subject 1 -> Subject 2  \n",
       "**R2=0.405**"
      ],
      "text/plain": [
       "<IPython.core.display.Markdown object>"
      ]
     },
     "metadata": {},
     "output_type": "display_data"
    },
    {
     "data": {
      "text/markdown": [
       "---\n",
       "**Target**: TF_Pelvis_Moment_Y_BWBH  \n",
       "**Features**: Recipe 6: Real Wearable - Trunk Orientatoin Only  \n",
       "**Train/Test**: Subject 1 -> Subject 2  \n",
       "**R2=0.577**"
      ],
      "text/plain": [
       "<IPython.core.display.Markdown object>"
      ]
     },
     "metadata": {},
     "output_type": "display_data"
    },
    {
     "data": {
      "text/markdown": [
       "---\n",
       "**Target**: TF_Pelvis_Moment_Y_BWBH  \n",
       "**Features**: Recipe 7: Real Wearable - Insole & Trunk Orientation  \n",
       "**Train/Test**: Subject 1 -> Subject 2  \n",
       "**R2=0.764**"
      ],
      "text/plain": [
       "<IPython.core.display.Markdown object>"
      ]
     },
     "metadata": {},
     "output_type": "display_data"
    },
    {
     "data": {
      "text/markdown": [
       "---\n",
       "**Target**: TF_Pelvis_Moment_Y_BWBH  \n",
       "**Features**: Recipe 8: Real Wearable - Insole & Hip Angles & Trunk Orientation  \n",
       "**Train/Test**: Subject 1 -> Subject 2  \n",
       "**R2=0.744**"
      ],
      "text/plain": [
       "<IPython.core.display.Markdown object>"
      ]
     },
     "metadata": {},
     "output_type": "display_data"
    },
    {
     "data": {
      "text/markdown": [
       "---\n",
       "**Target**: TF_Pelvis_Moment_Y_BWBH  \n",
       "**Features**: Recipe 1: Simulated Wearable - All Regular  \n",
       "**Train/Test**: Subject 2 -> Subject 1  \n",
       "**R2=0.843**"
      ],
      "text/plain": [
       "<IPython.core.display.Markdown object>"
      ]
     },
     "metadata": {},
     "output_type": "display_data"
    },
    {
     "data": {
      "text/markdown": [
       "---\n",
       "**Target**: TF_Pelvis_Moment_Y_BWBH  \n",
       "**Features**: Recipe 2: Simulated Wearable - All Regular & Exploratory  \n",
       "**Train/Test**: Subject 2 -> Subject 1  \n",
       "**R2=0.853**"
      ],
      "text/plain": [
       "<IPython.core.display.Markdown object>"
      ]
     },
     "metadata": {},
     "output_type": "display_data"
    },
    {
     "data": {
      "text/markdown": [
       "---\n",
       "**Target**: TF_Pelvis_Moment_Y_BWBH  \n",
       "**Features**: Recipe 3: Real Wearable - All Regular  \n",
       "**Train/Test**: Subject 2 -> Subject 1  \n",
       "**R2=-0.267**"
      ],
      "text/plain": [
       "<IPython.core.display.Markdown object>"
      ]
     },
     "metadata": {},
     "output_type": "display_data"
    },
    {
     "data": {
      "text/markdown": [
       "---\n",
       "**Target**: TF_Pelvis_Moment_Y_BWBH  \n",
       "**Features**: Recipe 4: Real Wearable - All Regular & Exploratory  \n",
       "**Train/Test**: Subject 2 -> Subject 1  \n",
       "**R2=-0.496**"
      ],
      "text/plain": [
       "<IPython.core.display.Markdown object>"
      ]
     },
     "metadata": {},
     "output_type": "display_data"
    },
    {
     "data": {
      "text/markdown": [
       "---\n",
       "**Target**: TF_Pelvis_Moment_Y_BWBH  \n",
       "**Features**: Recipe 5: Real Wearable - Insole Only  \n",
       "**Train/Test**: Subject 2 -> Subject 1  \n",
       "**R2=-1.093**"
      ],
      "text/plain": [
       "<IPython.core.display.Markdown object>"
      ]
     },
     "metadata": {},
     "output_type": "display_data"
    },
    {
     "data": {
      "text/markdown": [
       "---\n",
       "**Target**: TF_Pelvis_Moment_Y_BWBH  \n",
       "**Features**: Recipe 6: Real Wearable - Trunk Orientatoin Only  \n",
       "**Train/Test**: Subject 2 -> Subject 1  \n",
       "**R2=0.410**"
      ],
      "text/plain": [
       "<IPython.core.display.Markdown object>"
      ]
     },
     "metadata": {},
     "output_type": "display_data"
    },
    {
     "data": {
      "text/markdown": [
       "---\n",
       "**Target**: TF_Pelvis_Moment_Y_BWBH  \n",
       "**Features**: Recipe 7: Real Wearable - Insole & Trunk Orientation  \n",
       "**Train/Test**: Subject 2 -> Subject 1  \n",
       "**R2=-0.187**"
      ],
      "text/plain": [
       "<IPython.core.display.Markdown object>"
      ]
     },
     "metadata": {},
     "output_type": "display_data"
    },
    {
     "data": {
      "text/markdown": [
       "---\n",
       "**Target**: TF_Pelvis_Moment_Y_BWBH  \n",
       "**Features**: Recipe 8: Real Wearable - Insole & Hip Angles & Trunk Orientation  \n",
       "**Train/Test**: Subject 2 -> Subject 1  \n",
       "**R2=-0.482**"
      ],
      "text/plain": [
       "<IPython.core.display.Markdown object>"
      ]
     },
     "metadata": {},
     "output_type": "display_data"
    },
    {
     "data": {
      "text/markdown": [
       "---\n",
       "**Target**: TF_Pelvis_Moment_Y_BWBH  \n",
       "**Features**: Recipe 1: Simulated Wearable - All Regular  \n",
       "**Train/Test**: Subject 1 -> Subject 3  \n",
       "**R2=0.875**"
      ],
      "text/plain": [
       "<IPython.core.display.Markdown object>"
      ]
     },
     "metadata": {},
     "output_type": "display_data"
    },
    {
     "data": {
      "text/markdown": [
       "---\n",
       "**Target**: TF_Pelvis_Moment_Y_BWBH  \n",
       "**Features**: Recipe 2: Simulated Wearable - All Regular & Exploratory  \n",
       "**Train/Test**: Subject 1 -> Subject 3  \n",
       "**R2=0.876**"
      ],
      "text/plain": [
       "<IPython.core.display.Markdown object>"
      ]
     },
     "metadata": {},
     "output_type": "display_data"
    },
    {
     "data": {
      "text/markdown": [
       "---\n",
       "**Target**: TF_Pelvis_Moment_Y_BWBH  \n",
       "**Features**: Recipe 4: Real Wearable - All Regular & Exploratory  \n",
       "**Train/Test**: Subject 1 -> Subject 3  \n",
       "**R2=0.704**"
      ],
      "text/plain": [
       "<IPython.core.display.Markdown object>"
      ]
     },
     "metadata": {},
     "output_type": "display_data"
    },
    {
     "data": {
      "text/markdown": [
       "---\n",
       "**Target**: TF_Pelvis_Moment_Y_BWBH  \n",
       "**Features**: Recipe 5: Real Wearable - Insole Only  \n",
       "**Train/Test**: Subject 1 -> Subject 3  \n",
       "**R2=0.610**"
      ],
      "text/plain": [
       "<IPython.core.display.Markdown object>"
      ]
     },
     "metadata": {},
     "output_type": "display_data"
    },
    {
     "data": {
      "text/markdown": [
       "---\n",
       "**Target**: TF_Pelvis_Moment_Y_BWBH  \n",
       "**Features**: Recipe 6: Real Wearable - Trunk Orientatoin Only  \n",
       "**Train/Test**: Subject 1 -> Subject 3  \n",
       "**R2=0.422**"
      ],
      "text/plain": [
       "<IPython.core.display.Markdown object>"
      ]
     },
     "metadata": {},
     "output_type": "display_data"
    },
    {
     "data": {
      "text/markdown": [
       "---\n",
       "**Target**: TF_Pelvis_Moment_Y_BWBH  \n",
       "**Features**: Recipe 7: Real Wearable - Insole & Trunk Orientation  \n",
       "**Train/Test**: Subject 1 -> Subject 3  \n",
       "**R2=0.705**"
      ],
      "text/plain": [
       "<IPython.core.display.Markdown object>"
      ]
     },
     "metadata": {},
     "output_type": "display_data"
    },
    {
     "data": {
      "text/markdown": [
       "---\n",
       "**Target**: TF_Pelvis_Moment_Y_BWBH  \n",
       "**Features**: Recipe 8: Real Wearable - Insole & Hip Angles & Trunk Orientation  \n",
       "**Train/Test**: Subject 1 -> Subject 3  \n",
       "**R2=0.711**"
      ],
      "text/plain": [
       "<IPython.core.display.Markdown object>"
      ]
     },
     "metadata": {},
     "output_type": "display_data"
    },
    {
     "data": {
      "text/markdown": [
       "---\n",
       "**Target**: TF_Pelvis_Moment_Y_BWBH  \n",
       "**Features**: Recipe 1: Simulated Wearable - All Regular  \n",
       "**Train/Test**: Subject 3 -> Subject 1  \n",
       "**R2=0.566**"
      ],
      "text/plain": [
       "<IPython.core.display.Markdown object>"
      ]
     },
     "metadata": {},
     "output_type": "display_data"
    },
    {
     "data": {
      "text/markdown": [
       "---\n",
       "**Target**: TF_Pelvis_Moment_Y_BWBH  \n",
       "**Features**: Recipe 2: Simulated Wearable - All Regular & Exploratory  \n",
       "**Train/Test**: Subject 3 -> Subject 1  \n",
       "**R2=0.565**"
      ],
      "text/plain": [
       "<IPython.core.display.Markdown object>"
      ]
     },
     "metadata": {},
     "output_type": "display_data"
    },
    {
     "data": {
      "text/markdown": [
       "---\n",
       "**Target**: TF_Pelvis_Moment_Y_BWBH  \n",
       "**Features**: Recipe 3: Real Wearable - All Regular  \n",
       "**Train/Test**: Subject 3 -> Subject 1  \n",
       "**R2=0.368**"
      ],
      "text/plain": [
       "<IPython.core.display.Markdown object>"
      ]
     },
     "metadata": {},
     "output_type": "display_data"
    },
    {
     "data": {
      "text/markdown": [
       "---\n",
       "**Target**: TF_Pelvis_Moment_Y_BWBH  \n",
       "**Features**: Recipe 4: Real Wearable - All Regular & Exploratory  \n",
       "**Train/Test**: Subject 3 -> Subject 1  \n",
       "**R2=0.294**"
      ],
      "text/plain": [
       "<IPython.core.display.Markdown object>"
      ]
     },
     "metadata": {},
     "output_type": "display_data"
    },
    {
     "data": {
      "text/markdown": [
       "---\n",
       "**Target**: TF_Pelvis_Moment_Y_BWBH  \n",
       "**Features**: Recipe 5: Real Wearable - Insole Only  \n",
       "**Train/Test**: Subject 3 -> Subject 1  \n",
       "**R2=-0.234**"
      ],
      "text/plain": [
       "<IPython.core.display.Markdown object>"
      ]
     },
     "metadata": {},
     "output_type": "display_data"
    },
    {
     "data": {
      "text/markdown": [
       "---\n",
       "**Target**: TF_Pelvis_Moment_Y_BWBH  \n",
       "**Features**: Recipe 6: Real Wearable - Trunk Orientatoin Only  \n",
       "**Train/Test**: Subject 3 -> Subject 1  \n",
       "**R2=0.011**"
      ],
      "text/plain": [
       "<IPython.core.display.Markdown object>"
      ]
     },
     "metadata": {},
     "output_type": "display_data"
    },
    {
     "data": {
      "text/markdown": [
       "---\n",
       "**Target**: TF_Pelvis_Moment_Y_BWBH  \n",
       "**Features**: Recipe 7: Real Wearable - Insole & Trunk Orientation  \n",
       "**Train/Test**: Subject 3 -> Subject 1  \n",
       "**R2=0.450**"
      ],
      "text/plain": [
       "<IPython.core.display.Markdown object>"
      ]
     },
     "metadata": {},
     "output_type": "display_data"
    },
    {
     "data": {
      "text/markdown": [
       "---\n",
       "**Target**: TF_Pelvis_Moment_Y_BWBH  \n",
       "**Features**: Recipe 8: Real Wearable - Insole & Hip Angles & Trunk Orientation  \n",
       "**Train/Test**: Subject 3 -> Subject 1  \n",
       "**R2=0.292**"
      ],
      "text/plain": [
       "<IPython.core.display.Markdown object>"
      ]
     },
     "metadata": {},
     "output_type": "display_data"
    },
    {
     "data": {
      "text/markdown": [
       "---\n",
       "**Target**: TF_Pelvis_Moment_Y_BWBH  \n",
       "**Features**: Recipe 1: Simulated Wearable - All Regular  \n",
       "**Train/Test**: Subject 2 -> Subject 3  \n",
       "**R2=0.866**"
      ],
      "text/plain": [
       "<IPython.core.display.Markdown object>"
      ]
     },
     "metadata": {},
     "output_type": "display_data"
    },
    {
     "data": {
      "text/markdown": [
       "---\n",
       "**Target**: TF_Pelvis_Moment_Y_BWBH  \n",
       "**Features**: Recipe 2: Simulated Wearable - All Regular & Exploratory  \n",
       "**Train/Test**: Subject 2 -> Subject 3  \n",
       "**R2=0.872**"
      ],
      "text/plain": [
       "<IPython.core.display.Markdown object>"
      ]
     },
     "metadata": {},
     "output_type": "display_data"
    },
    {
     "data": {
      "text/markdown": [
       "---\n",
       "**Target**: TF_Pelvis_Moment_Y_BWBH  \n",
       "**Features**: Recipe 3: Real Wearable - All Regular  \n",
       "**Train/Test**: Subject 2 -> Subject 3  \n",
       "**R2=0.299**"
      ],
      "text/plain": [
       "<IPython.core.display.Markdown object>"
      ]
     },
     "metadata": {},
     "output_type": "display_data"
    },
    {
     "data": {
      "text/markdown": [
       "---\n",
       "**Target**: TF_Pelvis_Moment_Y_BWBH  \n",
       "**Features**: Recipe 4: Real Wearable - All Regular & Exploratory  \n",
       "**Train/Test**: Subject 2 -> Subject 3  \n",
       "**R2=0.339**"
      ],
      "text/plain": [
       "<IPython.core.display.Markdown object>"
      ]
     },
     "metadata": {},
     "output_type": "display_data"
    },
    {
     "data": {
      "text/markdown": [
       "---\n",
       "**Target**: TF_Pelvis_Moment_Y_BWBH  \n",
       "**Features**: Recipe 5: Real Wearable - Insole Only  \n",
       "**Train/Test**: Subject 2 -> Subject 3  \n",
       "**R2=0.311**"
      ],
      "text/plain": [
       "<IPython.core.display.Markdown object>"
      ]
     },
     "metadata": {},
     "output_type": "display_data"
    },
    {
     "data": {
      "text/markdown": [
       "---\n",
       "**Target**: TF_Pelvis_Moment_Y_BWBH  \n",
       "**Features**: Recipe 6: Real Wearable - Trunk Orientatoin Only  \n",
       "**Train/Test**: Subject 2 -> Subject 3  \n",
       "**R2=0.398**"
      ],
      "text/plain": [
       "<IPython.core.display.Markdown object>"
      ]
     },
     "metadata": {},
     "output_type": "display_data"
    },
    {
     "data": {
      "text/markdown": [
       "---\n",
       "**Target**: TF_Pelvis_Moment_Y_BWBH  \n",
       "**Features**: Recipe 7: Real Wearable - Insole & Trunk Orientation  \n",
       "**Train/Test**: Subject 2 -> Subject 3  \n",
       "**R2=0.399**"
      ],
      "text/plain": [
       "<IPython.core.display.Markdown object>"
      ]
     },
     "metadata": {},
     "output_type": "display_data"
    },
    {
     "data": {
      "text/markdown": [
       "---\n",
       "**Target**: TF_Pelvis_Moment_Y_BWBH  \n",
       "**Features**: Recipe 8: Real Wearable - Insole & Hip Angles & Trunk Orientation  \n",
       "**Train/Test**: Subject 2 -> Subject 3  \n",
       "**R2=0.290**"
      ],
      "text/plain": [
       "<IPython.core.display.Markdown object>"
      ]
     },
     "metadata": {},
     "output_type": "display_data"
    },
    {
     "data": {
      "text/markdown": [
       "---\n",
       "**Target**: TF_Pelvis_Moment_Y_BWBH  \n",
       "**Features**: Recipe 1: Simulated Wearable - All Regular  \n",
       "**Train/Test**: Subject 3 -> Subject 2  \n",
       "**R2=0.772**"
      ],
      "text/plain": [
       "<IPython.core.display.Markdown object>"
      ]
     },
     "metadata": {},
     "output_type": "display_data"
    },
    {
     "data": {
      "text/markdown": [
       "---\n",
       "**Target**: TF_Pelvis_Moment_Y_BWBH  \n",
       "**Features**: Recipe 2: Simulated Wearable - All Regular & Exploratory  \n",
       "**Train/Test**: Subject 3 -> Subject 2  \n",
       "**R2=0.775**"
      ],
      "text/plain": [
       "<IPython.core.display.Markdown object>"
      ]
     },
     "metadata": {},
     "output_type": "display_data"
    },
    {
     "data": {
      "text/markdown": [
       "---\n",
       "**Target**: TF_Pelvis_Moment_Y_BWBH  \n",
       "**Features**: Recipe 3: Real Wearable - All Regular  \n",
       "**Train/Test**: Subject 3 -> Subject 2  \n",
       "**R2=0.354**"
      ],
      "text/plain": [
       "<IPython.core.display.Markdown object>"
      ]
     },
     "metadata": {},
     "output_type": "display_data"
    },
    {
     "data": {
      "text/markdown": [
       "---\n",
       "**Target**: TF_Pelvis_Moment_Y_BWBH  \n",
       "**Features**: Recipe 4: Real Wearable - All Regular & Exploratory  \n",
       "**Train/Test**: Subject 3 -> Subject 2  \n",
       "**R2=0.300**"
      ],
      "text/plain": [
       "<IPython.core.display.Markdown object>"
      ]
     },
     "metadata": {},
     "output_type": "display_data"
    },
    {
     "data": {
      "text/markdown": [
       "---\n",
       "**Target**: TF_Pelvis_Moment_Y_BWBH  \n",
       "**Features**: Recipe 5: Real Wearable - Insole Only  \n",
       "**Train/Test**: Subject 3 -> Subject 2  \n",
       "**R2=-1.052**"
      ],
      "text/plain": [
       "<IPython.core.display.Markdown object>"
      ]
     },
     "metadata": {},
     "output_type": "display_data"
    },
    {
     "data": {
      "text/markdown": [
       "---\n",
       "**Target**: TF_Pelvis_Moment_Y_BWBH  \n",
       "**Features**: Recipe 6: Real Wearable - Trunk Orientatoin Only  \n",
       "**Train/Test**: Subject 3 -> Subject 2  \n",
       "**R2=0.413**"
      ],
      "text/plain": [
       "<IPython.core.display.Markdown object>"
      ]
     },
     "metadata": {},
     "output_type": "display_data"
    },
    {
     "data": {
      "text/markdown": [
       "---\n",
       "**Target**: TF_Pelvis_Moment_Y_BWBH  \n",
       "**Features**: Recipe 7: Real Wearable - Insole & Trunk Orientation  \n",
       "**Train/Test**: Subject 3 -> Subject 2  \n",
       "**R2=0.154**"
      ],
      "text/plain": [
       "<IPython.core.display.Markdown object>"
      ]
     },
     "metadata": {},
     "output_type": "display_data"
    },
    {
     "data": {
      "text/markdown": [
       "---\n",
       "**Target**: TF_Pelvis_Moment_Y_BWBH  \n",
       "**Features**: Recipe 8: Real Wearable - Insole & Hip Angles & Trunk Orientation  \n",
       "**Train/Test**: Subject 3 -> Subject 2  \n",
       "**R2=0.337**"
      ],
      "text/plain": [
       "<IPython.core.display.Markdown object>"
      ]
     },
     "metadata": {},
     "output_type": "display_data"
    }
   ],
   "source": [
    "r2_scores_Y, predictions_Y = run_experiments(\"TF_Pelvis_Moment_Y_BWBH\", train_test_sets, color=\"darkorange\")"
   ]
  },
  {
   "cell_type": "markdown",
   "metadata": {},
   "source": [
    "## Estimating TF_Pelvis_Moment_X_BWBH on a limited target range"
   ]
  },
  {
   "cell_type": "code",
   "execution_count": null,
   "metadata": {},
   "outputs": [
    {
     "name": "stdout",
     "output_type": "stream",
     "text": [
      "Subject 1 & 2 -> Subject 3_limited: 219052/100352 (46.9%/21.5%)\n",
      "Subject 1 & 3 -> Subject 2_limited: 213600/105804 (45.7%/22.7%)\n",
      "Subject 2 & 3 -> Subject 1_limited: 206156/113248 (44.1%/24.3%)\n",
      "Subject 1 -> Subject 2_limited: 113248/105804 (24.3%/22.7%)\n",
      "Subject 2 -> Subject 1_limited: 105804/113248 (22.7%/24.3%)\n",
      "Subject 1 -> Subject 3_limited: 113248/100352 (24.3%/21.5%)\n",
      "Subject 3 -> Subject 1_limited: 100352/113248 (21.5%/24.3%)\n",
      "Subject 2 -> Subject 3_limited: 105804/100352 (22.7%/21.5%)\n",
      "Subject 3 -> Subject 2_limited: 100352/105804 (21.5%/22.7%)\n"
     ]
    },
    {
     "data": {
      "text/markdown": [
       "---\n",
       "**Target**: TF_Pelvis_Moment_X_BWBH  \n",
       "**Features**: Recipe 1: Simulated Wearable - All Regular  \n",
       "**Train/Test**: Subject 1 & 2 -> Subject 3_limited  \n",
       "**R2=0.821**"
      ],
      "text/plain": [
       "<IPython.core.display.Markdown object>"
      ]
     },
     "metadata": {},
     "output_type": "display_data"
    },
    {
     "data": {
      "text/markdown": [
       "---\n",
       "**Target**: TF_Pelvis_Moment_X_BWBH  \n",
       "**Features**: Recipe 2: Simulated Wearable - All Regular & Exploratory  \n",
       "**Train/Test**: Subject 1 & 2 -> Subject 3_limited  \n",
       "**R2=0.825**"
      ],
      "text/plain": [
       "<IPython.core.display.Markdown object>"
      ]
     },
     "metadata": {},
     "output_type": "display_data"
    },
    {
     "data": {
      "text/markdown": [
       "---\n",
       "**Target**: TF_Pelvis_Moment_X_BWBH  \n",
       "**Features**: Recipe 3: Real Wearable - All Regular  \n",
       "**Train/Test**: Subject 1 & 2 -> Subject 3_limited  \n",
       "**R2=0.532**"
      ],
      "text/plain": [
       "<IPython.core.display.Markdown object>"
      ]
     },
     "metadata": {},
     "output_type": "display_data"
    },
    {
     "data": {
      "text/markdown": [
       "---\n",
       "**Target**: TF_Pelvis_Moment_X_BWBH  \n",
       "**Features**: Recipe 4: Real Wearable - All Regular & Exploratory  \n",
       "**Train/Test**: Subject 1 & 2 -> Subject 3_limited  \n",
       "**R2=0.520**"
      ],
      "text/plain": [
       "<IPython.core.display.Markdown object>"
      ]
     },
     "metadata": {},
     "output_type": "display_data"
    },
    {
     "data": {
      "text/markdown": [
       "---\n",
       "**Target**: TF_Pelvis_Moment_X_BWBH  \n",
       "**Features**: Recipe 5: Real Wearable - Insole Only  \n",
       "**Train/Test**: Subject 1 & 2 -> Subject 3_limited  \n",
       "**R2=-1.942**"
      ],
      "text/plain": [
       "<IPython.core.display.Markdown object>"
      ]
     },
     "metadata": {},
     "output_type": "display_data"
    },
    {
     "data": {
      "text/markdown": [
       "---\n",
       "**Target**: TF_Pelvis_Moment_X_BWBH  \n",
       "**Features**: Recipe 6: Real Wearable - Trunk Orientatoin Only  \n",
       "**Train/Test**: Subject 1 & 2 -> Subject 3_limited  \n",
       "**R2=0.498**"
      ],
      "text/plain": [
       "<IPython.core.display.Markdown object>"
      ]
     },
     "metadata": {},
     "output_type": "display_data"
    },
    {
     "data": {
      "text/markdown": [
       "---\n",
       "**Target**: TF_Pelvis_Moment_X_BWBH  \n",
       "**Features**: Recipe 7: Real Wearable - Insole & Trunk Orientation  \n",
       "**Train/Test**: Subject 1 & 2 -> Subject 3_limited  \n",
       "**R2=0.548**"
      ],
      "text/plain": [
       "<IPython.core.display.Markdown object>"
      ]
     },
     "metadata": {},
     "output_type": "display_data"
    },
    {
     "data": {
      "text/markdown": [
       "---\n",
       "**Target**: TF_Pelvis_Moment_X_BWBH  \n",
       "**Features**: Recipe 8: Real Wearable - Insole & Hip Angles & Trunk Orientation  \n",
       "**Train/Test**: Subject 1 & 2 -> Subject 3_limited  \n",
       "**R2=0.520**"
      ],
      "text/plain": [
       "<IPython.core.display.Markdown object>"
      ]
     },
     "metadata": {},
     "output_type": "display_data"
    },
    {
     "data": {
      "text/markdown": [
       "---\n",
       "**Target**: TF_Pelvis_Moment_X_BWBH  \n",
       "**Features**: Recipe 1: Simulated Wearable - All Regular  \n",
       "**Train/Test**: Subject 1 & 3 -> Subject 2_limited  \n",
       "**R2=0.554**"
      ],
      "text/plain": [
       "<IPython.core.display.Markdown object>"
      ]
     },
     "metadata": {},
     "output_type": "display_data"
    },
    {
     "data": {
      "text/markdown": [
       "---\n",
       "**Target**: TF_Pelvis_Moment_X_BWBH  \n",
       "**Features**: Recipe 2: Simulated Wearable - All Regular & Exploratory  \n",
       "**Train/Test**: Subject 1 & 3 -> Subject 2_limited  \n",
       "**R2=0.699**"
      ],
      "text/plain": [
       "<IPython.core.display.Markdown object>"
      ]
     },
     "metadata": {},
     "output_type": "display_data"
    },
    {
     "data": {
      "text/markdown": [
       "---\n",
       "**Target**: TF_Pelvis_Moment_X_BWBH  \n",
       "**Features**: Recipe 3: Real Wearable - All Regular  \n",
       "**Train/Test**: Subject 1 & 3 -> Subject 2_limited  \n",
       "**R2=0.556**"
      ],
      "text/plain": [
       "<IPython.core.display.Markdown object>"
      ]
     },
     "metadata": {},
     "output_type": "display_data"
    },
    {
     "data": {
      "text/markdown": [
       "---\n",
       "**Target**: TF_Pelvis_Moment_X_BWBH  \n",
       "**Features**: Recipe 4: Real Wearable - All Regular & Exploratory  \n",
       "**Train/Test**: Subject 1 & 3 -> Subject 2_limited  \n",
       "**R2=0.606**"
      ],
      "text/plain": [
       "<IPython.core.display.Markdown object>"
      ]
     },
     "metadata": {},
     "output_type": "display_data"
    },
    {
     "data": {
      "text/markdown": [
       "---\n",
       "**Target**: TF_Pelvis_Moment_X_BWBH  \n",
       "**Features**: Recipe 5: Real Wearable - Insole Only  \n",
       "**Train/Test**: Subject 1 & 3 -> Subject 2_limited  \n",
       "**R2=-3.314**"
      ],
      "text/plain": [
       "<IPython.core.display.Markdown object>"
      ]
     },
     "metadata": {},
     "output_type": "display_data"
    },
    {
     "data": {
      "text/markdown": [
       "---\n",
       "**Target**: TF_Pelvis_Moment_X_BWBH  \n",
       "**Features**: Recipe 6: Real Wearable - Trunk Orientatoin Only  \n",
       "**Train/Test**: Subject 1 & 3 -> Subject 2_limited  \n",
       "**R2=0.197**"
      ],
      "text/plain": [
       "<IPython.core.display.Markdown object>"
      ]
     },
     "metadata": {},
     "output_type": "display_data"
    },
    {
     "data": {
      "text/markdown": [
       "---\n",
       "**Target**: TF_Pelvis_Moment_X_BWBH  \n",
       "**Features**: Recipe 7: Real Wearable - Insole & Trunk Orientation  \n",
       "**Train/Test**: Subject 1 & 3 -> Subject 2_limited  \n",
       "**R2=0.547**"
      ],
      "text/plain": [
       "<IPython.core.display.Markdown object>"
      ]
     },
     "metadata": {},
     "output_type": "display_data"
    },
    {
     "data": {
      "text/markdown": [
       "---\n",
       "**Target**: TF_Pelvis_Moment_X_BWBH  \n",
       "**Features**: Recipe 8: Real Wearable - Insole & Hip Angles & Trunk Orientation  \n",
       "**Train/Test**: Subject 1 & 3 -> Subject 2_limited  \n",
       "**R2=0.549**"
      ],
      "text/plain": [
       "<IPython.core.display.Markdown object>"
      ]
     },
     "metadata": {},
     "output_type": "display_data"
    },
    {
     "data": {
      "text/markdown": [
       "---\n",
       "**Target**: TF_Pelvis_Moment_X_BWBH  \n",
       "**Features**: Recipe 1: Simulated Wearable - All Regular  \n",
       "**Train/Test**: Subject 2 & 3 -> Subject 1_limited  \n",
       "**R2=0.797**"
      ],
      "text/plain": [
       "<IPython.core.display.Markdown object>"
      ]
     },
     "metadata": {},
     "output_type": "display_data"
    },
    {
     "data": {
      "text/markdown": [
       "---\n",
       "**Target**: TF_Pelvis_Moment_X_BWBH  \n",
       "**Features**: Recipe 2: Simulated Wearable - All Regular & Exploratory  \n",
       "**Train/Test**: Subject 2 & 3 -> Subject 1_limited  \n",
       "**R2=0.854**"
      ],
      "text/plain": [
       "<IPython.core.display.Markdown object>"
      ]
     },
     "metadata": {},
     "output_type": "display_data"
    },
    {
     "data": {
      "text/markdown": [
       "---\n",
       "**Target**: TF_Pelvis_Moment_X_BWBH  \n",
       "**Features**: Recipe 3: Real Wearable - All Regular  \n",
       "**Train/Test**: Subject 2 & 3 -> Subject 1_limited  \n",
       "**R2=0.326**"
      ],
      "text/plain": [
       "<IPython.core.display.Markdown object>"
      ]
     },
     "metadata": {},
     "output_type": "display_data"
    },
    {
     "data": {
      "text/markdown": [
       "---\n",
       "**Target**: TF_Pelvis_Moment_X_BWBH  \n",
       "**Features**: Recipe 4: Real Wearable - All Regular & Exploratory  \n",
       "**Train/Test**: Subject 2 & 3 -> Subject 1_limited  \n",
       "**R2=0.169**"
      ],
      "text/plain": [
       "<IPython.core.display.Markdown object>"
      ]
     },
     "metadata": {},
     "output_type": "display_data"
    },
    {
     "data": {
      "text/markdown": [
       "---\n",
       "**Target**: TF_Pelvis_Moment_X_BWBH  \n",
       "**Features**: Recipe 5: Real Wearable - Insole Only  \n",
       "**Train/Test**: Subject 2 & 3 -> Subject 1_limited  \n",
       "**R2=-3.202**"
      ],
      "text/plain": [
       "<IPython.core.display.Markdown object>"
      ]
     },
     "metadata": {},
     "output_type": "display_data"
    },
    {
     "data": {
      "text/markdown": [
       "---\n",
       "**Target**: TF_Pelvis_Moment_X_BWBH  \n",
       "**Features**: Recipe 6: Real Wearable - Trunk Orientatoin Only  \n",
       "**Train/Test**: Subject 2 & 3 -> Subject 1_limited  \n",
       "**R2=0.362**"
      ],
      "text/plain": [
       "<IPython.core.display.Markdown object>"
      ]
     },
     "metadata": {},
     "output_type": "display_data"
    },
    {
     "data": {
      "text/markdown": [
       "---\n",
       "**Target**: TF_Pelvis_Moment_X_BWBH  \n",
       "**Features**: Recipe 7: Real Wearable - Insole & Trunk Orientation  \n",
       "**Train/Test**: Subject 2 & 3 -> Subject 1_limited  \n",
       "**R2=-0.027**"
      ],
      "text/plain": [
       "<IPython.core.display.Markdown object>"
      ]
     },
     "metadata": {},
     "output_type": "display_data"
    },
    {
     "data": {
      "text/markdown": [
       "---\n",
       "**Target**: TF_Pelvis_Moment_X_BWBH  \n",
       "**Features**: Recipe 8: Real Wearable - Insole & Hip Angles & Trunk Orientation  \n",
       "**Train/Test**: Subject 2 & 3 -> Subject 1_limited  \n",
       "**R2=0.172**"
      ],
      "text/plain": [
       "<IPython.core.display.Markdown object>"
      ]
     },
     "metadata": {},
     "output_type": "display_data"
    },
    {
     "data": {
      "text/markdown": [
       "---\n",
       "**Target**: TF_Pelvis_Moment_X_BWBH  \n",
       "**Features**: Recipe 1: Simulated Wearable - All Regular  \n",
       "**Train/Test**: Subject 1 -> Subject 2_limited  \n",
       "**R2=0.673**"
      ],
      "text/plain": [
       "<IPython.core.display.Markdown object>"
      ]
     },
     "metadata": {},
     "output_type": "display_data"
    },
    {
     "data": {
      "text/markdown": [
       "---\n",
       "**Target**: TF_Pelvis_Moment_X_BWBH  \n",
       "**Features**: Recipe 2: Simulated Wearable - All Regular & Exploratory  \n",
       "**Train/Test**: Subject 1 -> Subject 2_limited  \n",
       "**R2=0.787**"
      ],
      "text/plain": [
       "<IPython.core.display.Markdown object>"
      ]
     },
     "metadata": {},
     "output_type": "display_data"
    },
    {
     "data": {
      "text/markdown": [
       "---\n",
       "**Target**: TF_Pelvis_Moment_X_BWBH  \n",
       "**Features**: Recipe 3: Real Wearable - All Regular  \n",
       "**Train/Test**: Subject 1 -> Subject 2_limited  \n",
       "**R2=0.531**"
      ],
      "text/plain": [
       "<IPython.core.display.Markdown object>"
      ]
     },
     "metadata": {},
     "output_type": "display_data"
    },
    {
     "data": {
      "text/markdown": [
       "---\n",
       "**Target**: TF_Pelvis_Moment_X_BWBH  \n",
       "**Features**: Recipe 4: Real Wearable - All Regular & Exploratory  \n",
       "**Train/Test**: Subject 1 -> Subject 2_limited  \n",
       "**R2=0.547**"
      ],
      "text/plain": [
       "<IPython.core.display.Markdown object>"
      ]
     },
     "metadata": {},
     "output_type": "display_data"
    },
    {
     "data": {
      "text/markdown": [
       "---\n",
       "**Target**: TF_Pelvis_Moment_X_BWBH  \n",
       "**Features**: Recipe 5: Real Wearable - Insole Only  \n",
       "**Train/Test**: Subject 1 -> Subject 2_limited  \n",
       "**R2=-2.631**"
      ],
      "text/plain": [
       "<IPython.core.display.Markdown object>"
      ]
     },
     "metadata": {},
     "output_type": "display_data"
    },
    {
     "data": {
      "text/markdown": [
       "---\n",
       "**Target**: TF_Pelvis_Moment_X_BWBH  \n",
       "**Features**: Recipe 6: Real Wearable - Trunk Orientatoin Only  \n",
       "**Train/Test**: Subject 1 -> Subject 2_limited  \n",
       "**R2=0.206**"
      ],
      "text/plain": [
       "<IPython.core.display.Markdown object>"
      ]
     },
     "metadata": {},
     "output_type": "display_data"
    },
    {
     "data": {
      "text/markdown": [
       "---\n",
       "**Target**: TF_Pelvis_Moment_X_BWBH  \n",
       "**Features**: Recipe 7: Real Wearable - Insole & Trunk Orientation  \n",
       "**Train/Test**: Subject 1 -> Subject 2_limited  \n",
       "**R2=0.544**"
      ],
      "text/plain": [
       "<IPython.core.display.Markdown object>"
      ]
     },
     "metadata": {},
     "output_type": "display_data"
    },
    {
     "data": {
      "text/markdown": [
       "---\n",
       "**Target**: TF_Pelvis_Moment_X_BWBH  \n",
       "**Features**: Recipe 8: Real Wearable - Insole & Hip Angles & Trunk Orientation  \n",
       "**Train/Test**: Subject 1 -> Subject 2_limited  \n",
       "**R2=0.556**"
      ],
      "text/plain": [
       "<IPython.core.display.Markdown object>"
      ]
     },
     "metadata": {},
     "output_type": "display_data"
    },
    {
     "data": {
      "text/markdown": [
       "---\n",
       "**Target**: TF_Pelvis_Moment_X_BWBH  \n",
       "**Features**: Recipe 1: Simulated Wearable - All Regular  \n",
       "**Train/Test**: Subject 2 -> Subject 1_limited  \n",
       "**R2=0.722**"
      ],
      "text/plain": [
       "<IPython.core.display.Markdown object>"
      ]
     },
     "metadata": {},
     "output_type": "display_data"
    },
    {
     "data": {
      "text/markdown": [
       "---\n",
       "**Target**: TF_Pelvis_Moment_X_BWBH  \n",
       "**Features**: Recipe 2: Simulated Wearable - All Regular & Exploratory  \n",
       "**Train/Test**: Subject 2 -> Subject 1_limited  \n",
       "**R2=0.812**"
      ],
      "text/plain": [
       "<IPython.core.display.Markdown object>"
      ]
     },
     "metadata": {},
     "output_type": "display_data"
    },
    {
     "data": {
      "text/markdown": [
       "---\n",
       "**Target**: TF_Pelvis_Moment_X_BWBH  \n",
       "**Features**: Recipe 3: Real Wearable - All Regular  \n",
       "**Train/Test**: Subject 2 -> Subject 1_limited  \n",
       "**R2=0.301**"
      ],
      "text/plain": [
       "<IPython.core.display.Markdown object>"
      ]
     },
     "metadata": {},
     "output_type": "display_data"
    },
    {
     "data": {
      "text/markdown": [
       "---\n",
       "**Target**: TF_Pelvis_Moment_X_BWBH  \n",
       "**Features**: Recipe 4: Real Wearable - All Regular & Exploratory  \n",
       "**Train/Test**: Subject 2 -> Subject 1_limited  \n",
       "**R2=-0.835**"
      ],
      "text/plain": [
       "<IPython.core.display.Markdown object>"
      ]
     },
     "metadata": {},
     "output_type": "display_data"
    },
    {
     "data": {
      "text/markdown": [
       "---\n",
       "**Target**: TF_Pelvis_Moment_X_BWBH  \n",
       "**Features**: Recipe 5: Real Wearable - Insole Only  \n",
       "**Train/Test**: Subject 2 -> Subject 1_limited  \n",
       "**R2=-12.807**"
      ],
      "text/plain": [
       "<IPython.core.display.Markdown object>"
      ]
     },
     "metadata": {},
     "output_type": "display_data"
    },
    {
     "data": {
      "text/markdown": [
       "---\n",
       "**Target**: TF_Pelvis_Moment_X_BWBH  \n",
       "**Features**: Recipe 6: Real Wearable - Trunk Orientatoin Only  \n",
       "**Train/Test**: Subject 2 -> Subject 1_limited  \n",
       "**R2=0.441**"
      ],
      "text/plain": [
       "<IPython.core.display.Markdown object>"
      ]
     },
     "metadata": {},
     "output_type": "display_data"
    },
    {
     "data": {
      "text/markdown": [
       "---\n",
       "**Target**: TF_Pelvis_Moment_X_BWBH  \n",
       "**Features**: Recipe 7: Real Wearable - Insole & Trunk Orientation  \n",
       "**Train/Test**: Subject 2 -> Subject 1_limited  \n",
       "**R2=-0.947**"
      ],
      "text/plain": [
       "<IPython.core.display.Markdown object>"
      ]
     },
     "metadata": {},
     "output_type": "display_data"
    },
    {
     "data": {
      "text/markdown": [
       "---\n",
       "**Target**: TF_Pelvis_Moment_X_BWBH  \n",
       "**Features**: Recipe 8: Real Wearable - Insole & Hip Angles & Trunk Orientation  \n",
       "**Train/Test**: Subject 2 -> Subject 1_limited  \n",
       "**R2=-0.713**"
      ],
      "text/plain": [
       "<IPython.core.display.Markdown object>"
      ]
     },
     "metadata": {},
     "output_type": "display_data"
    },
    {
     "data": {
      "text/markdown": [
       "---\n",
       "**Target**: TF_Pelvis_Moment_X_BWBH  \n",
       "**Features**: Recipe 1: Simulated Wearable - All Regular  \n",
       "**Train/Test**: Subject 1 -> Subject 3_limited  \n",
       "**R2=0.800**"
      ],
      "text/plain": [
       "<IPython.core.display.Markdown object>"
      ]
     },
     "metadata": {},
     "output_type": "display_data"
    },
    {
     "data": {
      "text/markdown": [
       "---\n",
       "**Target**: TF_Pelvis_Moment_X_BWBH  \n",
       "**Features**: Recipe 2: Simulated Wearable - All Regular & Exploratory  \n",
       "**Train/Test**: Subject 1 -> Subject 3_limited  \n",
       "**R2=0.867**"
      ],
      "text/plain": [
       "<IPython.core.display.Markdown object>"
      ]
     },
     "metadata": {},
     "output_type": "display_data"
    },
    {
     "data": {
      "text/markdown": [
       "---\n",
       "**Target**: TF_Pelvis_Moment_X_BWBH  \n",
       "**Features**: Recipe 3: Real Wearable - All Regular  \n",
       "**Train/Test**: Subject 1 -> Subject 3_limited  \n",
       "**R2=0.455**"
      ],
      "text/plain": [
       "<IPython.core.display.Markdown object>"
      ]
     },
     "metadata": {},
     "output_type": "display_data"
    },
    {
     "data": {
      "text/markdown": [
       "---\n",
       "**Target**: TF_Pelvis_Moment_X_BWBH  \n",
       "**Features**: Recipe 4: Real Wearable - All Regular & Exploratory  \n",
       "**Train/Test**: Subject 1 -> Subject 3_limited  \n",
       "**R2=0.417**"
      ],
      "text/plain": [
       "<IPython.core.display.Markdown object>"
      ]
     },
     "metadata": {},
     "output_type": "display_data"
    },
    {
     "data": {
      "text/markdown": [
       "---\n",
       "**Target**: TF_Pelvis_Moment_X_BWBH  \n",
       "**Features**: Recipe 5: Real Wearable - Insole Only  \n",
       "**Train/Test**: Subject 1 -> Subject 3_limited  \n",
       "**R2=-1.540**"
      ],
      "text/plain": [
       "<IPython.core.display.Markdown object>"
      ]
     },
     "metadata": {},
     "output_type": "display_data"
    },
    {
     "data": {
      "text/markdown": [
       "---\n",
       "**Target**: TF_Pelvis_Moment_X_BWBH  \n",
       "**Features**: Recipe 6: Real Wearable - Trunk Orientatoin Only  \n",
       "**Train/Test**: Subject 1 -> Subject 3_limited  \n",
       "**R2=0.446**"
      ],
      "text/plain": [
       "<IPython.core.display.Markdown object>"
      ]
     },
     "metadata": {},
     "output_type": "display_data"
    },
    {
     "data": {
      "text/markdown": [
       "---\n",
       "**Target**: TF_Pelvis_Moment_X_BWBH  \n",
       "**Features**: Recipe 7: Real Wearable - Insole & Trunk Orientation  \n",
       "**Train/Test**: Subject 1 -> Subject 3_limited  \n",
       "**R2=0.506**"
      ],
      "text/plain": [
       "<IPython.core.display.Markdown object>"
      ]
     },
     "metadata": {},
     "output_type": "display_data"
    },
    {
     "data": {
      "text/markdown": [
       "---\n",
       "**Target**: TF_Pelvis_Moment_X_BWBH  \n",
       "**Features**: Recipe 8: Real Wearable - Insole & Hip Angles & Trunk Orientation  \n",
       "**Train/Test**: Subject 1 -> Subject 3_limited  \n",
       "**R2=0.493**"
      ],
      "text/plain": [
       "<IPython.core.display.Markdown object>"
      ]
     },
     "metadata": {},
     "output_type": "display_data"
    },
    {
     "data": {
      "text/markdown": [
       "---\n",
       "**Target**: TF_Pelvis_Moment_X_BWBH  \n",
       "**Features**: Recipe 1: Simulated Wearable - All Regular  \n",
       "**Train/Test**: Subject 3 -> Subject 1_limited  \n",
       "**R2=0.706**"
      ],
      "text/plain": [
       "<IPython.core.display.Markdown object>"
      ]
     },
     "metadata": {},
     "output_type": "display_data"
    },
    {
     "data": {
      "text/markdown": [
       "---\n",
       "**Target**: TF_Pelvis_Moment_X_BWBH  \n",
       "**Features**: Recipe 2: Simulated Wearable - All Regular & Exploratory  \n",
       "**Train/Test**: Subject 3 -> Subject 1_limited  \n",
       "**R2=0.762**"
      ],
      "text/plain": [
       "<IPython.core.display.Markdown object>"
      ]
     },
     "metadata": {},
     "output_type": "display_data"
    },
    {
     "data": {
      "text/markdown": [
       "---\n",
       "**Target**: TF_Pelvis_Moment_X_BWBH  \n",
       "**Features**: Recipe 3: Real Wearable - All Regular  \n",
       "**Train/Test**: Subject 3 -> Subject 1_limited  \n",
       "**R2=0.048**"
      ],
      "text/plain": [
       "<IPython.core.display.Markdown object>"
      ]
     },
     "metadata": {},
     "output_type": "display_data"
    },
    {
     "data": {
      "text/markdown": [
       "---\n",
       "**Target**: TF_Pelvis_Moment_X_BWBH  \n",
       "**Features**: Recipe 4: Real Wearable - All Regular & Exploratory  \n",
       "**Train/Test**: Subject 3 -> Subject 1_limited  \n",
       "**R2=0.066**"
      ],
      "text/plain": [
       "<IPython.core.display.Markdown object>"
      ]
     },
     "metadata": {},
     "output_type": "display_data"
    },
    {
     "data": {
      "text/markdown": [
       "---\n",
       "**Target**: TF_Pelvis_Moment_X_BWBH  \n",
       "**Features**: Recipe 5: Real Wearable - Insole Only  \n",
       "**Train/Test**: Subject 3 -> Subject 1_limited  \n",
       "**R2=-2.246**"
      ],
      "text/plain": [
       "<IPython.core.display.Markdown object>"
      ]
     },
     "metadata": {},
     "output_type": "display_data"
    },
    {
     "data": {
      "text/markdown": [
       "---\n",
       "**Target**: TF_Pelvis_Moment_X_BWBH  \n",
       "**Features**: Recipe 6: Real Wearable - Trunk Orientatoin Only  \n",
       "**Train/Test**: Subject 3 -> Subject 1_limited  \n",
       "**R2=-0.098**"
      ],
      "text/plain": [
       "<IPython.core.display.Markdown object>"
      ]
     },
     "metadata": {},
     "output_type": "display_data"
    },
    {
     "data": {
      "text/markdown": [
       "---\n",
       "**Target**: TF_Pelvis_Moment_X_BWBH  \n",
       "**Features**: Recipe 7: Real Wearable - Insole & Trunk Orientation  \n",
       "**Train/Test**: Subject 3 -> Subject 1_limited  \n",
       "**R2=-0.055**"
      ],
      "text/plain": [
       "<IPython.core.display.Markdown object>"
      ]
     },
     "metadata": {},
     "output_type": "display_data"
    },
    {
     "data": {
      "text/markdown": [
       "---\n",
       "**Target**: TF_Pelvis_Moment_X_BWBH  \n",
       "**Features**: Recipe 8: Real Wearable - Insole & Hip Angles & Trunk Orientation  \n",
       "**Train/Test**: Subject 3 -> Subject 1_limited  \n",
       "**R2=0.158**"
      ],
      "text/plain": [
       "<IPython.core.display.Markdown object>"
      ]
     },
     "metadata": {},
     "output_type": "display_data"
    },
    {
     "data": {
      "text/markdown": [
       "---\n",
       "**Target**: TF_Pelvis_Moment_X_BWBH  \n",
       "**Features**: Recipe 1: Simulated Wearable - All Regular  \n",
       "**Train/Test**: Subject 2 -> Subject 3_limited  \n",
       "**R2=0.731**"
      ],
      "text/plain": [
       "<IPython.core.display.Markdown object>"
      ]
     },
     "metadata": {},
     "output_type": "display_data"
    },
    {
     "data": {
      "text/markdown": [
       "---\n",
       "**Target**: TF_Pelvis_Moment_X_BWBH  \n",
       "**Features**: Recipe 2: Simulated Wearable - All Regular & Exploratory  \n",
       "**Train/Test**: Subject 2 -> Subject 3_limited  \n",
       "**R2=0.767**"
      ],
      "text/plain": [
       "<IPython.core.display.Markdown object>"
      ]
     },
     "metadata": {},
     "output_type": "display_data"
    },
    {
     "data": {
      "text/markdown": [
       "---\n",
       "**Target**: TF_Pelvis_Moment_X_BWBH  \n",
       "**Features**: Recipe 3: Real Wearable - All Regular  \n",
       "**Train/Test**: Subject 2 -> Subject 3_limited  \n",
       "**R2=0.640**"
      ],
      "text/plain": [
       "<IPython.core.display.Markdown object>"
      ]
     },
     "metadata": {},
     "output_type": "display_data"
    },
    {
     "data": {
      "text/markdown": [
       "---\n",
       "**Target**: TF_Pelvis_Moment_X_BWBH  \n",
       "**Features**: Recipe 4: Real Wearable - All Regular & Exploratory  \n",
       "**Train/Test**: Subject 2 -> Subject 3_limited  \n",
       "**R2=0.487**"
      ],
      "text/plain": [
       "<IPython.core.display.Markdown object>"
      ]
     },
     "metadata": {},
     "output_type": "display_data"
    },
    {
     "data": {
      "text/markdown": [
       "---\n",
       "**Target**: TF_Pelvis_Moment_X_BWBH  \n",
       "**Features**: Recipe 5: Real Wearable - Insole Only  \n",
       "**Train/Test**: Subject 2 -> Subject 3_limited  \n",
       "**R2=-5.904**"
      ],
      "text/plain": [
       "<IPython.core.display.Markdown object>"
      ]
     },
     "metadata": {},
     "output_type": "display_data"
    },
    {
     "data": {
      "text/markdown": [
       "---\n",
       "**Target**: TF_Pelvis_Moment_X_BWBH  \n",
       "**Features**: Recipe 6: Real Wearable - Trunk Orientatoin Only  \n",
       "**Train/Test**: Subject 2 -> Subject 3_limited  \n",
       "**R2=0.483**"
      ],
      "text/plain": [
       "<IPython.core.display.Markdown object>"
      ]
     },
     "metadata": {},
     "output_type": "display_data"
    },
    {
     "data": {
      "text/markdown": [
       "---\n",
       "**Target**: TF_Pelvis_Moment_X_BWBH  \n",
       "**Features**: Recipe 7: Real Wearable - Insole & Trunk Orientation  \n",
       "**Train/Test**: Subject 2 -> Subject 3_limited  \n",
       "**R2=0.303**"
      ],
      "text/plain": [
       "<IPython.core.display.Markdown object>"
      ]
     },
     "metadata": {},
     "output_type": "display_data"
    },
    {
     "data": {
      "text/markdown": [
       "---\n",
       "**Target**: TF_Pelvis_Moment_X_BWBH  \n",
       "**Features**: Recipe 8: Real Wearable - Insole & Hip Angles & Trunk Orientation  \n",
       "**Train/Test**: Subject 2 -> Subject 3_limited  \n",
       "**R2=0.284**"
      ],
      "text/plain": [
       "<IPython.core.display.Markdown object>"
      ]
     },
     "metadata": {},
     "output_type": "display_data"
    },
    {
     "data": {
      "text/markdown": [
       "---\n",
       "**Target**: TF_Pelvis_Moment_X_BWBH  \n",
       "**Features**: Recipe 1: Simulated Wearable - All Regular  \n",
       "**Train/Test**: Subject 3 -> Subject 2_limited  \n",
       "**R2=0.430**"
      ],
      "text/plain": [
       "<IPython.core.display.Markdown object>"
      ]
     },
     "metadata": {},
     "output_type": "display_data"
    },
    {
     "data": {
      "text/markdown": [
       "---\n",
       "**Target**: TF_Pelvis_Moment_X_BWBH  \n",
       "**Features**: Recipe 2: Simulated Wearable - All Regular & Exploratory  \n",
       "**Train/Test**: Subject 3 -> Subject 2_limited  \n",
       "**R2=0.577**"
      ],
      "text/plain": [
       "<IPython.core.display.Markdown object>"
      ]
     },
     "metadata": {},
     "output_type": "display_data"
    },
    {
     "data": {
      "text/markdown": [
       "---\n",
       "**Target**: TF_Pelvis_Moment_X_BWBH  \n",
       "**Features**: Recipe 3: Real Wearable - All Regular  \n",
       "**Train/Test**: Subject 3 -> Subject 2_limited  \n",
       "**R2=0.415**"
      ],
      "text/plain": [
       "<IPython.core.display.Markdown object>"
      ]
     },
     "metadata": {},
     "output_type": "display_data"
    },
    {
     "data": {
      "text/markdown": [
       "---\n",
       "**Target**: TF_Pelvis_Moment_X_BWBH  \n",
       "**Features**: Recipe 4: Real Wearable - All Regular & Exploratory  \n",
       "**Train/Test**: Subject 3 -> Subject 2_limited  \n",
       "**R2=0.590**"
      ],
      "text/plain": [
       "<IPython.core.display.Markdown object>"
      ]
     },
     "metadata": {},
     "output_type": "display_data"
    },
    {
     "data": {
      "text/markdown": [
       "---\n",
       "**Target**: TF_Pelvis_Moment_X_BWBH  \n",
       "**Features**: Recipe 5: Real Wearable - Insole Only  \n",
       "**Train/Test**: Subject 3 -> Subject 2_limited  \n",
       "**R2=-3.719**"
      ],
      "text/plain": [
       "<IPython.core.display.Markdown object>"
      ]
     },
     "metadata": {},
     "output_type": "display_data"
    },
    {
     "data": {
      "text/markdown": [
       "---\n",
       "**Target**: TF_Pelvis_Moment_X_BWBH  \n",
       "**Features**: Recipe 6: Real Wearable - Trunk Orientatoin Only  \n",
       "**Train/Test**: Subject 3 -> Subject 2_limited  \n",
       "**R2=0.005**"
      ],
      "text/plain": [
       "<IPython.core.display.Markdown object>"
      ]
     },
     "metadata": {},
     "output_type": "display_data"
    },
    {
     "data": {
      "text/markdown": [
       "---\n",
       "**Target**: TF_Pelvis_Moment_X_BWBH  \n",
       "**Features**: Recipe 7: Real Wearable - Insole & Trunk Orientation  \n",
       "**Train/Test**: Subject 3 -> Subject 2_limited  \n",
       "**R2=0.503**"
      ],
      "text/plain": [
       "<IPython.core.display.Markdown object>"
      ]
     },
     "metadata": {},
     "output_type": "display_data"
    },
    {
     "data": {
      "text/markdown": [
       "---\n",
       "**Target**: TF_Pelvis_Moment_X_BWBH  \n",
       "**Features**: Recipe 8: Real Wearable - Insole & Hip Angles & Trunk Orientation  \n",
       "**Train/Test**: Subject 3 -> Subject 2_limited  \n",
       "**R2=0.537**"
      ],
      "text/plain": [
       "<IPython.core.display.Markdown object>"
      ]
     },
     "metadata": {},
     "output_type": "display_data"
    }
   ],
   "source": [
    "train_test_sets_limited = {}\n",
    "for test_selector_name, (train_selector, test_selector) in train_test_selectors.items():\n",
    "    test_selector_name += \"_limited\"\n",
    "    #df_train, df_test = df[train_selector].dropna(), df[test_selector].dropna()\n",
    "    df_train, df_test = df[train_selector], df[test_selector]\n",
    "    df_train = df_train[df_train[\"TF_Pelvis_Moment_X_BWBH\"].between(-0.2, -0.02)]\n",
    "    df_test = df_test[df_test[\"TF_Pelvis_Moment_X_BWBH\"].between(-0.2, -0.02)]\n",
    "    train_test_sets_limited[test_selector_name] = (df_train, df_test)\n",
    "    print(f\"{test_selector_name}: {len(df_train)}/{len(df_test)} \"\n",
    "          f\"({len(df_train) / len(df):.1%}/{len(df_test) / len(df):.1%})\")\n",
    "    \n",
    "r2_scores_X_limited, predictions_X_limited = run_experiments(\"TF_Pelvis_Moment_X_BWBH\", train_test_sets_limited, color=\"green\")"
   ]
  },
  {
   "cell_type": "markdown",
   "metadata": {},
   "source": [
    "## Saving results"
   ]
  },
  {
   "cell_type": "code",
   "execution_count": null,
   "metadata": {},
   "outputs": [],
   "source": [
    "with pd.ExcelWriter('CPAC_S01_S02_S03_05_31_20 - Subject 1 Insole Issues.xlsx') as writer:\n",
    "    pd.DataFrame(r2_scores_X).to_excel(writer, sheet_name='TF_Pelvis_Moment_X_BWBH')\n",
    "    pd.DataFrame(r2_scores_X_limited).to_excel(writer, sheet_name='TF_Pelvis_Moment_X_BWBH_limited')\n",
    "    pd.DataFrame(r2_scores_Y).to_excel(writer, sheet_name='TF_Pelvis_Moment_Y_BWBH')"
   ]
  }
 ],
 "metadata": {
  "kernelspec": {
   "display_name": "conda_cpac",
   "language": "python",
   "name": "conda_cpac"
  },
  "language_info": {
   "codemirror_mode": {
    "name": "ipython",
    "version": 3
   },
   "file_extension": ".py",
   "mimetype": "text/x-python",
   "name": "python",
   "nbconvert_exporter": "python",
   "pygments_lexer": "ipython3",
   "version": "3.6.10"
  }
 },
 "nbformat": 4,
 "nbformat_minor": 4
}
