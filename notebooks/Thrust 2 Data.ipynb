{
 "cells": [
  {
   "cell_type": "markdown",
   "id": "50d6c04a",
   "metadata": {},
   "source": [
    "# Experiments with Thrust 2 datasets"
   ]
  },
  {
   "cell_type": "code",
   "execution_count": 40,
   "id": "755d6b09",
   "metadata": {},
   "outputs": [],
   "source": [
    "import numpy as np\n",
    "import pandas as pd\n",
    "from lazypredict.Supervised import LazyClassifier\n",
    "from joblib import parallel_backend"
   ]
  },
  {
   "cell_type": "code",
   "execution_count": 30,
   "id": "4c921448",
   "metadata": {},
   "outputs": [],
   "source": [
    "dfs = pd.read_excel(\"../data/Thrust 2 Data Collections/lifting_data_simplified.xlsx\",\n",
    "                    sheet_name=None, # read all sheets (-> dict of DataFrames)\n",
    "                   )"
   ]
  },
  {
   "cell_type": "markdown",
   "id": "08bb09c1",
   "metadata": {},
   "source": [
    "## Test/train and feature/target selection"
   ]
  },
  {
   "cell_type": "code",
   "execution_count": 42,
   "id": "f240bc6e",
   "metadata": {},
   "outputs": [],
   "source": [
    "def experiment(test_trial = \"trial1\", \n",
    "               target = \"rule1\",\n",
    "               features = slice(\"pelvis_ax\", None)):\n",
    "\n",
    "    df_train = pd.concat(\n",
    "        [df for trial, df in dfs.items() if trial not in test_trial],\n",
    "        ignore_index=True\n",
    "    )\n",
    "\n",
    "    df_test = pd.concat(\n",
    "        [df for trial, df in dfs.items() if trial in test_trial],\n",
    "        ignore_index=True\n",
    "    )\n",
    "\n",
    "\n",
    "    X_train, y_train = df_train.loc[:, features].values, df_train.loc[:, target].values\n",
    "    X_test, y_test = df_test.loc[:, features].values, df_test.loc[:, target].values\n",
    "    \n",
    "    clf = LazyClassifier(verbose=0, ignore_warnings=True, custom_metric=None)\n",
    "    with parallel_backend('threading', n_jobs=-1):\n",
    "        models, predictions = clf.fit(X_train, X_test, y_train, y_test)\n",
    "\n",
    "    return models, predictions"
   ]
  },
  {
   "cell_type": "markdown",
   "id": "05d81cca",
   "metadata": {},
   "source": [
    "## All features -> rule1"
   ]
  },
  {
   "cell_type": "code",
   "execution_count": 43,
   "id": "02ff6fc7",
   "metadata": {},
   "outputs": [
    {
     "name": "stderr",
     "output_type": "stream",
     "text": [
      "100%|██████████| 29/29 [1:42:05<00:00, 211.23s/it]   "
     ]
    },
    {
     "name": "stdout",
     "output_type": "stream",
     "text": [
      "                               Accuracy  Balanced Accuracy  ROC AUC  F1 Score  \\\n",
      "Model                                                                           \n",
      "SVC                                0.83               0.84     0.84      0.84   \n",
      "SGDClassifier                      0.86               0.83     0.83      0.86   \n",
      "LogisticRegression                 0.84               0.82     0.82      0.84   \n",
      "CalibratedClassifierCV             0.84               0.82     0.82      0.85   \n",
      "LGBMClassifier                     0.81               0.82     0.82      0.81   \n",
      "LinearSVC                          0.85               0.82     0.82      0.85   \n",
      "RandomForestClassifier             0.81               0.81     0.81      0.81   \n",
      "LinearDiscriminantAnalysis         0.85               0.81     0.81      0.85   \n",
      "RidgeClassifier                    0.85               0.81     0.81      0.85   \n",
      "RidgeClassifierCV                  0.85               0.81     0.81      0.85   \n",
      "XGBClassifier                      0.80               0.81     0.81      0.80   \n",
      "ExtraTreesClassifier               0.81               0.81     0.81      0.82   \n",
      "BaggingClassifier                  0.80               0.81     0.81      0.81   \n",
      "AdaBoostClassifier                 0.80               0.80     0.80      0.81   \n",
      "KNeighborsClassifier               0.81               0.80     0.80      0.81   \n",
      "DecisionTreeClassifier             0.77               0.79     0.79      0.78   \n",
      "NuSVC                              0.83               0.78     0.78      0.83   \n",
      "QuadraticDiscriminantAnalysis      0.78               0.78     0.78      0.78   \n",
      "GaussianNB                         0.77               0.76     0.76      0.78   \n",
      "ExtraTreeClassifier                0.76               0.76     0.76      0.76   \n",
      "Perceptron                         0.81               0.75     0.75      0.81   \n",
      "PassiveAggressiveClassifier        0.78               0.75     0.75      0.78   \n",
      "BernoulliNB                        0.76               0.68     0.68      0.75   \n",
      "NearestCentroid                    0.76               0.68     0.68      0.75   \n",
      "DummyClassifier                    0.57               0.50     0.50      0.57   \n",
      "\n",
      "                               Time Taken  \n",
      "Model                                      \n",
      "SVC                               1390.97  \n",
      "SGDClassifier                        1.54  \n",
      "LogisticRegression                   4.49  \n",
      "CalibratedClassifierCV             249.10  \n",
      "LGBMClassifier                       1.59  \n",
      "LinearSVC                           67.24  \n",
      "RandomForestClassifier               8.88  \n",
      "LinearDiscriminantAnalysis           1.87  \n",
      "RidgeClassifier                      0.86  \n",
      "RidgeClassifierCV                    1.44  \n",
      "XGBClassifier                        7.32  \n",
      "ExtraTreesClassifier                 1.79  \n",
      "BaggingClassifier                   15.90  \n",
      "AdaBoostClassifier                  71.83  \n",
      "KNeighborsClassifier               242.42  \n",
      "DecisionTreeClassifier              21.98  \n",
      "NuSVC                             4027.98  \n",
      "QuadraticDiscriminantAnalysis        1.17  \n",
      "GaussianNB                           0.71  \n",
      "ExtraTreeClassifier                  0.78  \n",
      "Perceptron                           1.17  \n",
      "PassiveAggressiveClassifier          1.12  \n",
      "BernoulliNB                          0.84  \n",
      "NearestCentroid                      0.67  \n",
      "DummyClassifier                      0.54  \n"
     ]
    },
    {
     "name": "stderr",
     "output_type": "stream",
     "text": [
      "\n"
     ]
    }
   ],
   "source": [
    "models, _ = experiment()\n",
    "print(models)"
   ]
  },
  {
   "cell_type": "markdown",
   "id": "27f855a5",
   "metadata": {},
   "source": [
    "## All features -> rule2"
   ]
  },
  {
   "cell_type": "code",
   "execution_count": 44,
   "id": "85fbe940",
   "metadata": {},
   "outputs": [
    {
     "name": "stderr",
     "output_type": "stream",
     "text": [
      "100%|██████████| 29/29 [1:39:53<00:00, 206.67s/it]   "
     ]
    },
    {
     "name": "stdout",
     "output_type": "stream",
     "text": [
      "                               Accuracy  Balanced Accuracy  ROC AUC  F1 Score  \\\n",
      "Model                                                                           \n",
      "SVC                                0.80               0.79     0.79      0.81   \n",
      "XGBClassifier                      0.77               0.76     0.76      0.78   \n",
      "SGDClassifier                      0.82               0.76     0.76      0.82   \n",
      "LGBMClassifier                     0.77               0.76     0.76      0.78   \n",
      "RandomForestClassifier             0.77               0.75     0.75      0.78   \n",
      "LogisticRegression                 0.81               0.74     0.74      0.81   \n",
      "CalibratedClassifierCV             0.81               0.74     0.74      0.81   \n",
      "LinearSVC                          0.81               0.74     0.74      0.81   \n",
      "LinearDiscriminantAnalysis         0.80               0.74     0.74      0.80   \n",
      "QuadraticDiscriminantAnalysis      0.73               0.74     0.74      0.74   \n",
      "ExtraTreesClassifier               0.77               0.74     0.74      0.78   \n",
      "BaggingClassifier                  0.75               0.74     0.74      0.76   \n",
      "RidgeClassifierCV                  0.81               0.73     0.73      0.81   \n",
      "RidgeClassifier                    0.81               0.73     0.73      0.81   \n",
      "NuSVC                              0.80               0.73     0.73      0.80   \n",
      "KNeighborsClassifier               0.76               0.72     0.72      0.77   \n",
      "AdaBoostClassifier                 0.75               0.72     0.72      0.76   \n",
      "GaussianNB                         0.69               0.72     0.72      0.71   \n",
      "DecisionTreeClassifier             0.71               0.71     0.71      0.73   \n",
      "Perceptron                         0.71               0.68     0.68      0.73   \n",
      "ExtraTreeClassifier                0.72               0.68     0.68      0.73   \n",
      "PassiveAggressiveClassifier        0.75               0.67     0.67      0.75   \n",
      "BernoulliNB                        0.72               0.67     0.67      0.73   \n",
      "NearestCentroid                    0.59               0.64     0.64      0.62   \n",
      "DummyClassifier                    0.62               0.50     0.50      0.62   \n",
      "\n",
      "                               Time Taken  \n",
      "Model                                      \n",
      "SVC                               1745.57  \n",
      "XGBClassifier                        7.10  \n",
      "SGDClassifier                        1.56  \n",
      "LGBMClassifier                       1.39  \n",
      "RandomForestClassifier               8.62  \n",
      "LogisticRegression                   3.78  \n",
      "CalibratedClassifierCV             295.65  \n",
      "LinearSVC                           78.76  \n",
      "LinearDiscriminantAnalysis           1.81  \n",
      "QuadraticDiscriminantAnalysis        1.19  \n",
      "ExtraTreesClassifier                 1.73  \n",
      "BaggingClassifier                   15.78  \n",
      "RidgeClassifierCV                    1.44  \n",
      "RidgeClassifier                      0.86  \n",
      "NuSVC                             3557.13  \n",
      "KNeighborsClassifier               170.53  \n",
      "AdaBoostClassifier                  71.89  \n",
      "GaussianNB                           0.73  \n",
      "DecisionTreeClassifier              21.32  \n",
      "Perceptron                           1.31  \n",
      "ExtraTreeClassifier                  0.78  \n",
      "PassiveAggressiveClassifier          1.14  \n",
      "BernoulliNB                          0.80  \n",
      "NearestCentroid                      0.68  \n",
      "DummyClassifier                      0.56  \n"
     ]
    },
    {
     "name": "stderr",
     "output_type": "stream",
     "text": [
      "\n"
     ]
    }
   ],
   "source": [
    "models, _ = experiment(target = \"rule2\")\n",
    "print(models)"
   ]
  },
  {
   "cell_type": "markdown",
   "id": "02e05ae7",
   "metadata": {},
   "source": [
    "## Accelerometer only -> rule1"
   ]
  },
  {
   "cell_type": "code",
   "execution_count": 45,
   "id": "af4908ea",
   "metadata": {},
   "outputs": [
    {
     "name": "stderr",
     "output_type": "stream",
     "text": [
      "100%|██████████| 29/29 [2:54:39<00:00, 361.36s/it]   "
     ]
    },
    {
     "name": "stdout",
     "output_type": "stream",
     "text": [
      "                               Accuracy  Balanced Accuracy  ROC AUC  F1 Score  \\\n",
      "Model                                                                           \n",
      "QuadraticDiscriminantAnalysis      0.68               0.67     0.67      0.69   \n",
      "GaussianNB                         0.68               0.66     0.66      0.69   \n",
      "XGBClassifier                      0.74               0.66     0.66      0.73   \n",
      "LGBMClassifier                     0.74               0.65     0.65      0.72   \n",
      "RandomForestClassifier             0.73               0.65     0.65      0.72   \n",
      "ExtraTreesClassifier               0.73               0.65     0.65      0.72   \n",
      "KNeighborsClassifier               0.72               0.64     0.64      0.71   \n",
      "AdaBoostClassifier                 0.73               0.64     0.64      0.71   \n",
      "NuSVC                              0.70               0.63     0.63      0.70   \n",
      "BaggingClassifier                  0.72               0.63     0.63      0.70   \n",
      "SVC                                0.68               0.62     0.62      0.68   \n",
      "DecisionTreeClassifier             0.68               0.61     0.61      0.67   \n",
      "ExtraTreeClassifier                0.68               0.61     0.61      0.67   \n",
      "NearestCentroid                    0.54               0.52     0.52      0.55   \n",
      "RidgeClassifier                    0.69               0.50     0.50      0.57   \n",
      "BernoulliNB                        0.69               0.50     0.50      0.57   \n",
      "SGDClassifier                      0.69               0.50     0.50      0.57   \n",
      "RidgeClassifierCV                  0.69               0.50     0.50      0.57   \n",
      "LogisticRegression                 0.69               0.50     0.50      0.57   \n",
      "CalibratedClassifierCV             0.69               0.50     0.50      0.57   \n",
      "LinearSVC                          0.69               0.50     0.50      0.57   \n",
      "LinearDiscriminantAnalysis         0.69               0.50     0.50      0.57   \n",
      "DummyClassifier                    0.57               0.50     0.50      0.57   \n",
      "Perceptron                         0.58               0.45     0.45      0.55   \n",
      "PassiveAggressiveClassifier        0.60               0.44     0.44      0.53   \n",
      "\n",
      "                               Time Taken  \n",
      "Model                                      \n",
      "QuadraticDiscriminantAnalysis        0.30  \n",
      "GaussianNB                           0.13  \n",
      "XGBClassifier                        5.53  \n",
      "LGBMClassifier                       0.70  \n",
      "RandomForestClassifier               2.32  \n",
      "ExtraTreesClassifier                 1.24  \n",
      "KNeighborsClassifier                 2.19  \n",
      "AdaBoostClassifier                   7.18  \n",
      "NuSVC                             9353.69  \n",
      "BaggingClassifier                    1.39  \n",
      "SVC                               1040.12  \n",
      "DecisionTreeClassifier               1.94  \n",
      "ExtraTreeClassifier                  0.28  \n",
      "NearestCentroid                      0.19  \n",
      "RidgeClassifier                      0.23  \n",
      "BernoulliNB                          0.20  \n",
      "SGDClassifier                        0.39  \n",
      "RidgeClassifierCV                    0.33  \n",
      "LogisticRegression                   0.30  \n",
      "CalibratedClassifierCV              47.19  \n",
      "LinearSVC                           12.34  \n",
      "LinearDiscriminantAnalysis           0.33  \n",
      "DummyClassifier                      0.12  \n",
      "Perceptron                           0.29  \n",
      "PassiveAggressiveClassifier          0.34  \n"
     ]
    },
    {
     "name": "stderr",
     "output_type": "stream",
     "text": [
      "\n"
     ]
    }
   ],
   "source": [
    "models, _ = experiment(\n",
    "    features = [\"pelvis_ax\", \"pelvis_ay\", \"pelvis_az\"]\n",
    ")\n",
    "print(models)"
   ]
  },
  {
   "cell_type": "markdown",
   "id": "5b3aca96",
   "metadata": {},
   "source": [
    "## Accelerometer only -> rule2"
   ]
  },
  {
   "cell_type": "code",
   "execution_count": 46,
   "id": "a74afba8",
   "metadata": {},
   "outputs": [
    {
     "name": "stderr",
     "output_type": "stream",
     "text": [
      "100%|██████████| 29/29 [2:37:23<00:00, 325.62s/it]   "
     ]
    },
    {
     "name": "stdout",
     "output_type": "stream",
     "text": [
      "                               Accuracy  Balanced Accuracy  ROC AUC  F1 Score  \\\n",
      "Model                                                                           \n",
      "QuadraticDiscriminantAnalysis      0.68               0.63     0.63      0.70   \n",
      "GaussianNB                         0.68               0.63     0.63      0.70   \n",
      "KNeighborsClassifier               0.73               0.59     0.59      0.71   \n",
      "LGBMClassifier                     0.75               0.59     0.59      0.72   \n",
      "XGBClassifier                      0.75               0.59     0.59      0.72   \n",
      "RandomForestClassifier             0.74               0.59     0.59      0.71   \n",
      "ExtraTreesClassifier               0.74               0.58     0.58      0.71   \n",
      "DecisionTreeClassifier             0.69               0.58     0.58      0.68   \n",
      "ExtraTreeClassifier                0.69               0.58     0.58      0.68   \n",
      "BaggingClassifier                  0.73               0.57     0.57      0.70   \n",
      "AdaBoostClassifier                 0.75               0.54     0.54      0.68   \n",
      "NuSVC                              0.63               0.51     0.51      0.63   \n",
      "NearestCentroid                    0.53               0.50     0.50      0.56   \n",
      "LinearSVC                          0.75               0.50     0.50      0.64   \n",
      "LinearDiscriminantAnalysis         0.75               0.50     0.50      0.64   \n",
      "CalibratedClassifierCV             0.75               0.50     0.50      0.64   \n",
      "RidgeClassifier                    0.75               0.50     0.50      0.64   \n",
      "RidgeClassifierCV                  0.75               0.50     0.50      0.64   \n",
      "SGDClassifier                      0.75               0.50     0.50      0.64   \n",
      "SVC                                0.75               0.50     0.50      0.64   \n",
      "BernoulliNB                        0.75               0.50     0.50      0.64   \n",
      "LogisticRegression                 0.75               0.50     0.50      0.64   \n",
      "DummyClassifier                    0.62               0.50     0.50      0.62   \n",
      "PassiveAggressiveClassifier        0.74               0.50     0.50      0.64   \n",
      "Perceptron                         0.47               0.49     0.49      0.50   \n",
      "\n",
      "                               Time Taken  \n",
      "Model                                      \n",
      "QuadraticDiscriminantAnalysis        0.21  \n",
      "GaussianNB                           0.13  \n",
      "KNeighborsClassifier                 2.29  \n",
      "LGBMClassifier                       0.53  \n",
      "XGBClassifier                        5.70  \n",
      "RandomForestClassifier               2.30  \n",
      "ExtraTreesClassifier                 1.19  \n",
      "DecisionTreeClassifier               1.89  \n",
      "ExtraTreeClassifier                  0.27  \n",
      "BaggingClassifier                    1.37  \n",
      "AdaBoostClassifier                   7.22  \n",
      "NuSVC                             6479.81  \n",
      "NearestCentroid                      0.20  \n",
      "LinearSVC                           20.22  \n",
      "LinearDiscriminantAnalysis           0.30  \n",
      "CalibratedClassifierCV              57.63  \n",
      "RidgeClassifier                      0.31  \n",
      "RidgeClassifierCV                    0.33  \n",
      "SGDClassifier                        0.36  \n",
      "SVC                               2859.43  \n",
      "BernoulliNB                          0.21  \n",
      "LogisticRegression                   0.30  \n",
      "DummyClassifier                      0.12  \n",
      "PassiveAggressiveClassifier          0.33  \n",
      "Perceptron                           0.34  \n"
     ]
    },
    {
     "name": "stderr",
     "output_type": "stream",
     "text": [
      "\n"
     ]
    }
   ],
   "source": [
    "models, _ = experiment(\n",
    "    target = \"rule2\",\n",
    "    features = [\"pelvis_ax\", \"pelvis_ay\", \"pelvis_az\"]\n",
    ")\n",
    "print(models)"
   ]
  }
 ],
 "metadata": {
  "kernelspec": {
   "display_name": "lazypredict",
   "language": "python",
   "name": "lazypredict"
  },
  "language_info": {
   "codemirror_mode": {
    "name": "ipython",
    "version": 3
   },
   "file_extension": ".py",
   "mimetype": "text/x-python",
   "name": "python",
   "nbconvert_exporter": "python",
   "pygments_lexer": "ipython3",
   "version": "3.8.10"
  }
 },
 "nbformat": 4,
 "nbformat_minor": 5
}
