{
 "cells": [
  {
   "cell_type": "markdown",
   "metadata": {},
   "source": [
    "# Evaluating multiple feature recipes on the CPAC_N7_09_15_20 dataset\n",
    "\n",
    "- **Model**: Gradient Boosted Trees (histogram-based)\n",
    "- **Target(s)**: `TF_Pelvis_Moment_X_BWBH` (`TF_Pelvis_Moment_Y_BWBH`)\n",
    "- **Features**: various (approx. 63 alternative _recipes_)\n",
    "- **Results**: $r^2$ scores, feature importances (permutation-based)\n",
    "- **Evaluation strategy**: cross-validation (leave one subject out)"
   ]
  },
  {
   "cell_type": "markdown",
   "metadata": {},
   "source": [
    "## Libraries"
   ]
  },
  {
   "cell_type": "code",
   "execution_count": 1,
   "metadata": {},
   "outputs": [],
   "source": [
    "# Standard library\n",
    "import warnings\n",
    "import os\n",
    "\n",
    "\n",
    "# Third party\n",
    "import numpy as np\n",
    "import pandas as pd\n",
    "import sklearn\n",
    "assert sklearn.__version__ >= \"0.21\", \"Use the conda_python3_latest kernel!\"\n",
    "from sklearn.experimental import enable_hist_gradient_boosting  # noqa\n",
    "from sklearn import (ensemble, metrics, preprocessing, \n",
    "                     pipeline, inspection, model_selection)\n",
    "\n",
    "from IPython.display import display, Markdown\n",
    "\n",
    "\n",
    "# Local\n",
    "import utils"
   ]
  },
  {
   "cell_type": "markdown",
   "metadata": {},
   "source": [
    "## Load Dataset"
   ]
  },
  {
   "cell_type": "code",
   "execution_count": 2,
   "metadata": {},
   "outputs": [
    {
     "data": {
      "text/html": [
       "<div>\n",
       "<style scoped>\n",
       "    .dataframe tbody tr th:only-of-type {\n",
       "        vertical-align: middle;\n",
       "    }\n",
       "\n",
       "    .dataframe tbody tr th {\n",
       "        vertical-align: top;\n",
       "    }\n",
       "\n",
       "    .dataframe thead th {\n",
       "        text-align: right;\n",
       "    }\n",
       "</style>\n",
       "<table border=\"1\" class=\"dataframe\">\n",
       "  <thead>\n",
       "    <tr style=\"text-align: right;\">\n",
       "      <th></th>\n",
       "      <th>M_Trial_Num</th>\n",
       "      <th>M_Mass</th>\n",
       "      <th>M_Mass_to_L5S1</th>\n",
       "      <th>M_sub_task_indices</th>\n",
       "      <th>M_sub_task_num</th>\n",
       "      <th>M_include_overall</th>\n",
       "      <th>M_Index</th>\n",
       "      <th>M_Sub</th>\n",
       "      <th>M_sub_task_num_overall</th>\n",
       "      <th>M_Index_overall</th>\n",
       "      <th>...</th>\n",
       "      <th>RWEO_03_04_00_00_INSOLE_LY_AP_threshF50_mm</th>\n",
       "      <th>RWEO_01_00_00_00_INSOLE_RFORCE_threshF50_N</th>\n",
       "      <th>RWEO_01_02_00_00_INSOLE_RX_ML_threshF50_mm</th>\n",
       "      <th>RWEO_01_02_00_00_INSOLE_RY_AP_threshF50_mm</th>\n",
       "      <th>RWEF_03_00_00_00_INSOLE_LFORCE_threshF50_BW</th>\n",
       "      <th>RWEF_03_04_00_00_INSOLE_LX_ML_threshF50_BH</th>\n",
       "      <th>RWEF_03_04_00_00_INSOLE_LY_AP_threshF50_BH</th>\n",
       "      <th>RWEF_01_00_00_00_INSOLE_RFORCE_threshF50_BW</th>\n",
       "      <th>RWEF_01_02_00_00_INSOLE_RX_ML_threshF50_BH</th>\n",
       "      <th>RWEF_01_02_00_00_INSOLE_RY_AP_threshF50_BH</th>\n",
       "    </tr>\n",
       "  </thead>\n",
       "  <tbody>\n",
       "    <tr>\n",
       "      <th>count</th>\n",
       "      <td>1.366326e+06</td>\n",
       "      <td>1.366326e+06</td>\n",
       "      <td>1.040590e+06</td>\n",
       "      <td>1.366326e+06</td>\n",
       "      <td>1.366326e+06</td>\n",
       "      <td>1.366326e+06</td>\n",
       "      <td>1.366326e+06</td>\n",
       "      <td>1.366326e+06</td>\n",
       "      <td>1.366326e+06</td>\n",
       "      <td>1.366326e+06</td>\n",
       "      <td>...</td>\n",
       "      <td>1.178199e+06</td>\n",
       "      <td>1.363161e+06</td>\n",
       "      <td>1.223529e+06</td>\n",
       "      <td>1.223529e+06</td>\n",
       "      <td>1.363161e+06</td>\n",
       "      <td>1.178199e+06</td>\n",
       "      <td>1.178199e+06</td>\n",
       "      <td>1.363161e+06</td>\n",
       "      <td>1.223529e+06</td>\n",
       "      <td>1.223529e+06</td>\n",
       "    </tr>\n",
       "    <tr>\n",
       "      <th>mean</th>\n",
       "      <td>6.907848e+01</td>\n",
       "      <td>1.059573e+01</td>\n",
       "      <td>3.126288e-01</td>\n",
       "      <td>2.912306e+02</td>\n",
       "      <td>5.583528e+00</td>\n",
       "      <td>8.073256e-01</td>\n",
       "      <td>2.716548e+03</td>\n",
       "      <td>3.855173e+00</td>\n",
       "      <td>2.384674e+02</td>\n",
       "      <td>8.848465e+04</td>\n",
       "      <td>...</td>\n",
       "      <td>1.216852e+02</td>\n",
       "      <td>3.945501e+02</td>\n",
       "      <td>4.903974e+01</td>\n",
       "      <td>1.334307e+02</td>\n",
       "      <td>6.155901e-01</td>\n",
       "      <td>2.797499e-02</td>\n",
       "      <td>6.701906e-02</td>\n",
       "      <td>6.472693e-01</td>\n",
       "      <td>2.697077e-02</td>\n",
       "      <td>7.335476e-02</td>\n",
       "    </tr>\n",
       "    <tr>\n",
       "      <th>std</th>\n",
       "      <td>2.360488e+01</td>\n",
       "      <td>5.886671e+00</td>\n",
       "      <td>1.644402e-01</td>\n",
       "      <td>3.589143e+02</td>\n",
       "      <td>4.895601e+00</td>\n",
       "      <td>3.943996e-01</td>\n",
       "      <td>2.598654e+03</td>\n",
       "      <td>1.998726e+00</td>\n",
       "      <td>1.246093e+02</td>\n",
       "      <td>6.576090e+04</td>\n",
       "      <td>...</td>\n",
       "      <td>5.277402e+01</td>\n",
       "      <td>2.768346e+02</td>\n",
       "      <td>8.572305e+00</td>\n",
       "      <td>4.881799e+01</td>\n",
       "      <td>5.533887e-01</td>\n",
       "      <td>5.171558e-03</td>\n",
       "      <td>2.932588e-02</td>\n",
       "      <td>5.626440e-01</td>\n",
       "      <td>4.770854e-03</td>\n",
       "      <td>2.717074e-02</td>\n",
       "    </tr>\n",
       "    <tr>\n",
       "      <th>min</th>\n",
       "      <td>1.000000e+00</td>\n",
       "      <td>0.000000e+00</td>\n",
       "      <td>5.026420e-02</td>\n",
       "      <td>1.000000e+00</td>\n",
       "      <td>1.000000e+00</td>\n",
       "      <td>0.000000e+00</td>\n",
       "      <td>1.000000e+00</td>\n",
       "      <td>1.000000e+00</td>\n",
       "      <td>1.000000e+00</td>\n",
       "      <td>-1.950165e-01</td>\n",
       "      <td>...</td>\n",
       "      <td>0.000000e+00</td>\n",
       "      <td>0.000000e+00</td>\n",
       "      <td>0.000000e+00</td>\n",
       "      <td>0.000000e+00</td>\n",
       "      <td>0.000000e+00</td>\n",
       "      <td>0.000000e+00</td>\n",
       "      <td>0.000000e+00</td>\n",
       "      <td>0.000000e+00</td>\n",
       "      <td>0.000000e+00</td>\n",
       "      <td>0.000000e+00</td>\n",
       "    </tr>\n",
       "    <tr>\n",
       "      <th>25%</th>\n",
       "      <td>4.900000e+01</td>\n",
       "      <td>5.000000e+00</td>\n",
       "      <td>1.602113e-01</td>\n",
       "      <td>1.160000e+02</td>\n",
       "      <td>1.000000e+00</td>\n",
       "      <td>1.000000e+00</td>\n",
       "      <td>5.950000e+02</td>\n",
       "      <td>2.000000e+00</td>\n",
       "      <td>1.280000e+02</td>\n",
       "      <td>2.824900e+04</td>\n",
       "      <td>...</td>\n",
       "      <td>7.683000e+01</td>\n",
       "      <td>1.603150e+02</td>\n",
       "      <td>4.502000e+01</td>\n",
       "      <td>9.433000e+01</td>\n",
       "      <td>2.381477e-01</td>\n",
       "      <td>2.584712e-02</td>\n",
       "      <td>4.235504e-02</td>\n",
       "      <td>2.565648e-01</td>\n",
       "      <td>2.446361e-02</td>\n",
       "      <td>5.173437e-02</td>\n",
       "    </tr>\n",
       "    <tr>\n",
       "      <th>50%</th>\n",
       "      <td>7.900000e+01</td>\n",
       "      <td>1.000000e+01</td>\n",
       "      <td>2.776286e-01</td>\n",
       "      <td>2.350000e+02</td>\n",
       "      <td>4.000000e+00</td>\n",
       "      <td>1.000000e+00</td>\n",
       "      <td>1.853500e+03</td>\n",
       "      <td>4.000000e+00</td>\n",
       "      <td>2.500000e+02</td>\n",
       "      <td>8.517900e+04</td>\n",
       "      <td>...</td>\n",
       "      <td>1.140600e+02</td>\n",
       "      <td>3.650450e+02</td>\n",
       "      <td>5.061000e+01</td>\n",
       "      <td>1.317400e+02</td>\n",
       "      <td>5.112327e-01</td>\n",
       "      <td>2.904687e-02</td>\n",
       "      <td>6.220556e-02</td>\n",
       "      <td>5.398100e-01</td>\n",
       "      <td>2.793333e-02</td>\n",
       "      <td>7.169364e-02</td>\n",
       "    </tr>\n",
       "    <tr>\n",
       "      <th>75%</th>\n",
       "      <td>8.700000e+01</td>\n",
       "      <td>1.500000e+01</td>\n",
       "      <td>4.583651e-01</td>\n",
       "      <td>3.790000e+02</td>\n",
       "      <td>8.000000e+00</td>\n",
       "      <td>1.000000e+00</td>\n",
       "      <td>4.185000e+03</td>\n",
       "      <td>6.000000e+00</td>\n",
       "      <td>3.430000e+02</td>\n",
       "      <td>1.421090e+05</td>\n",
       "      <td>...</td>\n",
       "      <td>1.667400e+02</td>\n",
       "      <td>5.945630e+02</td>\n",
       "      <td>5.464000e+01</td>\n",
       "      <td>1.751000e+02</td>\n",
       "      <td>8.329281e-01</td>\n",
       "      <td>3.126012e-02</td>\n",
       "      <td>9.096354e-02</td>\n",
       "      <td>8.659949e-01</td>\n",
       "      <td>2.999444e-02</td>\n",
       "      <td>9.523958e-02</td>\n",
       "    </tr>\n",
       "    <tr>\n",
       "      <th>max</th>\n",
       "      <td>9.600000e+01</td>\n",
       "      <td>2.300000e+01</td>\n",
       "      <td>7.376715e-01</td>\n",
       "      <td>7.238000e+03</td>\n",
       "      <td>2.200000e+01</td>\n",
       "      <td>1.000000e+00</td>\n",
       "      <td>1.411900e+04</td>\n",
       "      <td>7.000000e+00</td>\n",
       "      <td>4.570000e+02</td>\n",
       "      <td>2.370080e+05</td>\n",
       "      <td>...</td>\n",
       "      <td>2.477000e+02</td>\n",
       "      <td>1.558065e+03</td>\n",
       "      <td>7.442000e+01</td>\n",
       "      <td>2.508700e+02</td>\n",
       "      <td>5.463242e+00</td>\n",
       "      <td>4.218023e-02</td>\n",
       "      <td>1.440116e-01</td>\n",
       "      <td>5.719531e+00</td>\n",
       "      <td>4.326744e-02</td>\n",
       "      <td>1.458547e-01</td>\n",
       "    </tr>\n",
       "  </tbody>\n",
       "</table>\n",
       "<p>8 rows × 377 columns</p>\n",
       "</div>"
      ],
      "text/plain": [
       "        M_Trial_Num        M_Mass  M_Mass_to_L5S1  M_sub_task_indices  \\\n",
       "count  1.366326e+06  1.366326e+06    1.040590e+06        1.366326e+06   \n",
       "mean   6.907848e+01  1.059573e+01    3.126288e-01        2.912306e+02   \n",
       "std    2.360488e+01  5.886671e+00    1.644402e-01        3.589143e+02   \n",
       "min    1.000000e+00  0.000000e+00    5.026420e-02        1.000000e+00   \n",
       "25%    4.900000e+01  5.000000e+00    1.602113e-01        1.160000e+02   \n",
       "50%    7.900000e+01  1.000000e+01    2.776286e-01        2.350000e+02   \n",
       "75%    8.700000e+01  1.500000e+01    4.583651e-01        3.790000e+02   \n",
       "max    9.600000e+01  2.300000e+01    7.376715e-01        7.238000e+03   \n",
       "\n",
       "       M_sub_task_num  M_include_overall       M_Index         M_Sub  \\\n",
       "count    1.366326e+06       1.366326e+06  1.366326e+06  1.366326e+06   \n",
       "mean     5.583528e+00       8.073256e-01  2.716548e+03  3.855173e+00   \n",
       "std      4.895601e+00       3.943996e-01  2.598654e+03  1.998726e+00   \n",
       "min      1.000000e+00       0.000000e+00  1.000000e+00  1.000000e+00   \n",
       "25%      1.000000e+00       1.000000e+00  5.950000e+02  2.000000e+00   \n",
       "50%      4.000000e+00       1.000000e+00  1.853500e+03  4.000000e+00   \n",
       "75%      8.000000e+00       1.000000e+00  4.185000e+03  6.000000e+00   \n",
       "max      2.200000e+01       1.000000e+00  1.411900e+04  7.000000e+00   \n",
       "\n",
       "       M_sub_task_num_overall  M_Index_overall  ...  \\\n",
       "count            1.366326e+06     1.366326e+06  ...   \n",
       "mean             2.384674e+02     8.848465e+04  ...   \n",
       "std              1.246093e+02     6.576090e+04  ...   \n",
       "min              1.000000e+00    -1.950165e-01  ...   \n",
       "25%              1.280000e+02     2.824900e+04  ...   \n",
       "50%              2.500000e+02     8.517900e+04  ...   \n",
       "75%              3.430000e+02     1.421090e+05  ...   \n",
       "max              4.570000e+02     2.370080e+05  ...   \n",
       "\n",
       "       RWEO_03_04_00_00_INSOLE_LY_AP_threshF50_mm  \\\n",
       "count                                1.178199e+06   \n",
       "mean                                 1.216852e+02   \n",
       "std                                  5.277402e+01   \n",
       "min                                  0.000000e+00   \n",
       "25%                                  7.683000e+01   \n",
       "50%                                  1.140600e+02   \n",
       "75%                                  1.667400e+02   \n",
       "max                                  2.477000e+02   \n",
       "\n",
       "       RWEO_01_00_00_00_INSOLE_RFORCE_threshF50_N  \\\n",
       "count                                1.363161e+06   \n",
       "mean                                 3.945501e+02   \n",
       "std                                  2.768346e+02   \n",
       "min                                  0.000000e+00   \n",
       "25%                                  1.603150e+02   \n",
       "50%                                  3.650450e+02   \n",
       "75%                                  5.945630e+02   \n",
       "max                                  1.558065e+03   \n",
       "\n",
       "       RWEO_01_02_00_00_INSOLE_RX_ML_threshF50_mm  \\\n",
       "count                                1.223529e+06   \n",
       "mean                                 4.903974e+01   \n",
       "std                                  8.572305e+00   \n",
       "min                                  0.000000e+00   \n",
       "25%                                  4.502000e+01   \n",
       "50%                                  5.061000e+01   \n",
       "75%                                  5.464000e+01   \n",
       "max                                  7.442000e+01   \n",
       "\n",
       "       RWEO_01_02_00_00_INSOLE_RY_AP_threshF50_mm  \\\n",
       "count                                1.223529e+06   \n",
       "mean                                 1.334307e+02   \n",
       "std                                  4.881799e+01   \n",
       "min                                  0.000000e+00   \n",
       "25%                                  9.433000e+01   \n",
       "50%                                  1.317400e+02   \n",
       "75%                                  1.751000e+02   \n",
       "max                                  2.508700e+02   \n",
       "\n",
       "       RWEF_03_00_00_00_INSOLE_LFORCE_threshF50_BW  \\\n",
       "count                                 1.363161e+06   \n",
       "mean                                  6.155901e-01   \n",
       "std                                   5.533887e-01   \n",
       "min                                   0.000000e+00   \n",
       "25%                                   2.381477e-01   \n",
       "50%                                   5.112327e-01   \n",
       "75%                                   8.329281e-01   \n",
       "max                                   5.463242e+00   \n",
       "\n",
       "       RWEF_03_04_00_00_INSOLE_LX_ML_threshF50_BH  \\\n",
       "count                                1.178199e+06   \n",
       "mean                                 2.797499e-02   \n",
       "std                                  5.171558e-03   \n",
       "min                                  0.000000e+00   \n",
       "25%                                  2.584712e-02   \n",
       "50%                                  2.904687e-02   \n",
       "75%                                  3.126012e-02   \n",
       "max                                  4.218023e-02   \n",
       "\n",
       "       RWEF_03_04_00_00_INSOLE_LY_AP_threshF50_BH  \\\n",
       "count                                1.178199e+06   \n",
       "mean                                 6.701906e-02   \n",
       "std                                  2.932588e-02   \n",
       "min                                  0.000000e+00   \n",
       "25%                                  4.235504e-02   \n",
       "50%                                  6.220556e-02   \n",
       "75%                                  9.096354e-02   \n",
       "max                                  1.440116e-01   \n",
       "\n",
       "       RWEF_01_00_00_00_INSOLE_RFORCE_threshF50_BW  \\\n",
       "count                                 1.363161e+06   \n",
       "mean                                  6.472693e-01   \n",
       "std                                   5.626440e-01   \n",
       "min                                   0.000000e+00   \n",
       "25%                                   2.565648e-01   \n",
       "50%                                   5.398100e-01   \n",
       "75%                                   8.659949e-01   \n",
       "max                                   5.719531e+00   \n",
       "\n",
       "       RWEF_01_02_00_00_INSOLE_RX_ML_threshF50_BH  \\\n",
       "count                                1.223529e+06   \n",
       "mean                                 2.697077e-02   \n",
       "std                                  4.770854e-03   \n",
       "min                                  0.000000e+00   \n",
       "25%                                  2.446361e-02   \n",
       "50%                                  2.793333e-02   \n",
       "75%                                  2.999444e-02   \n",
       "max                                  4.326744e-02   \n",
       "\n",
       "       RWEF_01_02_00_00_INSOLE_RY_AP_threshF50_BH  \n",
       "count                                1.223529e+06  \n",
       "mean                                 7.335476e-02  \n",
       "std                                  2.717074e-02  \n",
       "min                                  0.000000e+00  \n",
       "25%                                  5.173437e-02  \n",
       "50%                                  7.169364e-02  \n",
       "75%                                  9.523958e-02  \n",
       "max                                  1.458547e-01  \n",
       "\n",
       "[8 rows x 377 columns]"
      ]
     },
     "execution_count": 2,
     "metadata": {},
     "output_type": "execute_result"
    }
   ],
   "source": [
    "df_orig = utils.load_dataset(\"s3://cpac/ORIG/CPAC_N7_09_15_20/CPAC10S_N7_09_15_20.csv\")\n",
    "df_orig.describe()"
   ]
  },
  {
   "cell_type": "markdown",
   "metadata": {},
   "source": [
    "## Associate column names"
   ]
  },
  {
   "cell_type": "code",
   "execution_count": 3,
   "metadata": {},
   "outputs": [],
   "source": [
    "def _get_columns_with_prefix(df, prefix):\n",
    "    columns = []\n",
    "    for column in df.columns:\n",
    "        if column.startswith(prefix):\n",
    "            columns.append(column)\n",
    "    return columns\n",
    "    \n",
    "def get_target_names(df):\n",
    "    return _get_columns_with_prefix(df, \"T_\")\n",
    "\n",
    "def get_meta_names(df):\n",
    "    return _get_columns_with_prefix(df, \"M_\")    "
   ]
  },
  {
   "cell_type": "markdown",
   "metadata": {},
   "source": [
    "## Clean-up dataset\n",
    "\n",
    "- Remove samples based on `M_include_overall`"
   ]
  },
  {
   "cell_type": "code",
   "execution_count": 4,
   "metadata": {},
   "outputs": [
    {
     "name": "stdout",
     "output_type": "stream",
     "text": [
      "Number of samples: 1,103,070 (before clean-up: 1,366,326)\n",
      "Number of trials: 162 (before clean-up: 162)\n",
      "Number of subjects: 7\n"
     ]
    }
   ],
   "source": [
    "df = df_orig[df_orig[\"M_include_overall\"] > 0]\n",
    "print(f\"Number of samples: {df.shape[0]:,d} (before clean-up: {df_orig.shape[0]:,d})\")\n",
    "print(f\"Number of trials: {len(df['M_Trial_Name'].unique())} (before clean-up: {len(df_orig['M_Trial_Name'].unique())})\")\n",
    "print(f\"Number of subjects: {len(df['M_Sub'].unique())}\")"
   ]
  },
  {
   "cell_type": "markdown",
   "metadata": {},
   "source": [
    "## Predictor configurations (recipes)"
   ]
  },
  {
   "cell_type": "code",
   "execution_count": 5,
   "metadata": {},
   "outputs": [
    {
     "name": "stdout",
     "output_type": "stream",
     "text": [
      "Recipe 1: insole,foot IMUs,shank IMUs,thigh IMUs,pelvis IMU,trunk\n",
      "\tPredictors: 80, Sensors: 7\n",
      "\n",
      "Recipe 2: insole,foot IMUs,shank IMUs,thigh IMUs,pelvis IMU\n",
      "\tPredictors: 58, Sensors: 7\n",
      "\n",
      "Recipe 3: insole,foot IMUs,shank IMUs,thigh IMUs,trunk\n",
      "\tPredictors: 48, Sensors: 7\n",
      "\n",
      "Recipe 4: insole,foot IMUs,shank IMUs,pelvis IMU,trunk\n",
      "\tPredictors: 54, Sensors: 5\n",
      "\n",
      "Recipe 5: insole,foot IMUs,thigh IMUs,pelvis IMU,trunk\n",
      "\tPredictors: 62, Sensors: 3\n",
      "\n",
      "Recipe 6: insole,shank IMUs,thigh IMUs,pelvis IMU,trunk\n",
      "\tPredictors: 68, Sensors: 5\n",
      "\n",
      "Recipe 7: foot IMUs,shank IMUs,thigh IMUs,pelvis IMU,trunk\n",
      "\tPredictors: 57, Sensors: 5\n",
      "\n",
      "Recipe 8: insole,foot IMUs,shank IMUs,thigh IMUs\n",
      "\tPredictors: 41, Sensors: 7\n",
      "\n",
      "Recipe 9: insole,foot IMUs,shank IMUs,pelvis IMU\n",
      "\tPredictors: 32, Sensors: 5\n",
      "\n",
      "Recipe 10: insole,foot IMUs,shank IMUs,trunk\n",
      "\tPredictors: 36, Sensors: 5\n",
      "\n",
      "Recipe 11: insole,foot IMUs,thigh IMUs,pelvis IMU\n",
      "\tPredictors: 40, Sensors: 3\n",
      "\n",
      "Recipe 12: insole,foot IMUs,thigh IMUs,trunk\n",
      "\tPredictors: 30, Sensors: 3\n",
      "\n",
      "Recipe 13: insole,foot IMUs,pelvis IMU,trunk\n",
      "\tPredictors: 42, Sensors: 3\n",
      "\n",
      "Recipe 14: insole,shank IMUs,thigh IMUs,pelvis IMU\n",
      "\tPredictors: 46, Sensors: 5\n",
      "\n",
      "Recipe 15: insole,shank IMUs,thigh IMUs,trunk\n",
      "\tPredictors: 36, Sensors: 5\n",
      "\n",
      "Recipe 16: insole,shank IMUs,pelvis IMU,trunk\n",
      "\tPredictors: 42, Sensors: 3\n",
      "\n",
      "Recipe 17: insole,thigh IMUs,pelvis IMU,trunk\n",
      "\tPredictors: 56, Sensors: 3\n",
      "\n",
      "Recipe 18: foot IMUs,shank IMUs,thigh IMUs,pelvis IMU\n",
      "\tPredictors: 43, Sensors: 5\n",
      "\n",
      "Recipe 19: foot IMUs,shank IMUs,thigh IMUs,trunk\n",
      "\tPredictors: 37, Sensors: 5\n",
      "\n",
      "Recipe 20: foot IMUs,shank IMUs,pelvis IMU,trunk\n",
      "\tPredictors: 35, Sensors: 3\n",
      "\n",
      "Recipe 21: foot IMUs,thigh IMUs,pelvis IMU,trunk\n",
      "\tPredictors: 39, Sensors: 1\n",
      "\n",
      "Recipe 22: shank IMUs,thigh IMUs,pelvis IMU,trunk\n",
      "\tPredictors: 45, Sensors: 3\n",
      "\n",
      "Recipe 23: insole,foot IMUs,shank IMUs\n",
      "\tPredictors: 29, Sensors: 5\n",
      "\n",
      "Recipe 24: insole,foot IMUs,thigh IMUs\n",
      "\tPredictors: 23, Sensors: 3\n",
      "\n",
      "Recipe 25: insole,foot IMUs,pelvis IMU\n",
      "\tPredictors: 20, Sensors: 3\n",
      "\n",
      "Recipe 26: insole,foot IMUs,trunk\n",
      "\tPredictors: 24, Sensors: 3\n",
      "\n",
      "Recipe 27: insole,shank IMUs,thigh IMUs\n",
      "\tPredictors: 29, Sensors: 5\n",
      "\n",
      "Recipe 28: insole,shank IMUs,pelvis IMU\n",
      "\tPredictors: 20, Sensors: 3\n",
      "\n",
      "Recipe 29: insole,shank IMUs,trunk\n",
      "\tPredictors: 24, Sensors: 3\n",
      "\n",
      "Recipe 30: insole,thigh IMUs,pelvis IMU\n",
      "\tPredictors: 34, Sensors: 3\n",
      "\n",
      "Recipe 31: insole,thigh IMUs,trunk\n",
      "\tPredictors: 24, Sensors: 3\n",
      "\n",
      "Recipe 32: insole,pelvis IMU,trunk\n",
      "\tPredictors: 36, Sensors: 3\n",
      "\n",
      "Recipe 33: foot IMUs,shank IMUs,thigh IMUs\n",
      "\tPredictors: 30, Sensors: 5\n",
      "\n",
      "Recipe 34: foot IMUs,shank IMUs,pelvis IMU\n",
      "\tPredictors: 21, Sensors: 3\n",
      "\n",
      "Recipe 35: foot IMUs,shank IMUs,trunk\n",
      "\tPredictors: 25, Sensors: 3\n",
      "\n",
      "Recipe 36: foot IMUs,thigh IMUs,pelvis IMU\n",
      "\tPredictors: 25, Sensors: 1\n",
      "\n",
      "Recipe 37: foot IMUs,thigh IMUs,trunk\n",
      "\tPredictors: 19, Sensors: 1\n",
      "\n",
      "Recipe 38: foot IMUs,pelvis IMU,trunk\n",
      "\tPredictors: 23, Sensors: 1\n",
      "\n",
      "Recipe 39: shank IMUs,thigh IMUs,pelvis IMU\n",
      "\tPredictors: 31, Sensors: 3\n",
      "\n",
      "Recipe 40: shank IMUs,thigh IMUs,trunk\n",
      "\tPredictors: 25, Sensors: 3\n",
      "\n",
      "Recipe 41: shank IMUs,pelvis IMU,trunk\n",
      "\tPredictors: 23, Sensors: 1\n",
      "\n",
      "Recipe 42: thigh IMUs,pelvis IMU,trunk\n",
      "\tPredictors: 33, Sensors: 1\n",
      "\n",
      "Recipe 43: insole,foot IMUs\n",
      "\tPredictors: 17, Sensors: 3\n",
      "\n",
      "Recipe 44: insole,shank IMUs\n",
      "\tPredictors: 17, Sensors: 3\n",
      "\n",
      "Recipe 45: insole,thigh IMUs\n",
      "\tPredictors: 17, Sensors: 3\n",
      "\n",
      "Recipe 46: insole,pelvis IMU\n",
      "\tPredictors: 14, Sensors: 3\n",
      "\n",
      "Recipe 47: insole,trunk\n",
      "\tPredictors: 18, Sensors: 3\n",
      "\n",
      "Recipe 48: foot IMUs,shank IMUs\n",
      "\tPredictors: 18, Sensors: 3\n",
      "\n",
      "Recipe 49: foot IMUs,thigh IMUs\n",
      "\tPredictors: 12, Sensors: 1\n",
      "\n",
      "Recipe 50: foot IMUs,pelvis IMU\n",
      "\tPredictors: 9, Sensors: 1\n",
      "\n",
      "Recipe 51: foot IMUs,trunk\n",
      "\tPredictors: 13, Sensors: 1\n",
      "\n",
      "Recipe 52: shank IMUs,thigh IMUs\n",
      "\tPredictors: 18, Sensors: 3\n",
      "\n",
      "Recipe 53: shank IMUs,pelvis IMU\n",
      "\tPredictors: 9, Sensors: 1\n",
      "\n",
      "Recipe 54: shank IMUs,trunk\n",
      "\tPredictors: 13, Sensors: 1\n",
      "\n",
      "Recipe 55: thigh IMUs,pelvis IMU\n",
      "\tPredictors: 19, Sensors: 1\n",
      "\n",
      "Recipe 56: thigh IMUs,trunk\n",
      "\tPredictors: 13, Sensors: 1\n",
      "\n",
      "Recipe 57: pelvis IMU,trunk\n",
      "\tPredictors: 17, Sensors: 1\n",
      "\n",
      "Recipe 58: insole\n",
      "\tPredictors: 11, Sensors: 2\n",
      "\n",
      "Recipe 59: foot IMUs\n",
      "\tPredictors: 6, Sensors: 1\n",
      "\n",
      "Recipe 60: shank IMUs\n",
      "\tPredictors: 6, Sensors: 1\n",
      "\n",
      "Recipe 61: thigh IMUs\n",
      "\tPredictors: 6, Sensors: 1\n",
      "\n",
      "Recipe 62: pelvis IMU\n",
      "\tPredictors: 3, Sensors: 1\n",
      "\n",
      "Recipe 63: trunk\n",
      "\tPredictors: 7, Sensors: 1\n",
      "\n"
     ]
    }
   ],
   "source": [
    "def predictor_short_name(predictor):\n",
    "    return predictor[17:]\n",
    "\n",
    "def predictor_sensor_number(predictor):\n",
    "    return int(predictor[5:7])\n",
    "\n",
    "def filter_predictors(all_predictors, patterns):\n",
    "    if isinstance(patterns, str):\n",
    "        patterns = (patterns,)\n",
    "        \n",
    "    predictors = []\n",
    "    for predictor in all_predictors:\n",
    "        for pattern in patterns:\n",
    "            if pattern in predictor:\n",
    "                predictors.append(predictor)\n",
    "                break\n",
    "    return predictors\n",
    "\n",
    "\n",
    "feature_sets = {\n",
    "\n",
    "    \"Recipe 1: insole,foot IMUs,shank IMUs,thigh IMUs,pelvis IMU,trunk\":\n",
    "        filter_predictors(\n",
    "            filter_predictors(df.columns, (\"SWRF\", \"SWEF\")),\n",
    "            ('05_12_00_00', '07_08_00_00', '10_11_00_00', '06_07_00_00', '09_10_00_00', '05_06_00_00', '05_09_00_00', '01_00_00_00', '03_00_00_00', '01_02_00_00', '03_04_00_00', '05_08_00_00', '05_11_00_00', '05_07_00_00', '05_10_00_00', '05_00_00_00', '01_03_00_00', '05_12_01_03', '05_06_01_03', '05_09_01_03', 'FOOT_ANGLE_VL', 'SHANK_ANGLE_VL', 'THIGH_ANGLE_VL', 'TRUNK_ANGLE_VL')\n",
    "        ),\n",
    "\n",
    "    \"Recipe 2: insole,foot IMUs,shank IMUs,thigh IMUs,pelvis IMU\":\n",
    "        filter_predictors(\n",
    "            filter_predictors(df.columns, (\"SWRF\", \"SWEF\")),\n",
    "            ('07_08_00_00', '10_11_00_00', '06_07_00_00', '09_10_00_00', '05_06_00_00', '05_09_00_00', '01_00_00_00', '03_00_00_00', '01_02_00_00', '03_04_00_00', '05_08_00_00', '05_11_00_00', '05_07_00_00', '05_10_00_00', '05_00_00_00', '01_03_00_00', '05_06_01_03', '05_09_01_03', 'FOOT_ANGLE_VL', 'SHANK_ANGLE_VL', 'THIGH_ANGLE_VL')\n",
    "        ),\n",
    "\n",
    "    \"Recipe 3: insole,foot IMUs,shank IMUs,thigh IMUs,trunk\":\n",
    "        filter_predictors(\n",
    "            filter_predictors(df.columns, (\"SWRF\", \"SWEF\")),\n",
    "            ('07_08_00_00', '10_11_00_00', '06_07_00_00', '09_10_00_00', '01_00_00_00', '03_00_00_00', '01_02_00_00', '03_04_00_00', '01_03_00_00', 'FOOT_ANGLE_VL', 'SHANK_ANGLE_VL', 'THIGH_ANGLE_VL', 'TRUNK_ANGLE_VL')\n",
    "        ),\n",
    "\n",
    "    \"Recipe 4: insole,foot IMUs,shank IMUs,pelvis IMU,trunk\":\n",
    "        filter_predictors(\n",
    "            filter_predictors(df.columns, (\"SWRF\", \"SWEF\")),\n",
    "            ('05_12_00_00', '07_08_00_00', '10_11_00_00', '01_00_00_00', '03_00_00_00', '01_02_00_00', '03_04_00_00', '05_08_00_00', '05_11_00_00', '05_07_00_00', '05_10_00_00', '05_00_00_00', '01_03_00_00', '05_12_01_03', 'FOOT_ANGLE_VL', 'SHANK_ANGLE_VL', 'TRUNK_ANGLE_VL')\n",
    "        ),\n",
    "\n",
    "    \"Recipe 5: insole,foot IMUs,thigh IMUs,pelvis IMU,trunk\":\n",
    "        filter_predictors(\n",
    "            filter_predictors(df.columns, (\"SWRF\", \"SWEF\")),\n",
    "            ('05_12_00_00', '05_06_00_00', '05_09_00_00', '01_00_00_00', '03_00_00_00', '01_02_00_00', '03_04_00_00', '05_08_00_00', '05_11_00_00', '05_00_00_00', '01_03_00_00', '05_12_01_03', '05_06_01_03', '05_09_01_03', 'FOOT_ANGLE_VL', 'THIGH_ANGLE_VL', 'TRUNK_ANGLE_VL')\n",
    "        ),\n",
    "\n",
    "    \"Recipe 6: insole,shank IMUs,thigh IMUs,pelvis IMU,trunk\":\n",
    "        filter_predictors(\n",
    "            filter_predictors(df.columns, (\"SWRF\", \"SWEF\")),\n",
    "            ('05_12_00_00', '06_07_00_00', '09_10_00_00', '05_06_00_00', '05_09_00_00', '01_00_00_00', '03_00_00_00', '01_02_00_00', '03_04_00_00', '05_07_00_00', '05_10_00_00', '05_00_00_00', '01_03_00_00', '05_12_01_03', '05_06_01_03', '05_09_01_03', 'SHANK_ANGLE_VL', 'THIGH_ANGLE_VL', 'TRUNK_ANGLE_VL')\n",
    "        ),\n",
    "\n",
    "    \"Recipe 7: foot IMUs,shank IMUs,thigh IMUs,pelvis IMU,trunk\":\n",
    "        filter_predictors(\n",
    "            filter_predictors(df.columns, (\"SWRF\", \"SWEF\")),\n",
    "            ('05_12_00_00', '07_08_00_00', '10_11_00_00', '06_07_00_00', '09_10_00_00', '05_06_00_00', '05_09_00_00', '05_08_00_00', '05_11_00_00', '05_07_00_00', '05_10_00_00', '05_00_00_00', 'FOOT_ANGLE_VL', 'SHANK_ANGLE_VL', 'THIGH_ANGLE_VL', 'TRUNK_ANGLE_VL')\n",
    "        ),\n",
    "\n",
    "    \"Recipe 8: insole,foot IMUs,shank IMUs,thigh IMUs\":\n",
    "        filter_predictors(\n",
    "            filter_predictors(df.columns, (\"SWRF\", \"SWEF\")),\n",
    "            ('07_08_00_00', '10_11_00_00', '06_07_00_00', '09_10_00_00', '01_00_00_00', '03_00_00_00', '01_02_00_00', '03_04_00_00', '01_03_00_00', 'FOOT_ANGLE_VL', 'SHANK_ANGLE_VL', 'THIGH_ANGLE_VL')\n",
    "        ),\n",
    "\n",
    "    \"Recipe 9: insole,foot IMUs,shank IMUs,pelvis IMU\":\n",
    "        filter_predictors(\n",
    "            filter_predictors(df.columns, (\"SWRF\", \"SWEF\")),\n",
    "            ('07_08_00_00', '10_11_00_00', '01_00_00_00', '03_00_00_00', '01_02_00_00', '03_04_00_00', '05_08_00_00', '05_11_00_00', '05_07_00_00', '05_10_00_00', '05_00_00_00', '01_03_00_00', 'FOOT_ANGLE_VL', 'SHANK_ANGLE_VL')\n",
    "        ),\n",
    "\n",
    "    \"Recipe 10: insole,foot IMUs,shank IMUs,trunk\":\n",
    "        filter_predictors(\n",
    "            filter_predictors(df.columns, (\"SWRF\", \"SWEF\")),\n",
    "            ('07_08_00_00', '10_11_00_00', '01_00_00_00', '03_00_00_00', '01_02_00_00', '03_04_00_00', '01_03_00_00', 'FOOT_ANGLE_VL', 'SHANK_ANGLE_VL', 'TRUNK_ANGLE_VL')\n",
    "        ),\n",
    "\n",
    "    \"Recipe 11: insole,foot IMUs,thigh IMUs,pelvis IMU\":\n",
    "        filter_predictors(\n",
    "            filter_predictors(df.columns, (\"SWRF\", \"SWEF\")),\n",
    "            ('05_06_00_00', '05_09_00_00', '01_00_00_00', '03_00_00_00', '01_02_00_00', '03_04_00_00', '05_08_00_00', '05_11_00_00', '05_00_00_00', '01_03_00_00', '05_06_01_03', '05_09_01_03', 'FOOT_ANGLE_VL', 'THIGH_ANGLE_VL')\n",
    "        ),\n",
    "\n",
    "    \"Recipe 12: insole,foot IMUs,thigh IMUs,trunk\":\n",
    "        filter_predictors(\n",
    "            filter_predictors(df.columns, (\"SWRF\", \"SWEF\")),\n",
    "            ('01_00_00_00', '03_00_00_00', '01_02_00_00', '03_04_00_00', '01_03_00_00', 'FOOT_ANGLE_VL', 'THIGH_ANGLE_VL', 'TRUNK_ANGLE_VL')\n",
    "        ),\n",
    "\n",
    "    \"Recipe 13: insole,foot IMUs,pelvis IMU,trunk\":\n",
    "        filter_predictors(\n",
    "            filter_predictors(df.columns, (\"SWRF\", \"SWEF\")),\n",
    "            ('05_12_00_00', '01_00_00_00', '03_00_00_00', '01_02_00_00', '03_04_00_00', '05_08_00_00', '05_11_00_00', '05_00_00_00', '01_03_00_00', '05_12_01_03', 'FOOT_ANGLE_VL', 'TRUNK_ANGLE_VL')\n",
    "        ),\n",
    "\n",
    "    \"Recipe 14: insole,shank IMUs,thigh IMUs,pelvis IMU\":\n",
    "        filter_predictors(\n",
    "            filter_predictors(df.columns, (\"SWRF\", \"SWEF\")),\n",
    "            ('06_07_00_00', '09_10_00_00', '05_06_00_00', '05_09_00_00', '01_00_00_00', '03_00_00_00', '01_02_00_00', '03_04_00_00', '05_07_00_00', '05_10_00_00', '05_00_00_00', '01_03_00_00', '05_06_01_03', '05_09_01_03', 'SHANK_ANGLE_VL', 'THIGH_ANGLE_VL')\n",
    "        ),\n",
    "\n",
    "    \"Recipe 15: insole,shank IMUs,thigh IMUs,trunk\":\n",
    "        filter_predictors(\n",
    "            filter_predictors(df.columns, (\"SWRF\", \"SWEF\")),\n",
    "            ('06_07_00_00', '09_10_00_00', '01_00_00_00', '03_00_00_00', '01_02_00_00', '03_04_00_00', '01_03_00_00', 'SHANK_ANGLE_VL', 'THIGH_ANGLE_VL', 'TRUNK_ANGLE_VL')\n",
    "        ),\n",
    "\n",
    "    \"Recipe 16: insole,shank IMUs,pelvis IMU,trunk\":\n",
    "        filter_predictors(\n",
    "            filter_predictors(df.columns, (\"SWRF\", \"SWEF\")),\n",
    "            ('05_12_00_00', '01_00_00_00', '03_00_00_00', '01_02_00_00', '03_04_00_00', '05_07_00_00', '05_10_00_00', '05_00_00_00', '01_03_00_00', '05_12_01_03', 'SHANK_ANGLE_VL', 'TRUNK_ANGLE_VL')\n",
    "        ),\n",
    "\n",
    "    \"Recipe 17: insole,thigh IMUs,pelvis IMU,trunk\":\n",
    "        filter_predictors(\n",
    "            filter_predictors(df.columns, (\"SWRF\", \"SWEF\")),\n",
    "            ('05_12_00_00', '05_06_00_00', '05_09_00_00', '01_00_00_00', '03_00_00_00', '01_02_00_00', '03_04_00_00', '05_00_00_00', '01_03_00_00', '05_12_01_03', '05_06_01_03', '05_09_01_03', 'THIGH_ANGLE_VL', 'TRUNK_ANGLE_VL')\n",
    "        ),\n",
    "\n",
    "    \"Recipe 18: foot IMUs,shank IMUs,thigh IMUs,pelvis IMU\":\n",
    "        filter_predictors(\n",
    "            filter_predictors(df.columns, (\"SWRF\", \"SWEF\")),\n",
    "            ('07_08_00_00', '10_11_00_00', '06_07_00_00', '09_10_00_00', '05_06_00_00', '05_09_00_00', '05_08_00_00', '05_11_00_00', '05_07_00_00', '05_10_00_00', '05_00_00_00', 'FOOT_ANGLE_VL', 'SHANK_ANGLE_VL', 'THIGH_ANGLE_VL')\n",
    "        ),\n",
    "\n",
    "    \"Recipe 19: foot IMUs,shank IMUs,thigh IMUs,trunk\":\n",
    "        filter_predictors(\n",
    "            filter_predictors(df.columns, (\"SWRF\", \"SWEF\")),\n",
    "            ('07_08_00_00', '10_11_00_00', '06_07_00_00', '09_10_00_00', 'FOOT_ANGLE_VL', 'SHANK_ANGLE_VL', 'THIGH_ANGLE_VL', 'TRUNK_ANGLE_VL')\n",
    "        ),\n",
    "\n",
    "    \"Recipe 20: foot IMUs,shank IMUs,pelvis IMU,trunk\":\n",
    "        filter_predictors(\n",
    "            filter_predictors(df.columns, (\"SWRF\", \"SWEF\")),\n",
    "            ('05_12_00_00', '07_08_00_00', '10_11_00_00', '05_08_00_00', '05_11_00_00', '05_07_00_00', '05_10_00_00', '05_00_00_00', 'FOOT_ANGLE_VL', 'SHANK_ANGLE_VL', 'TRUNK_ANGLE_VL')\n",
    "        ),\n",
    "\n",
    "    \"Recipe 21: foot IMUs,thigh IMUs,pelvis IMU,trunk\":\n",
    "        filter_predictors(\n",
    "            filter_predictors(df.columns, (\"SWRF\", \"SWEF\")),\n",
    "            ('05_12_00_00', '05_06_00_00', '05_09_00_00', '05_08_00_00', '05_11_00_00', '05_00_00_00', 'FOOT_ANGLE_VL', 'THIGH_ANGLE_VL', 'TRUNK_ANGLE_VL')\n",
    "        ),\n",
    "\n",
    "    \"Recipe 22: shank IMUs,thigh IMUs,pelvis IMU,trunk\":\n",
    "        filter_predictors(\n",
    "            filter_predictors(df.columns, (\"SWRF\", \"SWEF\")),\n",
    "            ('05_12_00_00', '06_07_00_00', '09_10_00_00', '05_06_00_00', '05_09_00_00', '05_07_00_00', '05_10_00_00', '05_00_00_00', 'SHANK_ANGLE_VL', 'THIGH_ANGLE_VL', 'TRUNK_ANGLE_VL')\n",
    "        ),\n",
    "\n",
    "    \"Recipe 23: insole,foot IMUs,shank IMUs\":\n",
    "        filter_predictors(\n",
    "            filter_predictors(df.columns, (\"SWRF\", \"SWEF\")),\n",
    "            ('07_08_00_00', '10_11_00_00', '01_00_00_00', '03_00_00_00', '01_02_00_00', '03_04_00_00', '01_03_00_00', 'FOOT_ANGLE_VL', 'SHANK_ANGLE_VL')\n",
    "        ),\n",
    "\n",
    "    \"Recipe 24: insole,foot IMUs,thigh IMUs\":\n",
    "        filter_predictors(\n",
    "            filter_predictors(df.columns, (\"SWRF\", \"SWEF\")),\n",
    "            ('01_00_00_00', '03_00_00_00', '01_02_00_00', '03_04_00_00', '01_03_00_00', 'FOOT_ANGLE_VL', 'THIGH_ANGLE_VL')\n",
    "        ),\n",
    "\n",
    "    \"Recipe 25: insole,foot IMUs,pelvis IMU\":\n",
    "        filter_predictors(\n",
    "            filter_predictors(df.columns, (\"SWRF\", \"SWEF\")),\n",
    "            ('01_00_00_00', '03_00_00_00', '01_02_00_00', '03_04_00_00', '05_08_00_00', '05_11_00_00', '05_00_00_00', '01_03_00_00', 'FOOT_ANGLE_VL')\n",
    "        ),\n",
    "\n",
    "    \"Recipe 26: insole,foot IMUs,trunk\":\n",
    "        filter_predictors(\n",
    "            filter_predictors(df.columns, (\"SWRF\", \"SWEF\")),\n",
    "            ('01_00_00_00', '03_00_00_00', '01_02_00_00', '03_04_00_00', '01_03_00_00', 'FOOT_ANGLE_VL', 'TRUNK_ANGLE_VL')\n",
    "        ),\n",
    "\n",
    "    \"Recipe 27: insole,shank IMUs,thigh IMUs\":\n",
    "        filter_predictors(\n",
    "            filter_predictors(df.columns, (\"SWRF\", \"SWEF\")),\n",
    "            ('06_07_00_00', '09_10_00_00', '01_00_00_00', '03_00_00_00', '01_02_00_00', '03_04_00_00', '01_03_00_00', 'SHANK_ANGLE_VL', 'THIGH_ANGLE_VL')\n",
    "        ),\n",
    "\n",
    "    \"Recipe 28: insole,shank IMUs,pelvis IMU\":\n",
    "        filter_predictors(\n",
    "            filter_predictors(df.columns, (\"SWRF\", \"SWEF\")),\n",
    "            ('01_00_00_00', '03_00_00_00', '01_02_00_00', '03_04_00_00', '05_07_00_00', '05_10_00_00', '05_00_00_00', '01_03_00_00', 'SHANK_ANGLE_VL')\n",
    "        ),\n",
    "\n",
    "    \"Recipe 29: insole,shank IMUs,trunk\":\n",
    "        filter_predictors(\n",
    "            filter_predictors(df.columns, (\"SWRF\", \"SWEF\")),\n",
    "            ('01_00_00_00', '03_00_00_00', '01_02_00_00', '03_04_00_00', '01_03_00_00', 'SHANK_ANGLE_VL', 'TRUNK_ANGLE_VL')\n",
    "        ),\n",
    "\n",
    "    \"Recipe 30: insole,thigh IMUs,pelvis IMU\":\n",
    "        filter_predictors(\n",
    "            filter_predictors(df.columns, (\"SWRF\", \"SWEF\")),\n",
    "            ('05_06_00_00', '05_09_00_00', '01_00_00_00', '03_00_00_00', '01_02_00_00', '03_04_00_00', '05_00_00_00', '01_03_00_00', '05_06_01_03', '05_09_01_03', 'THIGH_ANGLE_VL')\n",
    "        ),\n",
    "\n",
    "    \"Recipe 31: insole,thigh IMUs,trunk\":\n",
    "        filter_predictors(\n",
    "            filter_predictors(df.columns, (\"SWRF\", \"SWEF\")),\n",
    "            ('01_00_00_00', '03_00_00_00', '01_02_00_00', '03_04_00_00', '01_03_00_00', 'THIGH_ANGLE_VL', 'TRUNK_ANGLE_VL')\n",
    "        ),\n",
    "\n",
    "    \"Recipe 32: insole,pelvis IMU,trunk\":\n",
    "        filter_predictors(\n",
    "            filter_predictors(df.columns, (\"SWRF\", \"SWEF\")),\n",
    "            ('05_12_00_00', '01_00_00_00', '03_00_00_00', '01_02_00_00', '03_04_00_00', '05_00_00_00', '01_03_00_00', '05_12_01_03', 'TRUNK_ANGLE_VL')\n",
    "        ),\n",
    "\n",
    "    \"Recipe 33: foot IMUs,shank IMUs,thigh IMUs\":\n",
    "        filter_predictors(\n",
    "            filter_predictors(df.columns, (\"SWRF\", \"SWEF\")),\n",
    "            ('07_08_00_00', '10_11_00_00', '06_07_00_00', '09_10_00_00', 'FOOT_ANGLE_VL', 'SHANK_ANGLE_VL', 'THIGH_ANGLE_VL')\n",
    "        ),\n",
    "\n",
    "    \"Recipe 34: foot IMUs,shank IMUs,pelvis IMU\":\n",
    "        filter_predictors(\n",
    "            filter_predictors(df.columns, (\"SWRF\", \"SWEF\")),\n",
    "            ('07_08_00_00', '10_11_00_00', '05_08_00_00', '05_11_00_00', '05_07_00_00', '05_10_00_00', '05_00_00_00', 'FOOT_ANGLE_VL', 'SHANK_ANGLE_VL')\n",
    "        ),\n",
    "\n",
    "    \"Recipe 35: foot IMUs,shank IMUs,trunk\":\n",
    "        filter_predictors(\n",
    "            filter_predictors(df.columns, (\"SWRF\", \"SWEF\")),\n",
    "            ('07_08_00_00', '10_11_00_00', 'FOOT_ANGLE_VL', 'SHANK_ANGLE_VL', 'TRUNK_ANGLE_VL')\n",
    "        ),\n",
    "\n",
    "    \"Recipe 36: foot IMUs,thigh IMUs,pelvis IMU\":\n",
    "        filter_predictors(\n",
    "            filter_predictors(df.columns, (\"SWRF\", \"SWEF\")),\n",
    "            ('05_06_00_00', '05_09_00_00', '05_08_00_00', '05_11_00_00', '05_00_00_00', 'FOOT_ANGLE_VL', 'THIGH_ANGLE_VL')\n",
    "        ),\n",
    "\n",
    "    \"Recipe 37: foot IMUs,thigh IMUs,trunk\":\n",
    "        filter_predictors(\n",
    "            filter_predictors(df.columns, (\"SWRF\", \"SWEF\")),\n",
    "            ('FOOT_ANGLE_VL', 'THIGH_ANGLE_VL', 'TRUNK_ANGLE_VL')\n",
    "        ),\n",
    "\n",
    "    \"Recipe 38: foot IMUs,pelvis IMU,trunk\":\n",
    "        filter_predictors(\n",
    "            filter_predictors(df.columns, (\"SWRF\", \"SWEF\")),\n",
    "            ('05_12_00_00', '05_08_00_00', '05_11_00_00', '05_00_00_00', 'FOOT_ANGLE_VL', 'TRUNK_ANGLE_VL')\n",
    "        ),\n",
    "\n",
    "    \"Recipe 39: shank IMUs,thigh IMUs,pelvis IMU\":\n",
    "        filter_predictors(\n",
    "            filter_predictors(df.columns, (\"SWRF\", \"SWEF\")),\n",
    "            ('06_07_00_00', '09_10_00_00', '05_06_00_00', '05_09_00_00', '05_07_00_00', '05_10_00_00', '05_00_00_00', 'SHANK_ANGLE_VL', 'THIGH_ANGLE_VL')\n",
    "        ),\n",
    "\n",
    "    \"Recipe 40: shank IMUs,thigh IMUs,trunk\":\n",
    "        filter_predictors(\n",
    "            filter_predictors(df.columns, (\"SWRF\", \"SWEF\")),\n",
    "            ('06_07_00_00', '09_10_00_00', 'SHANK_ANGLE_VL', 'THIGH_ANGLE_VL', 'TRUNK_ANGLE_VL')\n",
    "        ),\n",
    "\n",
    "    \"Recipe 41: shank IMUs,pelvis IMU,trunk\":\n",
    "        filter_predictors(\n",
    "            filter_predictors(df.columns, (\"SWRF\", \"SWEF\")),\n",
    "            ('05_12_00_00', '05_07_00_00', '05_10_00_00', '05_00_00_00', 'SHANK_ANGLE_VL', 'TRUNK_ANGLE_VL')\n",
    "        ),\n",
    "\n",
    "    \"Recipe 42: thigh IMUs,pelvis IMU,trunk\":\n",
    "        filter_predictors(\n",
    "            filter_predictors(df.columns, (\"SWRF\", \"SWEF\")),\n",
    "            ('05_12_00_00', '05_06_00_00', '05_09_00_00', '05_00_00_00', 'THIGH_ANGLE_VL', 'TRUNK_ANGLE_VL')\n",
    "        ),\n",
    "\n",
    "    \"Recipe 43: insole,foot IMUs\":\n",
    "        filter_predictors(\n",
    "            filter_predictors(df.columns, (\"SWRF\", \"SWEF\")),\n",
    "            ('01_00_00_00', '03_00_00_00', '01_02_00_00', '03_04_00_00', '01_03_00_00', 'FOOT_ANGLE_VL')\n",
    "        ),\n",
    "\n",
    "    \"Recipe 44: insole,shank IMUs\":\n",
    "        filter_predictors(\n",
    "            filter_predictors(df.columns, (\"SWRF\", \"SWEF\")),\n",
    "            ('01_00_00_00', '03_00_00_00', '01_02_00_00', '03_04_00_00', '01_03_00_00', 'SHANK_ANGLE_VL')\n",
    "        ),\n",
    "\n",
    "    \"Recipe 45: insole,thigh IMUs\":\n",
    "        filter_predictors(\n",
    "            filter_predictors(df.columns, (\"SWRF\", \"SWEF\")),\n",
    "            ('01_00_00_00', '03_00_00_00', '01_02_00_00', '03_04_00_00', '01_03_00_00', 'THIGH_ANGLE_VL')\n",
    "        ),\n",
    "\n",
    "    \"Recipe 46: insole,pelvis IMU\":\n",
    "        filter_predictors(\n",
    "            filter_predictors(df.columns, (\"SWRF\", \"SWEF\")),\n",
    "            ('01_00_00_00', '03_00_00_00', '01_02_00_00', '03_04_00_00', '05_00_00_00', '01_03_00_00')\n",
    "        ),\n",
    "\n",
    "    \"Recipe 47: insole,trunk\":\n",
    "        filter_predictors(\n",
    "            filter_predictors(df.columns, (\"SWRF\", \"SWEF\")),\n",
    "            ('01_00_00_00', '03_00_00_00', '01_02_00_00', '03_04_00_00', '01_03_00_00', 'TRUNK_ANGLE_VL')\n",
    "        ),\n",
    "\n",
    "    \"Recipe 48: foot IMUs,shank IMUs\":\n",
    "        filter_predictors(\n",
    "            filter_predictors(df.columns, (\"SWRF\", \"SWEF\")),\n",
    "            ('07_08_00_00', '10_11_00_00', 'FOOT_ANGLE_VL', 'SHANK_ANGLE_VL')\n",
    "        ),\n",
    "\n",
    "    \"Recipe 49: foot IMUs,thigh IMUs\":\n",
    "        filter_predictors(\n",
    "            filter_predictors(df.columns, (\"SWRF\", \"SWEF\")),\n",
    "            ('FOOT_ANGLE_VL', 'THIGH_ANGLE_VL')\n",
    "        ),\n",
    "\n",
    "    \"Recipe 50: foot IMUs,pelvis IMU\":\n",
    "        filter_predictors(\n",
    "            filter_predictors(df.columns, (\"SWRF\", \"SWEF\")),\n",
    "            ('05_08_00_00', '05_11_00_00', '05_00_00_00', 'FOOT_ANGLE_VL')\n",
    "        ),\n",
    "\n",
    "    \"Recipe 51: foot IMUs,trunk\":\n",
    "        filter_predictors(\n",
    "            filter_predictors(df.columns, (\"SWRF\", \"SWEF\")),\n",
    "            ('FOOT_ANGLE_VL', 'TRUNK_ANGLE_VL')\n",
    "        ),\n",
    "\n",
    "    \"Recipe 52: shank IMUs,thigh IMUs\":\n",
    "        filter_predictors(\n",
    "            filter_predictors(df.columns, (\"SWRF\", \"SWEF\")),\n",
    "            ('06_07_00_00', '09_10_00_00', 'SHANK_ANGLE_VL', 'THIGH_ANGLE_VL')\n",
    "        ),\n",
    "\n",
    "    \"Recipe 53: shank IMUs,pelvis IMU\":\n",
    "        filter_predictors(\n",
    "            filter_predictors(df.columns, (\"SWRF\", \"SWEF\")),\n",
    "            ('05_07_00_00', '05_10_00_00', '05_00_00_00', 'SHANK_ANGLE_VL')\n",
    "        ),\n",
    "\n",
    "    \"Recipe 54: shank IMUs,trunk\":\n",
    "        filter_predictors(\n",
    "            filter_predictors(df.columns, (\"SWRF\", \"SWEF\")),\n",
    "            ('SHANK_ANGLE_VL', 'TRUNK_ANGLE_VL')\n",
    "        ),\n",
    "\n",
    "    \"Recipe 55: thigh IMUs,pelvis IMU\":\n",
    "        filter_predictors(\n",
    "            filter_predictors(df.columns, (\"SWRF\", \"SWEF\")),\n",
    "            ('05_06_00_00', '05_09_00_00', '05_00_00_00', 'THIGH_ANGLE_VL')\n",
    "        ),\n",
    "\n",
    "    \"Recipe 56: thigh IMUs,trunk\":\n",
    "        filter_predictors(\n",
    "            filter_predictors(df.columns, (\"SWRF\", \"SWEF\")),\n",
    "            ('THIGH_ANGLE_VL', 'TRUNK_ANGLE_VL')\n",
    "        ),\n",
    "\n",
    "    \"Recipe 57: pelvis IMU,trunk\":\n",
    "        filter_predictors(\n",
    "            filter_predictors(df.columns, (\"SWRF\", \"SWEF\")),\n",
    "            ('05_12_00_00', '05_00_00_00', 'TRUNK_ANGLE_VL')\n",
    "        ),\n",
    "\n",
    "    \"Recipe 58: insole\":\n",
    "        filter_predictors(\n",
    "            filter_predictors(df.columns, (\"SWRF\", \"SWEF\")),\n",
    "            ('01_00_00_00', '03_00_00_00', '01_02_00_00', '03_04_00_00', '01_03_00_00')\n",
    "        ),\n",
    "\n",
    "    \"Recipe 59: foot IMUs\":\n",
    "        filter_predictors(\n",
    "            filter_predictors(df.columns, (\"SWRF\", \"SWEF\")),\n",
    "            ('FOOT_ANGLE_VL',)\n",
    "        ),\n",
    "\n",
    "    \"Recipe 60: shank IMUs\":\n",
    "        filter_predictors(\n",
    "            filter_predictors(df.columns, (\"SWRF\", \"SWEF\")),\n",
    "            ('SHANK_ANGLE_VL',)\n",
    "        ),\n",
    "\n",
    "    \"Recipe 61: thigh IMUs\":\n",
    "        filter_predictors(\n",
    "            filter_predictors(df.columns, (\"SWRF\", \"SWEF\")),\n",
    "            ('THIGH_ANGLE_VL',)\n",
    "        ),\n",
    "\n",
    "    \"Recipe 62: pelvis IMU\":\n",
    "        filter_predictors(\n",
    "            filter_predictors(df.columns, (\"SWRF\", \"SWEF\")),\n",
    "            ('05_00_00_00',)\n",
    "        ),\n",
    "\n",
    "    \"Recipe 63: trunk\":\n",
    "        filter_predictors(\n",
    "            filter_predictors(df.columns, (\"SWRF\", \"SWEF\")),\n",
    "            ('TRUNK_ANGLE_VL',)\n",
    "        )    \n",
    "}\n",
    "\n",
    "for feature_set_name, predictors in feature_sets.items():\n",
    "    sensors = set(map(predictor_sensor_number, predictors))\n",
    "    print(f\"{feature_set_name}\\n\\tPredictors: {len(predictors)}, Sensors: {len(sensors)}\\n\")"
   ]
  },
  {
   "cell_type": "markdown",
   "metadata": {},
   "source": [
    "## Train and evaluate boosted tree models"
   ]
  },
  {
   "cell_type": "code",
   "execution_count": 8,
   "metadata": {},
   "outputs": [],
   "source": [
    "def evaluate(target_name, feature_names):\n",
    "    X, y, groups = df[feature_names], df[target_name], df[\"M_Sub\"]\n",
    "    \n",
    "    model = pipeline.Pipeline([\n",
    "        ('scaler', preprocessing.StandardScaler()),\n",
    "        ('gboost', ensemble.HistGradientBoostingRegressor())\n",
    "    ])\n",
    "    \n",
    "    logo = model_selection.LeaveOneGroupOut()\n",
    "    r2_score = model_selection.cross_val_score(\n",
    "        model, X, y, cv=logo, groups=groups, n_jobs=-1).mean()\n",
    "    \n",
    "    # Feature importances on the full training set\n",
    "    model.fit(X, y)\n",
    "    perm_imp = inspection.permutation_importance(model, X, y, n_repeats=5, n_jobs=-1)\n",
    "    importance = pd.Series(perm_imp.importances_mean, index=X.columns)\n",
    "    importance.sort_values(ascending=False, inplace=True)\n",
    "\n",
    "    return r2_score, importance\n",
    "\n",
    "def run_experiments(target_name, feature_sets):\n",
    "    warnings.filterwarnings('ignore')\n",
    "    r2_scores = {}\n",
    "    importances = {}\n",
    "    \n",
    "    for feature_set_name, feature_names in feature_sets.items():\n",
    "        r2_score, importance = evaluate(target_name, feature_names)\n",
    "        r2_scores[feature_set_name] = r2_score\n",
    "        importances[feature_set_name] = importance\n",
    "        display(\n",
    "            Markdown(\n",
    "                \"---\\n\"\n",
    "                f\"**Target**: {target_name}  \\n\"\n",
    "                f\"**Features**: {feature_set_name}  \\n\"\n",
    "                f\"**$R^2$ = {r2_score:.3f}**\"\n",
    "            )\n",
    "        )\n",
    "                                        \n",
    "    warnings.filterwarnings('default')\n",
    "    return r2_scores, importances\n"
   ]
  },
  {
   "cell_type": "markdown",
   "metadata": {},
   "source": [
    "## Run experiments, save data"
   ]
  },
  {
   "cell_type": "code",
   "execution_count": 11,
   "metadata": {},
   "outputs": [
    {
     "data": {
      "text/markdown": [
       "---\n",
       "**Target**: TF_Pelvis_Moment_Y_BWBH  \n",
       "**Features**: Recipe 1: insole,foot IMUs,shank IMUs,thigh IMUs,pelvis IMU,trunk  \n",
       "**$R^2$ = 0.872**"
      ],
      "text/plain": [
       "<IPython.core.display.Markdown object>"
      ]
     },
     "metadata": {},
     "output_type": "display_data"
    },
    {
     "data": {
      "text/markdown": [
       "---\n",
       "**Target**: TF_Pelvis_Moment_Y_BWBH  \n",
       "**Features**: Recipe 2: insole,foot IMUs,shank IMUs,thigh IMUs,pelvis IMU  \n",
       "**$R^2$ = 0.850**"
      ],
      "text/plain": [
       "<IPython.core.display.Markdown object>"
      ]
     },
     "metadata": {},
     "output_type": "display_data"
    },
    {
     "data": {
      "text/markdown": [
       "---\n",
       "**Target**: TF_Pelvis_Moment_Y_BWBH  \n",
       "**Features**: Recipe 3: insole,foot IMUs,shank IMUs,thigh IMUs,trunk  \n",
       "**$R^2$ = 0.851**"
      ],
      "text/plain": [
       "<IPython.core.display.Markdown object>"
      ]
     },
     "metadata": {},
     "output_type": "display_data"
    },
    {
     "data": {
      "text/markdown": [
       "---\n",
       "**Target**: TF_Pelvis_Moment_Y_BWBH  \n",
       "**Features**: Recipe 4: insole,foot IMUs,shank IMUs,pelvis IMU,trunk  \n",
       "**$R^2$ = 0.859**"
      ],
      "text/plain": [
       "<IPython.core.display.Markdown object>"
      ]
     },
     "metadata": {},
     "output_type": "display_data"
    },
    {
     "data": {
      "text/markdown": [
       "---\n",
       "**Target**: TF_Pelvis_Moment_Y_BWBH  \n",
       "**Features**: Recipe 5: insole,foot IMUs,thigh IMUs,pelvis IMU,trunk  \n",
       "**$R^2$ = 0.870**"
      ],
      "text/plain": [
       "<IPython.core.display.Markdown object>"
      ]
     },
     "metadata": {},
     "output_type": "display_data"
    },
    {
     "data": {
      "text/markdown": [
       "---\n",
       "**Target**: TF_Pelvis_Moment_Y_BWBH  \n",
       "**Features**: Recipe 6: insole,shank IMUs,thigh IMUs,pelvis IMU,trunk  \n",
       "**$R^2$ = 0.877**"
      ],
      "text/plain": [
       "<IPython.core.display.Markdown object>"
      ]
     },
     "metadata": {},
     "output_type": "display_data"
    },
    {
     "data": {
      "text/markdown": [
       "---\n",
       "**Target**: TF_Pelvis_Moment_Y_BWBH  \n",
       "**Features**: Recipe 7: foot IMUs,shank IMUs,thigh IMUs,pelvis IMU,trunk  \n",
       "**$R^2$ = 0.732**"
      ],
      "text/plain": [
       "<IPython.core.display.Markdown object>"
      ]
     },
     "metadata": {},
     "output_type": "display_data"
    },
    {
     "data": {
      "text/markdown": [
       "---\n",
       "**Target**: TF_Pelvis_Moment_Y_BWBH  \n",
       "**Features**: Recipe 8: insole,foot IMUs,shank IMUs,thigh IMUs  \n",
       "**$R^2$ = 0.740**"
      ],
      "text/plain": [
       "<IPython.core.display.Markdown object>"
      ]
     },
     "metadata": {},
     "output_type": "display_data"
    },
    {
     "data": {
      "text/markdown": [
       "---\n",
       "**Target**: TF_Pelvis_Moment_Y_BWBH  \n",
       "**Features**: Recipe 9: insole,foot IMUs,shank IMUs,pelvis IMU  \n",
       "**$R^2$ = 0.831**"
      ],
      "text/plain": [
       "<IPython.core.display.Markdown object>"
      ]
     },
     "metadata": {},
     "output_type": "display_data"
    },
    {
     "data": {
      "text/markdown": [
       "---\n",
       "**Target**: TF_Pelvis_Moment_Y_BWBH  \n",
       "**Features**: Recipe 10: insole,foot IMUs,shank IMUs,trunk  \n",
       "**$R^2$ = 0.848**"
      ],
      "text/plain": [
       "<IPython.core.display.Markdown object>"
      ]
     },
     "metadata": {},
     "output_type": "display_data"
    },
    {
     "data": {
      "text/markdown": [
       "---\n",
       "**Target**: TF_Pelvis_Moment_Y_BWBH  \n",
       "**Features**: Recipe 11: insole,foot IMUs,thigh IMUs,pelvis IMU  \n",
       "**$R^2$ = 0.843**"
      ],
      "text/plain": [
       "<IPython.core.display.Markdown object>"
      ]
     },
     "metadata": {},
     "output_type": "display_data"
    },
    {
     "data": {
      "text/markdown": [
       "---\n",
       "**Target**: TF_Pelvis_Moment_Y_BWBH  \n",
       "**Features**: Recipe 12: insole,foot IMUs,thigh IMUs,trunk  \n",
       "**$R^2$ = 0.854**"
      ],
      "text/plain": [
       "<IPython.core.display.Markdown object>"
      ]
     },
     "metadata": {},
     "output_type": "display_data"
    },
    {
     "data": {
      "text/markdown": [
       "---\n",
       "**Target**: TF_Pelvis_Moment_Y_BWBH  \n",
       "**Features**: Recipe 13: insole,foot IMUs,pelvis IMU,trunk  \n",
       "**$R^2$ = 0.846**"
      ],
      "text/plain": [
       "<IPython.core.display.Markdown object>"
      ]
     },
     "metadata": {},
     "output_type": "display_data"
    },
    {
     "data": {
      "text/markdown": [
       "---\n",
       "**Target**: TF_Pelvis_Moment_Y_BWBH  \n",
       "**Features**: Recipe 14: insole,shank IMUs,thigh IMUs,pelvis IMU  \n",
       "**$R^2$ = 0.857**"
      ],
      "text/plain": [
       "<IPython.core.display.Markdown object>"
      ]
     },
     "metadata": {},
     "output_type": "display_data"
    },
    {
     "data": {
      "text/markdown": [
       "---\n",
       "**Target**: TF_Pelvis_Moment_Y_BWBH  \n",
       "**Features**: Recipe 15: insole,shank IMUs,thigh IMUs,trunk  \n",
       "**$R^2$ = 0.855**"
      ],
      "text/plain": [
       "<IPython.core.display.Markdown object>"
      ]
     },
     "metadata": {},
     "output_type": "display_data"
    },
    {
     "data": {
      "text/markdown": [
       "---\n",
       "**Target**: TF_Pelvis_Moment_Y_BWBH  \n",
       "**Features**: Recipe 16: insole,shank IMUs,pelvis IMU,trunk  \n",
       "**$R^2$ = 0.860**"
      ],
      "text/plain": [
       "<IPython.core.display.Markdown object>"
      ]
     },
     "metadata": {},
     "output_type": "display_data"
    },
    {
     "data": {
      "text/markdown": [
       "---\n",
       "**Target**: TF_Pelvis_Moment_Y_BWBH  \n",
       "**Features**: Recipe 17: insole,thigh IMUs,pelvis IMU,trunk  \n",
       "**$R^2$ = 0.870**"
      ],
      "text/plain": [
       "<IPython.core.display.Markdown object>"
      ]
     },
     "metadata": {},
     "output_type": "display_data"
    },
    {
     "data": {
      "text/markdown": [
       "---\n",
       "**Target**: TF_Pelvis_Moment_Y_BWBH  \n",
       "**Features**: Recipe 18: foot IMUs,shank IMUs,thigh IMUs,pelvis IMU  \n",
       "**$R^2$ = 0.704**"
      ],
      "text/plain": [
       "<IPython.core.display.Markdown object>"
      ]
     },
     "metadata": {},
     "output_type": "display_data"
    },
    {
     "data": {
      "text/markdown": [
       "---\n",
       "**Target**: TF_Pelvis_Moment_Y_BWBH  \n",
       "**Features**: Recipe 19: foot IMUs,shank IMUs,thigh IMUs,trunk  \n",
       "**$R^2$ = 0.717**"
      ],
      "text/plain": [
       "<IPython.core.display.Markdown object>"
      ]
     },
     "metadata": {},
     "output_type": "display_data"
    },
    {
     "data": {
      "text/markdown": [
       "---\n",
       "**Target**: TF_Pelvis_Moment_Y_BWBH  \n",
       "**Features**: Recipe 20: foot IMUs,shank IMUs,pelvis IMU,trunk  \n",
       "**$R^2$ = 0.718**"
      ],
      "text/plain": [
       "<IPython.core.display.Markdown object>"
      ]
     },
     "metadata": {},
     "output_type": "display_data"
    },
    {
     "data": {
      "text/markdown": [
       "---\n",
       "**Target**: TF_Pelvis_Moment_Y_BWBH  \n",
       "**Features**: Recipe 21: foot IMUs,thigh IMUs,pelvis IMU,trunk  \n",
       "**$R^2$ = 0.723**"
      ],
      "text/plain": [
       "<IPython.core.display.Markdown object>"
      ]
     },
     "metadata": {},
     "output_type": "display_data"
    },
    {
     "data": {
      "text/markdown": [
       "---\n",
       "**Target**: TF_Pelvis_Moment_Y_BWBH  \n",
       "**Features**: Recipe 22: shank IMUs,thigh IMUs,pelvis IMU,trunk  \n",
       "**$R^2$ = 0.739**"
      ],
      "text/plain": [
       "<IPython.core.display.Markdown object>"
      ]
     },
     "metadata": {},
     "output_type": "display_data"
    },
    {
     "data": {
      "text/markdown": [
       "---\n",
       "**Target**: TF_Pelvis_Moment_Y_BWBH  \n",
       "**Features**: Recipe 23: insole,foot IMUs,shank IMUs  \n",
       "**$R^2$ = 0.730**"
      ],
      "text/plain": [
       "<IPython.core.display.Markdown object>"
      ]
     },
     "metadata": {},
     "output_type": "display_data"
    },
    {
     "data": {
      "text/markdown": [
       "---\n",
       "**Target**: TF_Pelvis_Moment_Y_BWBH  \n",
       "**Features**: Recipe 24: insole,foot IMUs,thigh IMUs  \n",
       "**$R^2$ = 0.744**"
      ],
      "text/plain": [
       "<IPython.core.display.Markdown object>"
      ]
     },
     "metadata": {},
     "output_type": "display_data"
    },
    {
     "data": {
      "text/markdown": [
       "---\n",
       "**Target**: TF_Pelvis_Moment_Y_BWBH  \n",
       "**Features**: Recipe 25: insole,foot IMUs,pelvis IMU  \n",
       "**$R^2$ = 0.804**"
      ],
      "text/plain": [
       "<IPython.core.display.Markdown object>"
      ]
     },
     "metadata": {},
     "output_type": "display_data"
    },
    {
     "data": {
      "text/markdown": [
       "---\n",
       "**Target**: TF_Pelvis_Moment_Y_BWBH  \n",
       "**Features**: Recipe 26: insole,foot IMUs,trunk  \n",
       "**$R^2$ = 0.833**"
      ],
      "text/plain": [
       "<IPython.core.display.Markdown object>"
      ]
     },
     "metadata": {},
     "output_type": "display_data"
    },
    {
     "data": {
      "text/markdown": [
       "---\n",
       "**Target**: TF_Pelvis_Moment_Y_BWBH  \n",
       "**Features**: Recipe 27: insole,shank IMUs,thigh IMUs  \n",
       "**$R^2$ = 0.716**"
      ],
      "text/plain": [
       "<IPython.core.display.Markdown object>"
      ]
     },
     "metadata": {},
     "output_type": "display_data"
    },
    {
     "data": {
      "text/markdown": [
       "---\n",
       "**Target**: TF_Pelvis_Moment_Y_BWBH  \n",
       "**Features**: Recipe 28: insole,shank IMUs,pelvis IMU  \n",
       "**$R^2$ = 0.832**"
      ],
      "text/plain": [
       "<IPython.core.display.Markdown object>"
      ]
     },
     "metadata": {},
     "output_type": "display_data"
    },
    {
     "data": {
      "text/markdown": [
       "---\n",
       "**Target**: TF_Pelvis_Moment_Y_BWBH  \n",
       "**Features**: Recipe 29: insole,shank IMUs,trunk  \n",
       "**$R^2$ = 0.847**"
      ],
      "text/plain": [
       "<IPython.core.display.Markdown object>"
      ]
     },
     "metadata": {},
     "output_type": "display_data"
    },
    {
     "data": {
      "text/markdown": [
       "---\n",
       "**Target**: TF_Pelvis_Moment_Y_BWBH  \n",
       "**Features**: Recipe 30: insole,thigh IMUs,pelvis IMU  \n",
       "**$R^2$ = 0.842**"
      ],
      "text/plain": [
       "<IPython.core.display.Markdown object>"
      ]
     },
     "metadata": {},
     "output_type": "display_data"
    },
    {
     "data": {
      "text/markdown": [
       "---\n",
       "**Target**: TF_Pelvis_Moment_Y_BWBH  \n",
       "**Features**: Recipe 31: insole,thigh IMUs,trunk  \n",
       "**$R^2$ = 0.854**"
      ],
      "text/plain": [
       "<IPython.core.display.Markdown object>"
      ]
     },
     "metadata": {},
     "output_type": "display_data"
    },
    {
     "data": {
      "text/markdown": [
       "---\n",
       "**Target**: TF_Pelvis_Moment_Y_BWBH  \n",
       "**Features**: Recipe 32: insole,pelvis IMU,trunk  \n",
       "**$R^2$ = 0.841**"
      ],
      "text/plain": [
       "<IPython.core.display.Markdown object>"
      ]
     },
     "metadata": {},
     "output_type": "display_data"
    },
    {
     "data": {
      "text/markdown": [
       "---\n",
       "**Target**: TF_Pelvis_Moment_Y_BWBH  \n",
       "**Features**: Recipe 33: foot IMUs,shank IMUs,thigh IMUs  \n",
       "**$R^2$ = 0.487**"
      ],
      "text/plain": [
       "<IPython.core.display.Markdown object>"
      ]
     },
     "metadata": {},
     "output_type": "display_data"
    },
    {
     "data": {
      "text/markdown": [
       "---\n",
       "**Target**: TF_Pelvis_Moment_Y_BWBH  \n",
       "**Features**: Recipe 34: foot IMUs,shank IMUs,pelvis IMU  \n",
       "**$R^2$ = 0.670**"
      ],
      "text/plain": [
       "<IPython.core.display.Markdown object>"
      ]
     },
     "metadata": {},
     "output_type": "display_data"
    },
    {
     "data": {
      "text/markdown": [
       "---\n",
       "**Target**: TF_Pelvis_Moment_Y_BWBH  \n",
       "**Features**: Recipe 35: foot IMUs,shank IMUs,trunk  \n",
       "**$R^2$ = 0.712**"
      ],
      "text/plain": [
       "<IPython.core.display.Markdown object>"
      ]
     },
     "metadata": {},
     "output_type": "display_data"
    },
    {
     "data": {
      "text/markdown": [
       "---\n",
       "**Target**: TF_Pelvis_Moment_Y_BWBH  \n",
       "**Features**: Recipe 36: foot IMUs,thigh IMUs,pelvis IMU  \n",
       "**$R^2$ = 0.700**"
      ],
      "text/plain": [
       "<IPython.core.display.Markdown object>"
      ]
     },
     "metadata": {},
     "output_type": "display_data"
    },
    {
     "data": {
      "text/markdown": [
       "---\n",
       "**Target**: TF_Pelvis_Moment_Y_BWBH  \n",
       "**Features**: Recipe 37: foot IMUs,thigh IMUs,trunk  \n",
       "**$R^2$ = 0.716**"
      ],
      "text/plain": [
       "<IPython.core.display.Markdown object>"
      ]
     },
     "metadata": {},
     "output_type": "display_data"
    },
    {
     "data": {
      "text/markdown": [
       "---\n",
       "**Target**: TF_Pelvis_Moment_Y_BWBH  \n",
       "**Features**: Recipe 38: foot IMUs,pelvis IMU,trunk  \n",
       "**$R^2$ = 0.701**"
      ],
      "text/plain": [
       "<IPython.core.display.Markdown object>"
      ]
     },
     "metadata": {},
     "output_type": "display_data"
    },
    {
     "data": {
      "text/markdown": [
       "---\n",
       "**Target**: TF_Pelvis_Moment_Y_BWBH  \n",
       "**Features**: Recipe 39: shank IMUs,thigh IMUs,pelvis IMU  \n",
       "**$R^2$ = 0.710**"
      ],
      "text/plain": [
       "<IPython.core.display.Markdown object>"
      ]
     },
     "metadata": {},
     "output_type": "display_data"
    },
    {
     "data": {
      "text/markdown": [
       "---\n",
       "**Target**: TF_Pelvis_Moment_Y_BWBH  \n",
       "**Features**: Recipe 40: shank IMUs,thigh IMUs,trunk  \n",
       "**$R^2$ = 0.723**"
      ],
      "text/plain": [
       "<IPython.core.display.Markdown object>"
      ]
     },
     "metadata": {},
     "output_type": "display_data"
    },
    {
     "data": {
      "text/markdown": [
       "---\n",
       "**Target**: TF_Pelvis_Moment_Y_BWBH  \n",
       "**Features**: Recipe 41: shank IMUs,pelvis IMU,trunk  \n",
       "**$R^2$ = 0.723**"
      ],
      "text/plain": [
       "<IPython.core.display.Markdown object>"
      ]
     },
     "metadata": {},
     "output_type": "display_data"
    },
    {
     "data": {
      "text/markdown": [
       "---\n",
       "**Target**: TF_Pelvis_Moment_Y_BWBH  \n",
       "**Features**: Recipe 42: thigh IMUs,pelvis IMU,trunk  \n",
       "**$R^2$ = 0.713**"
      ],
      "text/plain": [
       "<IPython.core.display.Markdown object>"
      ]
     },
     "metadata": {},
     "output_type": "display_data"
    },
    {
     "data": {
      "text/markdown": [
       "---\n",
       "**Target**: TF_Pelvis_Moment_Y_BWBH  \n",
       "**Features**: Recipe 43: insole,foot IMUs  \n",
       "**$R^2$ = 0.660**"
      ],
      "text/plain": [
       "<IPython.core.display.Markdown object>"
      ]
     },
     "metadata": {},
     "output_type": "display_data"
    },
    {
     "data": {
      "text/markdown": [
       "---\n",
       "**Target**: TF_Pelvis_Moment_Y_BWBH  \n",
       "**Features**: Recipe 44: insole,shank IMUs  \n",
       "**$R^2$ = 0.707**"
      ],
      "text/plain": [
       "<IPython.core.display.Markdown object>"
      ]
     },
     "metadata": {},
     "output_type": "display_data"
    },
    {
     "data": {
      "text/markdown": [
       "---\n",
       "**Target**: TF_Pelvis_Moment_Y_BWBH  \n",
       "**Features**: Recipe 45: insole,thigh IMUs  \n",
       "**$R^2$ = 0.714**"
      ],
      "text/plain": [
       "<IPython.core.display.Markdown object>"
      ]
     },
     "metadata": {},
     "output_type": "display_data"
    },
    {
     "data": {
      "text/markdown": [
       "---\n",
       "**Target**: TF_Pelvis_Moment_Y_BWBH  \n",
       "**Features**: Recipe 46: insole,pelvis IMU  \n",
       "**$R^2$ = 0.796**"
      ],
      "text/plain": [
       "<IPython.core.display.Markdown object>"
      ]
     },
     "metadata": {},
     "output_type": "display_data"
    },
    {
     "data": {
      "text/markdown": [
       "---\n",
       "**Target**: TF_Pelvis_Moment_Y_BWBH  \n",
       "**Features**: Recipe 47: insole,trunk  \n",
       "**$R^2$ = 0.831**"
      ],
      "text/plain": [
       "<IPython.core.display.Markdown object>"
      ]
     },
     "metadata": {},
     "output_type": "display_data"
    },
    {
     "data": {
      "text/markdown": [
       "---\n",
       "**Target**: TF_Pelvis_Moment_Y_BWBH  \n",
       "**Features**: Recipe 48: foot IMUs,shank IMUs  \n",
       "**$R^2$ = 0.492**"
      ],
      "text/plain": [
       "<IPython.core.display.Markdown object>"
      ]
     },
     "metadata": {},
     "output_type": "display_data"
    },
    {
     "data": {
      "text/markdown": [
       "---\n",
       "**Target**: TF_Pelvis_Moment_Y_BWBH  \n",
       "**Features**: Recipe 49: foot IMUs,thigh IMUs  \n",
       "**$R^2$ = 0.546**"
      ],
      "text/plain": [
       "<IPython.core.display.Markdown object>"
      ]
     },
     "metadata": {},
     "output_type": "display_data"
    },
    {
     "data": {
      "text/markdown": [
       "---\n",
       "**Target**: TF_Pelvis_Moment_Y_BWBH  \n",
       "**Features**: Recipe 50: foot IMUs,pelvis IMU  \n",
       "**$R^2$ = 0.662**"
      ],
      "text/plain": [
       "<IPython.core.display.Markdown object>"
      ]
     },
     "metadata": {},
     "output_type": "display_data"
    },
    {
     "data": {
      "text/markdown": [
       "---\n",
       "**Target**: TF_Pelvis_Moment_Y_BWBH  \n",
       "**Features**: Recipe 51: foot IMUs,trunk  \n",
       "**$R^2$ = 0.688**"
      ],
      "text/plain": [
       "<IPython.core.display.Markdown object>"
      ]
     },
     "metadata": {},
     "output_type": "display_data"
    },
    {
     "data": {
      "text/markdown": [
       "---\n",
       "**Target**: TF_Pelvis_Moment_Y_BWBH  \n",
       "**Features**: Recipe 52: shank IMUs,thigh IMUs  \n",
       "**$R^2$ = 0.426**"
      ],
      "text/plain": [
       "<IPython.core.display.Markdown object>"
      ]
     },
     "metadata": {},
     "output_type": "display_data"
    },
    {
     "data": {
      "text/markdown": [
       "---\n",
       "**Target**: TF_Pelvis_Moment_Y_BWBH  \n",
       "**Features**: Recipe 53: shank IMUs,pelvis IMU  \n",
       "**$R^2$ = 0.684**"
      ],
      "text/plain": [
       "<IPython.core.display.Markdown object>"
      ]
     },
     "metadata": {},
     "output_type": "display_data"
    },
    {
     "data": {
      "text/markdown": [
       "---\n",
       "**Target**: TF_Pelvis_Moment_Y_BWBH  \n",
       "**Features**: Recipe 54: shank IMUs,trunk  \n",
       "**$R^2$ = 0.721**"
      ],
      "text/plain": [
       "<IPython.core.display.Markdown object>"
      ]
     },
     "metadata": {},
     "output_type": "display_data"
    },
    {
     "data": {
      "text/markdown": [
       "---\n",
       "**Target**: TF_Pelvis_Moment_Y_BWBH  \n",
       "**Features**: Recipe 55: thigh IMUs,pelvis IMU  \n",
       "**$R^2$ = 0.689**"
      ],
      "text/plain": [
       "<IPython.core.display.Markdown object>"
      ]
     },
     "metadata": {},
     "output_type": "display_data"
    },
    {
     "data": {
      "text/markdown": [
       "---\n",
       "**Target**: TF_Pelvis_Moment_Y_BWBH  \n",
       "**Features**: Recipe 56: thigh IMUs,trunk  \n",
       "**$R^2$ = 0.714**"
      ],
      "text/plain": [
       "<IPython.core.display.Markdown object>"
      ]
     },
     "metadata": {},
     "output_type": "display_data"
    },
    {
     "data": {
      "text/markdown": [
       "---\n",
       "**Target**: TF_Pelvis_Moment_Y_BWBH  \n",
       "**Features**: Recipe 57: pelvis IMU,trunk  \n",
       "**$R^2$ = 0.626**"
      ],
      "text/plain": [
       "<IPython.core.display.Markdown object>"
      ]
     },
     "metadata": {},
     "output_type": "display_data"
    },
    {
     "data": {
      "text/markdown": [
       "---\n",
       "**Target**: TF_Pelvis_Moment_Y_BWBH  \n",
       "**Features**: Recipe 58: insole  \n",
       "**$R^2$ = 0.642**"
      ],
      "text/plain": [
       "<IPython.core.display.Markdown object>"
      ]
     },
     "metadata": {},
     "output_type": "display_data"
    },
    {
     "data": {
      "text/markdown": [
       "---\n",
       "**Target**: TF_Pelvis_Moment_Y_BWBH  \n",
       "**Features**: Recipe 59: foot IMUs  \n",
       "**$R^2$ = 0.450**"
      ],
      "text/plain": [
       "<IPython.core.display.Markdown object>"
      ]
     },
     "metadata": {},
     "output_type": "display_data"
    },
    {
     "data": {
      "text/markdown": [
       "---\n",
       "**Target**: TF_Pelvis_Moment_Y_BWBH  \n",
       "**Features**: Recipe 60: shank IMUs  \n",
       "**$R^2$ = 0.424**"
      ],
      "text/plain": [
       "<IPython.core.display.Markdown object>"
      ]
     },
     "metadata": {},
     "output_type": "display_data"
    },
    {
     "data": {
      "text/markdown": [
       "---\n",
       "**Target**: TF_Pelvis_Moment_Y_BWBH  \n",
       "**Features**: Recipe 61: thigh IMUs  \n",
       "**$R^2$ = 0.477**"
      ],
      "text/plain": [
       "<IPython.core.display.Markdown object>"
      ]
     },
     "metadata": {},
     "output_type": "display_data"
    },
    {
     "data": {
      "text/markdown": [
       "---\n",
       "**Target**: TF_Pelvis_Moment_Y_BWBH  \n",
       "**Features**: Recipe 62: pelvis IMU  \n",
       "**$R^2$ = 0.519**"
      ],
      "text/plain": [
       "<IPython.core.display.Markdown object>"
      ]
     },
     "metadata": {},
     "output_type": "display_data"
    },
    {
     "data": {
      "text/markdown": [
       "---\n",
       "**Target**: TF_Pelvis_Moment_Y_BWBH  \n",
       "**Features**: Recipe 63: trunk  \n",
       "**$R^2$ = 0.638**"
      ],
      "text/plain": [
       "<IPython.core.display.Markdown object>"
      ]
     },
     "metadata": {},
     "output_type": "display_data"
    }
   ],
   "source": [
    "target_name = \"TF_Pelvis_Moment_Y_BWBH\"\n",
    "r2_scores, importances = run_experiments(target_name, feature_sets)"
   ]
  },
  {
   "cell_type": "code",
   "execution_count": 12,
   "metadata": {},
   "outputs": [],
   "source": [
    "os.makedirs(\"results\", exist_ok=True)\n",
    "with pd.ExcelWriter(f\"results/CPAC10S_N7_09_15_20 - {target_name}.xlsx\") as writer:\n",
    "    df_results = pd.DataFrame({\"R2 Score\": r2_scores})\n",
    "    df_results.to_excel(writer, sheet_name=\"R2 Score\")\n",
    "    \n",
    "    for feature_set_name, importance in importances.items():\n",
    "        df_results = pd.DataFrame(\n",
    "            {\n",
    "                \"Short name\": map(predictor_short_name, importance.index),\n",
    "                \"Importance\": importance,\n",
    "            }\n",
    "        )\n",
    "        df_results.to_excel(writer, sheet_name=feature_set_name.split(\":\")[0])"
   ]
  }
 ],
 "metadata": {
  "kernelspec": {
   "display_name": "conda_cpac",
   "language": "python",
   "name": "conda_cpac"
  },
  "language_info": {
   "codemirror_mode": {
    "name": "ipython",
    "version": 3
   },
   "file_extension": ".py",
   "mimetype": "text/x-python",
   "name": "python",
   "nbconvert_exporter": "python",
   "pygments_lexer": "ipython3",
   "version": "3.6.11"
  }
 },
 "nbformat": 4,
 "nbformat_minor": 4
}
