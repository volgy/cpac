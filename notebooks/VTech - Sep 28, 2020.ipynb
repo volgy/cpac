{
 "cells": [
  {
   "cell_type": "markdown",
   "metadata": {},
   "source": [
    "# Experiments with the VTech dataset"
   ]
  },
  {
   "cell_type": "code",
   "execution_count": 1,
   "metadata": {},
   "outputs": [],
   "source": [
    "# Standard library\n",
    "import warnings\n",
    "\n",
    "# Third party\n",
    "import numpy as np\n",
    "import pandas as pd\n",
    "import matplotlib.pyplot as plt\n",
    "\n",
    "import sklearn\n",
    "assert sklearn.__version__ >= \"0.21\", \"Use the conda_python3_latest kernel!\"\n",
    "from sklearn import linear_model\n",
    "\n",
    "# Local\n",
    "import utils\n",
    "\n",
    "# matplotlib hackery\n",
    "%matplotlib inline"
   ]
  },
  {
   "cell_type": "markdown",
   "metadata": {},
   "source": [
    "## Load dataset - with column name fixes"
   ]
  },
  {
   "cell_type": "code",
   "execution_count": 2,
   "metadata": {},
   "outputs": [],
   "source": [
    "cols = []\n",
    "def load_dataset(data_files):\n",
    "    dfs = []\n",
    "    for data_file in data_files:\n",
    "        df = utils.load_dataset(f\"s3://cpac/ORIG/{data_file}\")\n",
    "        df.rename(columns={\n",
    "            \"Worker Number\": \"worker\",\n",
    "            \"Day Number\": \"day\",\n",
    "            \"Day\": \"day\",\n",
    "            \"Trial Number\": \"trial\",\n",
    "            \"Time (ms)\": \"time\",\n",
    "            \"state\": \"mode\",\n",
    "            \n",
    "            \"Orientation_T8_q0\": \"orientation_T8_q0\",\n",
    "            \"Orientation_T8_q1\": \"orientation_T8_q1\",\n",
    "            \"Orientation_T8_q2\": \"orientation_T8_q2\",\n",
    "            \"Orientation_T8_q3\": \"orientation_T8_q3\",\n",
    "            \"Orientation_RightUpperLeg_q0\": \"orientation_RightUpper_q0\",\n",
    "            \"Orientation_RightUpperLeg_q1\": \"orientation_RightUpper_q1\",\n",
    "            \"Orientation_RightUpperLeg_q2\": \"orientation_RightUpper_q2\",\n",
    "            \"Orientation_RightUpperLeg_q3\": \"orientation_RightUpper_q3\",\n",
    "            \"Orientation_LeftUpperLeg_q0\": \"orientation_LeftUpper_q0\",\n",
    "            \"Orientation_LeftUpperLeg_q1\": \"orientation_LeftUpper_q1\",\n",
    "            \"Orientation_LeftUpperLeg_q2\": \"orientation_LeftUpper_q2\",\n",
    "            \"Orientation_LeftUpperLeg_q3\": \"orientation_LeftUpper_q3\",\n",
    "            \"Position_T8_x\": \"position_T8_x\",\n",
    "            \"Position_T8_y\": \"position_T8_y\",\n",
    "            \"Position_T8_z\": \"position_T8_z\",\n",
    "            \"Position_RightUpperLeg_x\": \"position_RightUpper_x\",\n",
    "            \"Position_RightUpperLeg_y\": \"position_RightUpper_y\",\n",
    "            \"Position_RightUpperLeg_z\": \"position_RightUpper_z\",\n",
    "            \"Position_LeftUpperLeg_x\": \"position_LeftUpper_x\",\n",
    "            \"Position_LeftUpperLeg_y\": \"position_LeftUpper_y\",\n",
    "            \"Position_LeftUpperLeg_z\": \"position_LeftUpper_z\",\n",
    "            \"Velocity_T8_x\": \"velocity_T8_x\",\n",
    "            \"Velocity_T8_y\": \"velocity_T8_y\",\n",
    "            \"Velocity_T8_z\": \"velocity_T8_z\",\n",
    "            \"Velocity_RightUpperLeg_x\": \"velocity_RightUpper_x\",\n",
    "            \"Velocity_RightUpperLeg_y\": \"velocity_RightUpper_y\",\n",
    "            \"Velocity_RightUpperLeg_z\": \"velocity_RightUpper_z\",\n",
    "            \"Velocity_LeftUpperLeg_x\": \"velocity_LeftUpper_x\",\n",
    "            \"Velocity_LeftUpperLeg_y\": \"velocity_LeftUpper_y\",\n",
    "            \"Velocity_LeftUpperLeg_z\": \"velocity_LeftUpper_z\",\n",
    "            \"Acceleration_T8_x\": \"acceleration_T8_x\",\n",
    "            \"Acceleration_T8_y\": \"acceleration_T8_y\",\n",
    "            \"Acceleration_T8_z\": \"acceleration_T8_z\",\n",
    "            \"Acceleration_RightUpperLeg_x\": \"acceleration_RightUpper_x\",\n",
    "            \"Acceleration_RightUpperLeg_y\": \"acceleration_RightUpper_y\",\n",
    "            \"Acceleration_RightUpperLeg_z\": \"acceleration_RightUpper_z\",\n",
    "            \"Acceleration_LeftUpperLeg_x\": \"acceleration_LeftUpper_x\",\n",
    "            \"Acceleration_LeftUpperLeg_y\": \"acceleration_LeftUpper_y\",\n",
    "            \"Acceleration_LeftUpperLeg_z\": \"acceleration_LeftUpper_z\",\n",
    "            \"angularVelocity_T8_x\": \"angularvelocity_T8_x\",\n",
    "            \"angularVelocity_T8_y\": \"angularvelocity_T8_y\",\n",
    "            \"angularVelocity_T8_z\": \"angularvelocity_T8_z\",\n",
    "            \"angularVelocity_RightUpperLeg_x\": \"angularvelocity_RightUpper_x\",\n",
    "            \"angularVelocity_RightUpperLeg_y\": \"angularvelocity_RightUpper_y\",\n",
    "            \"angularVelocity_RightUpperLeg_z\": \"angularvelocity_RightUpper_z\",\n",
    "            \"angularVelocity_LeftUpperLeg_x\": \"angularvelocity_LeftUpper_x\",\n",
    "            \"angularVelocity_LeftUpperLeg_y\": \"angularvelocity_LeftUpper_y\",\n",
    "            \"angularVelocity_LeftUpperLeg_z\": \"angularvelocity_LeftUpper_z\",\n",
    "            \"angularAcceleration_T8_x\": \"angularacceleration_T8_x\",\n",
    "            \"angularAcceleration_T8_y\": \"angularacceleration_T8_y\",\n",
    "            \"angularAcceleration_T8_z\": \"angularacceleration_T8_z\",\n",
    "            \"angularAcceleration_RightUpperLeg_x\": \"angularacceleration_RightUpper_x\",\n",
    "            \"angularAcceleration_RightUpperLeg_y\": \"angularacceleration_RightUpper_y\",\n",
    "            \"angularAcceleration_RightUpperLeg_z\": \"angularacceleration_RightUpper_z\",\n",
    "            \"angularAcceleration_LeftUpperLeg_x\": \"angularacceleration_LeftUpper_x\",\n",
    "            \"angularAcceleration_LeftUpperLeg_y\": \"angularacceleration_LeftUpper_y\",\n",
    "            \"angularAcceleration_LeftUpperLeg_z\": \"angularacceleration_LeftUpper_z\",\n",
    "            \"jT9T8\": \"jointangles_T8_x\",\n",
    "            \"jT9T8.1\": \"jointangles_T8_y\",\n",
    "            \"jT9T8.2\": \"jointangles_T8_z\",\n",
    "            \"jRightHip\": \"jointangles_RightUpper_x\",\n",
    "            \"jRightHip.1\": \"jointangles_RightUpper_y\",\n",
    "            \"jRightHip.2\": \"jointangles_RightUpper_z\",\n",
    "            \"jLeftHip\": \"jointangles_LeftUpper_x\",\n",
    "            \"jLeftHip.1\": \"jointangles_LeftUpper_y\",\n",
    "            \"jLeftHip.2\": \"jointangles_LeftUpper_z\",\n",
    "        }, inplace=True)\n",
    "                          \n",
    "        df.drop(columns=[\"mode_graph\"], inplace=True)\n",
    "        dfs.append(df)\n",
    "        cols.append(df.columns)\n",
    "    return pd.concat(dfs, ignore_index=True)\n",
    "                                \n",
    "df = load_dataset([\n",
    "    \"VTech/W1_Day1a.csv\",\n",
    "    \"VTech/W1_Day1b.csv\",\n",
    "    \"VTech/VTdata_W2a.csv\",\n",
    "    \"VTech/VTdata_W2b.csv\",\n",
    "    \"VTech/W3_D1_2.csv\",\n",
    "    \"VTech/W3_D1_3.csv\",\n",
    "    \"VTech/VTdata_W4_D1a.csv\",\n",
    "    \"VTech/VTdata_W4_D1b.csv\"\n",
    "])"
   ]
  },
  {
   "cell_type": "markdown",
   "metadata": {},
   "source": [
    "## Convert mode labels to numbers\n",
    "\n",
    "Engage = `1`, Disengage (or enything else) = `0`"
   ]
  },
  {
   "cell_type": "code",
   "execution_count": 3,
   "metadata": {},
   "outputs": [],
   "source": [
    "df[\"mode\"] = df[\"mode\"].str.contains(\"Engage\").astype(\"int\")"
   ]
  },
  {
   "cell_type": "markdown",
   "metadata": {},
   "source": [
    "## Dataset information"
   ]
  },
  {
   "cell_type": "code",
   "execution_count": 38,
   "metadata": {},
   "outputs": [
    {
     "name": "stdout",
     "output_type": "stream",
     "text": [
      "Number of workers: 4\n",
      "\tWorker 1: 1 days, 5 trials,  28 transitions,  1,448,215 samples\n",
      "\tWorker 2: 3 days, 4 trials,  68 transitions,  1,351,866 samples\n",
      "\tWorker 3: 1 days, 2 trials,  59 transitions,    859,697 samples\n",
      "\tWorker 4: 1 days, 6 trials, 110 transitions,  1,646,663 samples\n",
      "Total number of transitions: 266.0\n"
     ]
    }
   ],
   "source": [
    "print(f\"Number of workers: {len(df['worker'].unique())}\")\n",
    "for worker, worker_df in df.groupby(\"worker\"):\n",
    "    print(f\"\\tWorker {worker}: {len(worker_df['day'].unique())} days\"\n",
    "          f\", {len(worker_df['trial'].unique())} trials\"\n",
    "          f\", {worker_df['mode'].diff().abs().sum():3.0f} transitions\"\n",
    "          f\", {len(worker_df):10,} samples\")\n",
    "print(f\"Total number of transitions: {df['mode'].diff().abs().sum()}\")\n"
   ]
  },
  {
   "cell_type": "markdown",
   "metadata": {},
   "source": [
    "## Simple experiment with SGD\n",
    "\n",
    "Using a manual train/test allocation."
   ]
  },
  {
   "cell_type": "code",
   "execution_count": 5,
   "metadata": {},
   "outputs": [],
   "source": [
    "test_selector = df[\"worker\"] == 4\n",
    "train, test = df[~test_selector], df[test_selector]"
   ]
  },
  {
   "cell_type": "code",
   "execution_count": 6,
   "metadata": {},
   "outputs": [
    {
     "name": "stderr",
     "output_type": "stream",
     "text": [
      "/home/ec2-user/anaconda3/envs/cpac/lib/python3.6/site-packages/sklearn/linear_model/_stochastic_gradient.py:573: ConvergenceWarning: Maximum number of iteration reached before convergence. Consider increasing max_iter to improve the fit.\n",
      "  ConvergenceWarning)\n"
     ]
    },
    {
     "data": {
      "text/plain": [
       "SGDClassifier(max_iter=50)"
      ]
     },
     "execution_count": 6,
     "metadata": {},
     "output_type": "execute_result"
    }
   ],
   "source": [
    "features = pd.IndexSlice[\"orientation_T8_q0\": \"jointangles_LeftUpper_z\"]\n",
    "target = \"mode\"\n",
    "\n",
    "clf = linear_model.SGDClassifier(max_iter=50)\n",
    "clf.fit(train.loc[:, features], train.loc[:, target])"
   ]
  },
  {
   "cell_type": "code",
   "execution_count": 7,
   "metadata": {},
   "outputs": [
    {
     "data": {
      "text/plain": [
       "0.6505654162387811"
      ]
     },
     "execution_count": 7,
     "metadata": {},
     "output_type": "execute_result"
    }
   ],
   "source": [
    "clf.score(test.loc[:, features], test.loc[:, target])"
   ]
  },
  {
   "cell_type": "code",
   "execution_count": 40,
   "metadata": {},
   "outputs": [
    {
     "data": {
      "text/plain": [
       "[<matplotlib.lines.Line2D at 0x7f4f55e29438>]"
      ]
     },
     "execution_count": 40,
     "metadata": {},
     "output_type": "execute_result"
    },
    {
     "data": {
      "image/png": "[encoded data removed]",
      "text/plain": [
       "<Figure size 1152x576 with 1 Axes>"
      ]
     },
     "metadata": {
      "needs_background": "light"
     },
     "output_type": "display_data"
    },
    {
     "data": {
      "image/png": "[encoded data removed]",
      "text/plain": [
       "<Figure size 1152x576 with 1 Axes>"
      ]
     },
     "metadata": {
      "needs_background": "light"
     },
     "output_type": "display_data"
    }
   ],
   "source": [
    "y_hat = clf.predict(test.loc[:, features])\n",
    "y = test.loc[:, target]\n",
    "plt.figure(figsize=(16,8))\n",
    "plt.plot(y)\n",
    "plt.figure(figsize=(16,8))\n",
    "plt.plot(y_hat, 'r')"
   ]
  }
 ],
 "metadata": {
  "kernelspec": {
   "display_name": "conda_cpac",
   "language": "python",
   "name": "conda_cpac"
  },
  "language_info": {
   "codemirror_mode": {
    "name": "ipython",
    "version": 3
   },
   "file_extension": ".py",
   "mimetype": "text/x-python",
   "name": "python",
   "nbconvert_exporter": "python",
   "pygments_lexer": "ipython3",
   "version": "3.6.10"
  }
 },
 "nbformat": 4,
 "nbformat_minor": 4
}
