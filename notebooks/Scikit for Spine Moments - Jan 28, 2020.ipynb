{
 "cells": [
  {
   "cell_type": "markdown",
   "metadata": {},
   "source": [
    "# Scikit-learn experiments for Spine Moments\n",
    "\n",
    "This notebook aims to explore and compare various scikit-learn algorithms for estimating spine moments. It also tries to identify the important (most predictive) features in the dataset."
   ]
  },
  {
   "cell_type": "markdown",
   "metadata": {},
   "source": [
    "## Imports"
   ]
  },
  {
   "cell_type": "code",
   "execution_count": 1,
   "metadata": {},
   "outputs": [],
   "source": [
    "# Standard library\n",
    "\n",
    "# Third party\n",
    "import numpy as np\n",
    "import pandas as pd\n",
    "import matplotlib.pyplot as plt\n",
    "from sklearn import linear_model, svm, ensemble\n",
    "from sklearn import metrics, preprocessing, pipeline, model_selection\n",
    "\n",
    "# Local\n",
    "import utils\n",
    "\n",
    "# matplotlib hackery\n",
    "%matplotlib inline\n",
    "plt.rcParams[\"figure.figsize\"] = (16,8)"
   ]
  },
  {
   "cell_type": "markdown",
   "metadata": {},
   "source": [
    "## Load and describe dataset"
   ]
  },
  {
   "cell_type": "code",
   "execution_count": 2,
   "metadata": {
    "scrolled": true
   },
   "outputs": [
    {
     "data": {
      "text/html": [
       "<div>\n",
       "<style scoped>\n",
       "    .dataframe tbody tr th:only-of-type {\n",
       "        vertical-align: middle;\n",
       "    }\n",
       "\n",
       "    .dataframe tbody tr th {\n",
       "        vertical-align: top;\n",
       "    }\n",
       "\n",
       "    .dataframe thead th {\n",
       "        text-align: right;\n",
       "    }\n",
       "</style>\n",
       "<table border=\"1\" class=\"dataframe\">\n",
       "  <thead>\n",
       "    <tr style=\"text-align: right;\">\n",
       "      <th></th>\n",
       "      <th>Trial_Index</th>\n",
       "      <th>Mass</th>\n",
       "      <th>Distance_L5S1_to_Mass</th>\n",
       "      <th>Pelvis_Moment_X</th>\n",
       "      <th>Pelvis_Moment_Y</th>\n",
       "      <th>Pelvis_Moment_Z</th>\n",
       "      <th>Lumbar_Ang_X</th>\n",
       "      <th>Lumbar_Ang_Y</th>\n",
       "      <th>Lumbar_Ang_Z</th>\n",
       "      <th>single_equiv_force</th>\n",
       "      <th>...</th>\n",
       "      <th>LEFT_THIGH_ANGLE_Z</th>\n",
       "      <th>RIGHT_THIGH_ANGLE_X</th>\n",
       "      <th>RIGHT_THIGH_ANGLE_Y</th>\n",
       "      <th>RIGHT_THIGH_ANGLE_Z</th>\n",
       "      <th>PELVIS_ANGLE_X</th>\n",
       "      <th>PELVIS_ANGLE_Y</th>\n",
       "      <th>PELVIS_ANGLE_Z</th>\n",
       "      <th>TRUNK_ANGLE_X</th>\n",
       "      <th>TRUNK_ANGLE_Y</th>\n",
       "      <th>TRUNK_ANGLE_Z</th>\n",
       "    </tr>\n",
       "  </thead>\n",
       "  <tbody>\n",
       "    <tr>\n",
       "      <th>count</th>\n",
       "      <td>326857.000000</td>\n",
       "      <td>326857.000000</td>\n",
       "      <td>3.134330e+05</td>\n",
       "      <td>326857.000000</td>\n",
       "      <td>326857.000000</td>\n",
       "      <td>326857.000000</td>\n",
       "      <td>326857.000000</td>\n",
       "      <td>326857.000000</td>\n",
       "      <td>326857.000000</td>\n",
       "      <td>326857.000000</td>\n",
       "      <td>...</td>\n",
       "      <td>326857.000000</td>\n",
       "      <td>326857.000000</td>\n",
       "      <td>326857.000000</td>\n",
       "      <td>326857.000000</td>\n",
       "      <td>326857.000000</td>\n",
       "      <td>326857.000000</td>\n",
       "      <td>326857.000000</td>\n",
       "      <td>326857.000000</td>\n",
       "      <td>326857.000000</td>\n",
       "      <td>326857.000000</td>\n",
       "    </tr>\n",
       "    <tr>\n",
       "      <th>mean</th>\n",
       "      <td>550.901061</td>\n",
       "      <td>13.060650</td>\n",
       "      <td>4.755246e+04</td>\n",
       "      <td>-56.924430</td>\n",
       "      <td>-2.007236</td>\n",
       "      <td>1.801304</td>\n",
       "      <td>0.217289</td>\n",
       "      <td>0.263557</td>\n",
       "      <td>1.556027</td>\n",
       "      <td>1543.119629</td>\n",
       "      <td>...</td>\n",
       "      <td>70.270698</td>\n",
       "      <td>-12.165187</td>\n",
       "      <td>6.565665</td>\n",
       "      <td>-32.334231</td>\n",
       "      <td>23.663262</td>\n",
       "      <td>-0.125566</td>\n",
       "      <td>61.930977</td>\n",
       "      <td>23.590295</td>\n",
       "      <td>-0.173759</td>\n",
       "      <td>26.845149</td>\n",
       "    </tr>\n",
       "    <tr>\n",
       "      <th>std</th>\n",
       "      <td>356.596820</td>\n",
       "      <td>7.028454</td>\n",
       "      <td>2.830211e+05</td>\n",
       "      <td>62.666032</td>\n",
       "      <td>24.202408</td>\n",
       "      <td>13.793083</td>\n",
       "      <td>16.232351</td>\n",
       "      <td>6.093049</td>\n",
       "      <td>6.206927</td>\n",
       "      <td>1336.258779</td>\n",
       "      <td>...</td>\n",
       "      <td>150.927731</td>\n",
       "      <td>15.872266</td>\n",
       "      <td>8.735397</td>\n",
       "      <td>164.178904</td>\n",
       "      <td>18.403032</td>\n",
       "      <td>12.942169</td>\n",
       "      <td>156.666012</td>\n",
       "      <td>34.222313</td>\n",
       "      <td>20.524460</td>\n",
       "      <td>165.951000</td>\n",
       "    </tr>\n",
       "    <tr>\n",
       "      <th>min</th>\n",
       "      <td>3.000000</td>\n",
       "      <td>0.000000</td>\n",
       "      <td>1.548541e-01</td>\n",
       "      <td>-2449.074219</td>\n",
       "      <td>-2658.472412</td>\n",
       "      <td>-1935.551514</td>\n",
       "      <td>-46.273388</td>\n",
       "      <td>-21.318174</td>\n",
       "      <td>-117.669724</td>\n",
       "      <td>-102073.642578</td>\n",
       "      <td>...</td>\n",
       "      <td>-179.999832</td>\n",
       "      <td>-176.532043</td>\n",
       "      <td>-52.196800</td>\n",
       "      <td>-179.999939</td>\n",
       "      <td>-69.095657</td>\n",
       "      <td>-60.306068</td>\n",
       "      <td>-179.999969</td>\n",
       "      <td>-132.986252</td>\n",
       "      <td>-80.237129</td>\n",
       "      <td>-179.999939</td>\n",
       "    </tr>\n",
       "    <tr>\n",
       "      <th>25%</th>\n",
       "      <td>258.000000</td>\n",
       "      <td>5.000000</td>\n",
       "      <td>5.923886e-01</td>\n",
       "      <td>-100.249306</td>\n",
       "      <td>-8.135581</td>\n",
       "      <td>-0.720945</td>\n",
       "      <td>-11.921501</td>\n",
       "      <td>-1.284068</td>\n",
       "      <td>-1.176766</td>\n",
       "      <td>410.167339</td>\n",
       "      <td>...</td>\n",
       "      <td>-139.329865</td>\n",
       "      <td>-23.045811</td>\n",
       "      <td>2.270329</td>\n",
       "      <td>-175.149445</td>\n",
       "      <td>11.938208</td>\n",
       "      <td>-1.212119</td>\n",
       "      <td>-155.526352</td>\n",
       "      <td>-0.752870</td>\n",
       "      <td>-1.551870</td>\n",
       "      <td>-170.745026</td>\n",
       "    </tr>\n",
       "    <tr>\n",
       "      <th>50%</th>\n",
       "      <td>516.000000</td>\n",
       "      <td>15.000000</td>\n",
       "      <td>8.052416e-01</td>\n",
       "      <td>-40.261185</td>\n",
       "      <td>-1.552153</td>\n",
       "      <td>1.003200</td>\n",
       "      <td>6.861834</td>\n",
       "      <td>0.511627</td>\n",
       "      <td>0.956144</td>\n",
       "      <td>1207.146545</td>\n",
       "      <td>...</td>\n",
       "      <td>169.074860</td>\n",
       "      <td>-7.986135</td>\n",
       "      <td>5.328621</td>\n",
       "      <td>-165.038147</td>\n",
       "      <td>16.987801</td>\n",
       "      <td>0.940023</td>\n",
       "      <td>170.696182</td>\n",
       "      <td>9.260746</td>\n",
       "      <td>0.602460</td>\n",
       "      <td>153.429443</td>\n",
       "    </tr>\n",
       "    <tr>\n",
       "      <th>75%</th>\n",
       "      <td>796.000000</td>\n",
       "      <td>15.000000</td>\n",
       "      <td>9.602046e-01</td>\n",
       "      <td>-3.046010</td>\n",
       "      <td>3.589606</td>\n",
       "      <td>3.666704</td>\n",
       "      <td>12.813206</td>\n",
       "      <td>1.672854</td>\n",
       "      <td>3.752961</td>\n",
       "      <td>2404.484619</td>\n",
       "      <td>...</td>\n",
       "      <td>174.397736</td>\n",
       "      <td>-0.198130</td>\n",
       "      <td>10.838295</td>\n",
       "      <td>166.513733</td>\n",
       "      <td>34.470535</td>\n",
       "      <td>2.225636</td>\n",
       "      <td>177.125229</td>\n",
       "      <td>44.353691</td>\n",
       "      <td>2.648847</td>\n",
       "      <td>177.208542</td>\n",
       "    </tr>\n",
       "    <tr>\n",
       "      <th>max</th>\n",
       "      <td>2048.000000</td>\n",
       "      <td>25.000000</td>\n",
       "      <td>1.732050e+06</td>\n",
       "      <td>2482.969971</td>\n",
       "      <td>1812.542114</td>\n",
       "      <td>1284.894043</td>\n",
       "      <td>67.007713</td>\n",
       "      <td>21.390240</td>\n",
       "      <td>44.820938</td>\n",
       "      <td>110511.052734</td>\n",
       "      <td>...</td>\n",
       "      <td>179.999954</td>\n",
       "      <td>171.471024</td>\n",
       "      <td>45.824146</td>\n",
       "      <td>179.999969</td>\n",
       "      <td>77.854538</td>\n",
       "      <td>63.638962</td>\n",
       "      <td>180.000000</td>\n",
       "      <td>165.166153</td>\n",
       "      <td>81.051125</td>\n",
       "      <td>179.999969</td>\n",
       "    </tr>\n",
       "  </tbody>\n",
       "</table>\n",
       "<p>8 rows × 41 columns</p>\n",
       "</div>"
      ],
      "text/plain": [
       "         Trial_Index           Mass  Distance_L5S1_to_Mass  Pelvis_Moment_X  \\\n",
       "count  326857.000000  326857.000000           3.134330e+05    326857.000000   \n",
       "mean      550.901061      13.060650           4.755246e+04       -56.924430   \n",
       "std       356.596820       7.028454           2.830211e+05        62.666032   \n",
       "min         3.000000       0.000000           1.548541e-01     -2449.074219   \n",
       "25%       258.000000       5.000000           5.923886e-01      -100.249306   \n",
       "50%       516.000000      15.000000           8.052416e-01       -40.261185   \n",
       "75%       796.000000      15.000000           9.602046e-01        -3.046010   \n",
       "max      2048.000000      25.000000           1.732050e+06      2482.969971   \n",
       "\n",
       "       Pelvis_Moment_Y  Pelvis_Moment_Z   Lumbar_Ang_X   Lumbar_Ang_Y  \\\n",
       "count    326857.000000    326857.000000  326857.000000  326857.000000   \n",
       "mean         -2.007236         1.801304       0.217289       0.263557   \n",
       "std          24.202408        13.793083      16.232351       6.093049   \n",
       "min       -2658.472412     -1935.551514     -46.273388     -21.318174   \n",
       "25%          -8.135581        -0.720945     -11.921501      -1.284068   \n",
       "50%          -1.552153         1.003200       6.861834       0.511627   \n",
       "75%           3.589606         3.666704      12.813206       1.672854   \n",
       "max        1812.542114      1284.894043      67.007713      21.390240   \n",
       "\n",
       "        Lumbar_Ang_Z  single_equiv_force  ...  LEFT_THIGH_ANGLE_Z  \\\n",
       "count  326857.000000       326857.000000  ...       326857.000000   \n",
       "mean        1.556027         1543.119629  ...           70.270698   \n",
       "std         6.206927         1336.258779  ...          150.927731   \n",
       "min      -117.669724      -102073.642578  ...         -179.999832   \n",
       "25%        -1.176766          410.167339  ...         -139.329865   \n",
       "50%         0.956144         1207.146545  ...          169.074860   \n",
       "75%         3.752961         2404.484619  ...          174.397736   \n",
       "max        44.820938       110511.052734  ...          179.999954   \n",
       "\n",
       "       RIGHT_THIGH_ANGLE_X  RIGHT_THIGH_ANGLE_Y  RIGHT_THIGH_ANGLE_Z  \\\n",
       "count        326857.000000        326857.000000        326857.000000   \n",
       "mean            -12.165187             6.565665           -32.334231   \n",
       "std              15.872266             8.735397           164.178904   \n",
       "min            -176.532043           -52.196800          -179.999939   \n",
       "25%             -23.045811             2.270329          -175.149445   \n",
       "50%              -7.986135             5.328621          -165.038147   \n",
       "75%              -0.198130            10.838295           166.513733   \n",
       "max             171.471024            45.824146           179.999969   \n",
       "\n",
       "       PELVIS_ANGLE_X  PELVIS_ANGLE_Y  PELVIS_ANGLE_Z  TRUNK_ANGLE_X  \\\n",
       "count   326857.000000   326857.000000   326857.000000  326857.000000   \n",
       "mean        23.663262       -0.125566       61.930977      23.590295   \n",
       "std         18.403032       12.942169      156.666012      34.222313   \n",
       "min        -69.095657      -60.306068     -179.999969    -132.986252   \n",
       "25%         11.938208       -1.212119     -155.526352      -0.752870   \n",
       "50%         16.987801        0.940023      170.696182       9.260746   \n",
       "75%         34.470535        2.225636      177.125229      44.353691   \n",
       "max         77.854538       63.638962      180.000000     165.166153   \n",
       "\n",
       "       TRUNK_ANGLE_Y  TRUNK_ANGLE_Z  \n",
       "count  326857.000000  326857.000000  \n",
       "mean       -0.173759      26.845149  \n",
       "std        20.524460     165.951000  \n",
       "min       -80.237129    -179.999939  \n",
       "25%        -1.551870    -170.745026  \n",
       "50%         0.602460     153.429443  \n",
       "75%         2.648847     177.208542  \n",
       "max        81.051125     179.999969  \n",
       "\n",
       "[8 rows x 41 columns]"
      ]
     },
     "execution_count": 2,
     "metadata": {},
     "output_type": "execute_result"
    }
   ],
   "source": [
    "df_orig = utils.load_dataset(\"s3://cpac/ORIG/SpinePredictions_500task_pilot_1S_06_16_19/S1_lumbar_results.csv\")\n",
    "df_orig.describe()"
   ]
  },
  {
   "cell_type": "markdown",
   "metadata": {},
   "source": [
    "## Cleaning the dataset"
   ]
  },
  {
   "cell_type": "code",
   "execution_count": 3,
   "metadata": {},
   "outputs": [
    {
     "name": "stdout",
     "output_type": "stream",
     "text": [
      "Meta (1): ['Trial_Name']\n",
      "Targets (1): ['Pelvis_Moment_X']\n",
      "Features (30): ['GRF_LeftFoot', 'GRF_RightFoot', 'LEFT_COP_Y', 'LEFT_COP_X', 'RIGHT_COP_Y', 'RIGHT_COP_X', 'LEFT_FOOT_ANGLE_X', 'LEFT_FOOT_ANGLE_Y', 'LEFT_FOOT_ANGLE_Z', 'RIGHT_FOOT_ANGLE_X', 'RIGHT_FOOT_ANGLE_Y', 'RIGHT_FOOT_ANGLE_Z', 'LEFT_SHANK_ANGLE_X', 'LEFT_SHANK_ANGLE_Y', 'LEFT_SHANK_ANGLE_Z', 'RIGHT_SHANK_ANGLE_X', 'RIGHT_SHANK_ANGLE_Y', 'RIGHT_SHANK_ANGLE_Z', 'LEFT_THIGH_ANGLE_X', 'LEFT_THIGH_ANGLE_Y', 'LEFT_THIGH_ANGLE_Z', 'RIGHT_THIGH_ANGLE_X', 'RIGHT_THIGH_ANGLE_Y', 'RIGHT_THIGH_ANGLE_Z', 'PELVIS_ANGLE_X', 'PELVIS_ANGLE_Y', 'PELVIS_ANGLE_Z', 'TRUNK_ANGLE_X', 'TRUNK_ANGLE_Y', 'TRUNK_ANGLE_Z']\n",
      "Ignored (13): {'single_equiv_force', 'poly_force', 'Trial_Index', 'Pelvis_Moment_Y', 'Pelvis_Moment_Z', 'Lumbar_Ang_Y', 'Distance_L5S1_to_Mass', 'Type', 'Lumbar_Ang_X', 'Lumbar_Ang_Z', 'Mass', 'Speed', 'Asy'}\n",
      "Number of samples: 270243 (orig: 326857)\n",
      "Number of trials: 328\n"
     ]
    },
    {
     "data": {
      "text/html": [
       "<div>\n",
       "<style scoped>\n",
       "    .dataframe tbody tr th:only-of-type {\n",
       "        vertical-align: middle;\n",
       "    }\n",
       "\n",
       "    .dataframe tbody tr th {\n",
       "        vertical-align: top;\n",
       "    }\n",
       "\n",
       "    .dataframe thead th {\n",
       "        text-align: right;\n",
       "    }\n",
       "</style>\n",
       "<table border=\"1\" class=\"dataframe\">\n",
       "  <thead>\n",
       "    <tr style=\"text-align: right;\">\n",
       "      <th></th>\n",
       "      <th>Pelvis_Moment_X</th>\n",
       "      <th>GRF_LeftFoot</th>\n",
       "      <th>GRF_RightFoot</th>\n",
       "      <th>LEFT_COP_Y</th>\n",
       "      <th>LEFT_COP_X</th>\n",
       "      <th>RIGHT_COP_Y</th>\n",
       "      <th>RIGHT_COP_X</th>\n",
       "      <th>LEFT_FOOT_ANGLE_X</th>\n",
       "      <th>LEFT_FOOT_ANGLE_Y</th>\n",
       "      <th>LEFT_FOOT_ANGLE_Z</th>\n",
       "      <th>...</th>\n",
       "      <th>LEFT_THIGH_ANGLE_Z</th>\n",
       "      <th>RIGHT_THIGH_ANGLE_X</th>\n",
       "      <th>RIGHT_THIGH_ANGLE_Y</th>\n",
       "      <th>RIGHT_THIGH_ANGLE_Z</th>\n",
       "      <th>PELVIS_ANGLE_X</th>\n",
       "      <th>PELVIS_ANGLE_Y</th>\n",
       "      <th>PELVIS_ANGLE_Z</th>\n",
       "      <th>TRUNK_ANGLE_X</th>\n",
       "      <th>TRUNK_ANGLE_Y</th>\n",
       "      <th>TRUNK_ANGLE_Z</th>\n",
       "    </tr>\n",
       "  </thead>\n",
       "  <tbody>\n",
       "    <tr>\n",
       "      <th>count</th>\n",
       "      <td>270243.000000</td>\n",
       "      <td>270243.000000</td>\n",
       "      <td>270243.000000</td>\n",
       "      <td>270243.000000</td>\n",
       "      <td>270243.000000</td>\n",
       "      <td>270243.000000</td>\n",
       "      <td>270243.000000</td>\n",
       "      <td>270243.000000</td>\n",
       "      <td>270243.000000</td>\n",
       "      <td>270243.000000</td>\n",
       "      <td>...</td>\n",
       "      <td>270243.000000</td>\n",
       "      <td>270243.000000</td>\n",
       "      <td>270243.000000</td>\n",
       "      <td>270243.000000</td>\n",
       "      <td>270243.000000</td>\n",
       "      <td>270243.000000</td>\n",
       "      <td>270243.000000</td>\n",
       "      <td>270243.000000</td>\n",
       "      <td>270243.000000</td>\n",
       "      <td>270243.000000</td>\n",
       "    </tr>\n",
       "    <tr>\n",
       "      <th>mean</th>\n",
       "      <td>-58.271800</td>\n",
       "      <td>351.009611</td>\n",
       "      <td>347.528258</td>\n",
       "      <td>0.064088</td>\n",
       "      <td>-0.005204</td>\n",
       "      <td>0.057847</td>\n",
       "      <td>0.009733</td>\n",
       "      <td>0.548492</td>\n",
       "      <td>1.370145</td>\n",
       "      <td>-154.141032</td>\n",
       "      <td>...</td>\n",
       "      <td>81.973486</td>\n",
       "      <td>-12.176310</td>\n",
       "      <td>6.644688</td>\n",
       "      <td>-41.125864</td>\n",
       "      <td>24.559152</td>\n",
       "      <td>0.233822</td>\n",
       "      <td>72.390124</td>\n",
       "      <td>24.617132</td>\n",
       "      <td>0.325102</td>\n",
       "      <td>33.995458</td>\n",
       "    </tr>\n",
       "    <tr>\n",
       "      <th>std</th>\n",
       "      <td>63.146730</td>\n",
       "      <td>139.620909</td>\n",
       "      <td>144.965017</td>\n",
       "      <td>0.039550</td>\n",
       "      <td>0.013432</td>\n",
       "      <td>0.044888</td>\n",
       "      <td>0.013013</td>\n",
       "      <td>4.484311</td>\n",
       "      <td>2.333030</td>\n",
       "      <td>35.924639</td>\n",
       "      <td>...</td>\n",
       "      <td>145.880699</td>\n",
       "      <td>16.623663</td>\n",
       "      <td>8.368830</td>\n",
       "      <td>163.300866</td>\n",
       "      <td>19.254156</td>\n",
       "      <td>12.461257</td>\n",
       "      <td>153.293256</td>\n",
       "      <td>35.521090</td>\n",
       "      <td>20.063828</td>\n",
       "      <td>166.291868</td>\n",
       "    </tr>\n",
       "    <tr>\n",
       "      <th>min</th>\n",
       "      <td>-2402.833496</td>\n",
       "      <td>31.049923</td>\n",
       "      <td>7.910173</td>\n",
       "      <td>-0.059850</td>\n",
       "      <td>-0.042518</td>\n",
       "      <td>-0.074452</td>\n",
       "      <td>-0.079393</td>\n",
       "      <td>-54.715187</td>\n",
       "      <td>-28.134977</td>\n",
       "      <td>-179.995941</td>\n",
       "      <td>...</td>\n",
       "      <td>-179.999481</td>\n",
       "      <td>-77.200333</td>\n",
       "      <td>-51.175518</td>\n",
       "      <td>-179.999939</td>\n",
       "      <td>-69.095657</td>\n",
       "      <td>-60.306068</td>\n",
       "      <td>-179.999969</td>\n",
       "      <td>-132.986252</td>\n",
       "      <td>-79.038773</td>\n",
       "      <td>-179.999924</td>\n",
       "    </tr>\n",
       "    <tr>\n",
       "      <th>25%</th>\n",
       "      <td>-105.405079</td>\n",
       "      <td>295.304688</td>\n",
       "      <td>277.938736</td>\n",
       "      <td>0.035119</td>\n",
       "      <td>-0.013607</td>\n",
       "      <td>0.025870</td>\n",
       "      <td>0.004911</td>\n",
       "      <td>-1.280319</td>\n",
       "      <td>0.090155</td>\n",
       "      <td>-166.630104</td>\n",
       "      <td>...</td>\n",
       "      <td>-125.412224</td>\n",
       "      <td>-24.244298</td>\n",
       "      <td>2.757124</td>\n",
       "      <td>-175.515869</td>\n",
       "      <td>11.783187</td>\n",
       "      <td>-0.760785</td>\n",
       "      <td>-148.887154</td>\n",
       "      <td>-1.131968</td>\n",
       "      <td>-1.155004</td>\n",
       "      <td>-172.789726</td>\n",
       "    </tr>\n",
       "    <tr>\n",
       "      <th>50%</th>\n",
       "      <td>-39.830818</td>\n",
       "      <td>342.664459</td>\n",
       "      <td>330.406830</td>\n",
       "      <td>0.055084</td>\n",
       "      <td>-0.006933</td>\n",
       "      <td>0.047331</td>\n",
       "      <td>0.013250</td>\n",
       "      <td>-0.116041</td>\n",
       "      <td>1.172100</td>\n",
       "      <td>-162.977798</td>\n",
       "      <td>...</td>\n",
       "      <td>170.512375</td>\n",
       "      <td>-6.721057</td>\n",
       "      <td>5.341134</td>\n",
       "      <td>-168.990936</td>\n",
       "      <td>17.011169</td>\n",
       "      <td>0.942613</td>\n",
       "      <td>173.597458</td>\n",
       "      <td>8.193121</td>\n",
       "      <td>0.576318</td>\n",
       "      <td>162.767914</td>\n",
       "    </tr>\n",
       "    <tr>\n",
       "      <th>75%</th>\n",
       "      <td>-1.282372</td>\n",
       "      <td>416.826080</td>\n",
       "      <td>417.774841</td>\n",
       "      <td>0.090734</td>\n",
       "      <td>0.000210</td>\n",
       "      <td>0.087186</td>\n",
       "      <td>0.018083</td>\n",
       "      <td>0.962277</td>\n",
       "      <td>2.468837</td>\n",
       "      <td>-159.202362</td>\n",
       "      <td>...</td>\n",
       "      <td>174.795052</td>\n",
       "      <td>0.322184</td>\n",
       "      <td>10.441864</td>\n",
       "      <td>166.473602</td>\n",
       "      <td>37.875759</td>\n",
       "      <td>1.925269</td>\n",
       "      <td>177.474342</td>\n",
       "      <td>50.983488</td>\n",
       "      <td>2.045681</td>\n",
       "      <td>177.649467</td>\n",
       "    </tr>\n",
       "    <tr>\n",
       "      <th>max</th>\n",
       "      <td>139.561554</td>\n",
       "      <td>1086.959351</td>\n",
       "      <td>1074.036377</td>\n",
       "      <td>0.541202</td>\n",
       "      <td>0.068788</td>\n",
       "      <td>0.514304</td>\n",
       "      <td>0.046803</td>\n",
       "      <td>63.657337</td>\n",
       "      <td>24.760069</td>\n",
       "      <td>179.993759</td>\n",
       "      <td>...</td>\n",
       "      <td>179.999954</td>\n",
       "      <td>55.367775</td>\n",
       "      <td>45.824146</td>\n",
       "      <td>179.999969</td>\n",
       "      <td>77.854538</td>\n",
       "      <td>50.970524</td>\n",
       "      <td>180.000000</td>\n",
       "      <td>148.291473</td>\n",
       "      <td>68.145386</td>\n",
       "      <td>179.999969</td>\n",
       "    </tr>\n",
       "  </tbody>\n",
       "</table>\n",
       "<p>8 rows × 31 columns</p>\n",
       "</div>"
      ],
      "text/plain": [
       "       Pelvis_Moment_X   GRF_LeftFoot  GRF_RightFoot     LEFT_COP_Y  \\\n",
       "count    270243.000000  270243.000000  270243.000000  270243.000000   \n",
       "mean        -58.271800     351.009611     347.528258       0.064088   \n",
       "std          63.146730     139.620909     144.965017       0.039550   \n",
       "min       -2402.833496      31.049923       7.910173      -0.059850   \n",
       "25%        -105.405079     295.304688     277.938736       0.035119   \n",
       "50%         -39.830818     342.664459     330.406830       0.055084   \n",
       "75%          -1.282372     416.826080     417.774841       0.090734   \n",
       "max         139.561554    1086.959351    1074.036377       0.541202   \n",
       "\n",
       "          LEFT_COP_X    RIGHT_COP_Y    RIGHT_COP_X  LEFT_FOOT_ANGLE_X  \\\n",
       "count  270243.000000  270243.000000  270243.000000      270243.000000   \n",
       "mean       -0.005204       0.057847       0.009733           0.548492   \n",
       "std         0.013432       0.044888       0.013013           4.484311   \n",
       "min        -0.042518      -0.074452      -0.079393         -54.715187   \n",
       "25%        -0.013607       0.025870       0.004911          -1.280319   \n",
       "50%        -0.006933       0.047331       0.013250          -0.116041   \n",
       "75%         0.000210       0.087186       0.018083           0.962277   \n",
       "max         0.068788       0.514304       0.046803          63.657337   \n",
       "\n",
       "       LEFT_FOOT_ANGLE_Y  LEFT_FOOT_ANGLE_Z  ...  LEFT_THIGH_ANGLE_Z  \\\n",
       "count      270243.000000      270243.000000  ...       270243.000000   \n",
       "mean            1.370145        -154.141032  ...           81.973486   \n",
       "std             2.333030          35.924639  ...          145.880699   \n",
       "min           -28.134977        -179.995941  ...         -179.999481   \n",
       "25%             0.090155        -166.630104  ...         -125.412224   \n",
       "50%             1.172100        -162.977798  ...          170.512375   \n",
       "75%             2.468837        -159.202362  ...          174.795052   \n",
       "max            24.760069         179.993759  ...          179.999954   \n",
       "\n",
       "       RIGHT_THIGH_ANGLE_X  RIGHT_THIGH_ANGLE_Y  RIGHT_THIGH_ANGLE_Z  \\\n",
       "count        270243.000000        270243.000000        270243.000000   \n",
       "mean            -12.176310             6.644688           -41.125864   \n",
       "std              16.623663             8.368830           163.300866   \n",
       "min             -77.200333           -51.175518          -179.999939   \n",
       "25%             -24.244298             2.757124          -175.515869   \n",
       "50%              -6.721057             5.341134          -168.990936   \n",
       "75%               0.322184            10.441864           166.473602   \n",
       "max              55.367775            45.824146           179.999969   \n",
       "\n",
       "       PELVIS_ANGLE_X  PELVIS_ANGLE_Y  PELVIS_ANGLE_Z  TRUNK_ANGLE_X  \\\n",
       "count   270243.000000   270243.000000   270243.000000  270243.000000   \n",
       "mean        24.559152        0.233822       72.390124      24.617132   \n",
       "std         19.254156       12.461257      153.293256      35.521090   \n",
       "min        -69.095657      -60.306068     -179.999969    -132.986252   \n",
       "25%         11.783187       -0.760785     -148.887154      -1.131968   \n",
       "50%         17.011169        0.942613      173.597458       8.193121   \n",
       "75%         37.875759        1.925269      177.474342      50.983488   \n",
       "max         77.854538       50.970524      180.000000     148.291473   \n",
       "\n",
       "       TRUNK_ANGLE_Y  TRUNK_ANGLE_Z  \n",
       "count  270243.000000  270243.000000  \n",
       "mean        0.325102      33.995458  \n",
       "std        20.063828     166.291868  \n",
       "min       -79.038773    -179.999924  \n",
       "25%        -1.155004    -172.789726  \n",
       "50%         0.576318     162.767914  \n",
       "75%         2.045681     177.649467  \n",
       "max        68.145386     179.999969  \n",
       "\n",
       "[8 rows x 31 columns]"
      ]
     },
     "execution_count": 3,
     "metadata": {},
     "output_type": "execute_result"
    }
   ],
   "source": [
    "meta = [\"Trial_Name\"]\n",
    "print(f\"Meta ({len(meta)}): {meta}\")\n",
    "\n",
    "targets = [\n",
    "           \"Pelvis_Moment_X\", \n",
    "#           \"Pelvis_Moment_Y\", \n",
    "#           \"Pelvis_Moment_Z\", \n",
    "#           \"single_equiv_force\", \n",
    "#           \"poly_force\",\n",
    "]\n",
    "print(f\"Targets ({len(targets)}): {targets}\")\n",
    "\n",
    "features = df_orig.loc[:, \"GRF_LeftFoot\":].columns.to_list()\n",
    "print(f\"Features ({len(features)}): {features}\")\n",
    "\n",
    "ignored = set(df_orig.columns) - set(meta + features + targets)\n",
    "print(f\"Ignored ({len(ignored)}): {ignored}\")\n",
    "\n",
    "df = df_orig[meta + targets + features].dropna()\n",
    "\n",
    "print(f\"Number of samples: {df.shape[0]} (orig: {df_orig.shape[0]})\")\n",
    "print(\"Number of trials:\", len(df_orig[\"Trial_Name\"].unique()))\n",
    "\n",
    "df.describe()"
   ]
  },
  {
   "cell_type": "markdown",
   "metadata": {},
   "source": [
    "## Understanding trials, find a good train/validation/test split\n",
    "\n",
    "We are using the _freestyle_ trials as testing data."
   ]
  },
  {
   "cell_type": "code",
   "execution_count": 4,
   "metadata": {},
   "outputs": [
    {
     "name": "stdout",
     "output_type": "stream",
     "text": [
      "Train: 228306, Test: 41937 (15.5%)\n"
     ]
    }
   ],
   "source": [
    "is_test = df['Trial_Name'].str.contains(\"freestyle\")\n",
    "df_test = df[is_test]\n",
    "df_train = df[~is_test]\n",
    "print(f\"Train: {len(df_train)}, Test: {len(df_test)} ({len(df_test) / len(df):.1%})\")\n"
   ]
  },
  {
   "cell_type": "markdown",
   "metadata": {},
   "source": [
    "## Simple linear regression"
   ]
  },
  {
   "cell_type": "code",
   "execution_count": 5,
   "metadata": {},
   "outputs": [
    {
     "name": "stdout",
     "output_type": "stream",
     "text": [
      "MSE(linear regression): 205.39\n"
     ]
    }
   ],
   "source": [
    "linreg = linear_model.LinearRegression()\n",
    "linreg.fit(df_train[features], df_train[targets])\n",
    "mse_linreg = metrics.mean_squared_error(linreg.predict(df_test[features]), df_test[targets])\n",
    "print(f\"MSE(linear regression): {mse_linreg:.2f}\")"
   ]
  },
  {
   "cell_type": "markdown",
   "metadata": {},
   "source": [
    "## Ridge regression"
   ]
  },
  {
   "cell_type": "code",
   "execution_count": 6,
   "metadata": {},
   "outputs": [
    {
     "name": "stdout",
     "output_type": "stream",
     "text": [
      "MSE(ridge regression): 205.39\n"
     ]
    }
   ],
   "source": [
    "ridgereg = pipeline.Pipeline([\n",
    "    ('scaler', preprocessing.StandardScaler()),\n",
    "    ('ridge', linear_model.Ridge())\n",
    "])\n",
    "ridgereg.fit(df_train[features], df_train[targets])\n",
    "mse_ridgereg = metrics.mean_squared_error(ridgereg.predict(df_test[features]), df_test[targets])\n",
    "print(f\"MSE(ridge regression): {mse_ridgereg:.2f}\")"
   ]
  },
  {
   "cell_type": "markdown",
   "metadata": {},
   "source": [
    "### Ridge hyperparameter search"
   ]
  },
  {
   "cell_type": "code",
   "execution_count": 7,
   "metadata": {},
   "outputs": [
    {
     "data": {
      "image/png": "[encoded data removed]",
      "text/plain": [
       "<Figure size 432x288 with 1 Axes>"
      ]
     },
     "metadata": {},
     "output_type": "display_data"
    }
   ],
   "source": [
    "param_range = np.logspace(-10, 10, 21)\n",
    "cv_train_scores, cv_test_scores = model_selection.validation_curve(\n",
    "    ridgereg, \n",
    "    df_train[features], df_train[targets],\n",
    "    param_name=\"ridge__alpha\", param_range=param_range,\n",
    "    cv=5, scoring=\"neg_mean_squared_error\", n_jobs=-1)\n",
    "\n",
    "cv_test_scores_mean = -np.mean(cv_test_scores, axis=1)\n",
    "cv_test_scores_std = np.std(cv_test_scores, axis=1)\n",
    "\n",
    "plt.title(\"Hyperparameter search for Ridge\")\n",
    "plt.xlabel(r\"$\\alpha$\")\n",
    "plt.ylabel(\"MSE\")\n",
    "lw = 2\n",
    "plt.semilogx(param_range, cv_test_scores_mean, label=\"Cross-validation score\",\n",
    "             color=\"navy\", lw=lw)\n",
    "plt.fill_between(param_range, cv_test_scores_mean - cv_test_scores_std,\n",
    "                 cv_test_scores_mean + cv_test_scores_std, alpha=0.2,\n",
    "                 color=\"navy\", lw=lw)\n",
    "plt.legend(loc=\"best\")\n",
    "plt.show()"
   ]
  },
  {
   "cell_type": "code",
   "execution_count": 8,
   "metadata": {},
   "outputs": [
    {
     "name": "stdout",
     "output_type": "stream",
     "text": [
      "Best alpha for Ridge: 1000.0\n",
      "MSE(Best Ridge regression): 203.52\n"
     ]
    }
   ],
   "source": [
    "best_alpha = param_range[np.argmin(cv_test_scores_mean)]\n",
    "print(f\"Best alpha for Ridge: {best_alpha}\")\n",
    "ridgereg.set_params(ridge__alpha=best_alpha)\n",
    "ridgereg.fit(df_train[features], df_train[targets])\n",
    "mse_ridgereg = metrics.mean_squared_error(ridgereg.predict(df_test[features]), df_test[targets])\n",
    "print(f\"MSE(Best Ridge regression): {mse_ridgereg:.2f}\")"
   ]
  },
  {
   "cell_type": "markdown",
   "metadata": {},
   "source": [
    "## Lasso regression"
   ]
  },
  {
   "cell_type": "code",
   "execution_count": 9,
   "metadata": {},
   "outputs": [
    {
     "name": "stdout",
     "output_type": "stream",
     "text": [
      "MSE(Lasso regression): 225.13\n"
     ]
    }
   ],
   "source": [
    "lassoreg = pipeline.Pipeline([\n",
    "    ('scaler', preprocessing.StandardScaler()),\n",
    "    ('lasso', linear_model.Lasso())\n",
    "])\n",
    "lassoreg.fit(df_train[features], df_train[targets])\n",
    "mse_lassoreg = metrics.mean_squared_error(lassoreg.predict(df_test[features]), df_test[targets])\n",
    "print(f\"MSE(Lasso regression): {mse_lassoreg:.2f}\")"
   ]
  },
  {
   "cell_type": "markdown",
   "metadata": {},
   "source": [
    "### Lasso hyperparameter search"
   ]
  },
  {
   "cell_type": "code",
   "execution_count": 10,
   "metadata": {},
   "outputs": [
    {
     "data": {
      "image/png": "[encoded data removed]",
      "text/plain": [
       "<Figure size 432x288 with 1 Axes>"
      ]
     },
     "metadata": {},
     "output_type": "display_data"
    }
   ],
   "source": [
    "param_range = np.logspace(-2, 2, 5)\n",
    "cv_train_scores, cv_test_scores = model_selection.validation_curve(\n",
    "    lassoreg, \n",
    "    df_train[features], df_train[targets],\n",
    "    param_name=\"lasso__alpha\", param_range=param_range,\n",
    "    cv=5, scoring=\"neg_mean_squared_error\", n_jobs=-1)\n",
    "\n",
    "cv_test_scores_mean = -np.mean(cv_test_scores, axis=1)\n",
    "cv_test_scores_std = np.std(cv_test_scores, axis=1)\n",
    "\n",
    "plt.title(\"Hyperparameter search for Lasso\")\n",
    "plt.xlabel(r\"$\\alpha$\")\n",
    "plt.ylabel(\"MSE\")\n",
    "lw = 2\n",
    "plt.semilogx(param_range, cv_test_scores_mean, label=\"Cross-validation score\",\n",
    "             color=\"navy\", lw=lw)\n",
    "plt.fill_between(param_range, cv_test_scores_mean - cv_test_scores_std,\n",
    "                 cv_test_scores_mean + cv_test_scores_std, alpha=0.2,\n",
    "                 color=\"navy\", lw=lw)\n",
    "plt.legend(loc=\"best\")\n",
    "plt.show()"
   ]
  },
  {
   "cell_type": "code",
   "execution_count": 11,
   "metadata": {},
   "outputs": [
    {
     "name": "stdout",
     "output_type": "stream",
     "text": [
      "Best alpha for Lasso: 0.01\n",
      "MSE(Best Lasso regression): 204.89\n"
     ]
    }
   ],
   "source": [
    "best_alpha = param_range[np.argmin(cv_test_scores_mean)]\n",
    "print(f\"Best alpha for Lasso: {best_alpha}\")\n",
    "lassoreg.set_params(lasso__alpha=best_alpha)\n",
    "lassoreg.fit(df_train[features], df_train[targets])\n",
    "mse_lassoreg = metrics.mean_squared_error(lassoreg.predict(df_test[features]), df_test[targets])\n",
    "print(f\"MSE(Best Lasso regression): {mse_lassoreg:.2f}\")"
   ]
  },
  {
   "cell_type": "code",
   "execution_count": 12,
   "metadata": {},
   "outputs": [
    {
     "data": {
      "image/png": "[encoded data removed]",
      "text/plain": [
       "<Figure size 432x288 with 1 Axes>"
      ]
     },
     "metadata": {},
     "output_type": "display_data"
    }
   ],
   "source": [
    "ind = np.arange(len(features))\n",
    "plt.bar(ind, np.abs(lassoreg.named_steps[\"lasso\"].coef_))\n",
    "plt.xticks(ind, features, rotation=90)\n",
    "plt.title(\"Feature importance for Lasso\");"
   ]
  },
  {
   "cell_type": "code",
   "execution_count": 13,
   "metadata": {},
   "outputs": [
    {
     "data": {
      "image/png": "[encoded data removed]",
      "text/plain": [
       "<Figure size 432x288 with 1 Axes>"
      ]
     },
     "metadata": {},
     "output_type": "display_data"
    }
   ],
   "source": [
    "plt.plot(df_test[targets], lassoreg.predict(df_test[features]), 'k.', alpha=.2)\n",
    "plt.grid()"
   ]
  },
  {
   "cell_type": "markdown",
   "metadata": {},
   "source": [
    "## SVM regression with Bagging"
   ]
  },
  {
   "cell_type": "code",
   "execution_count": 14,
   "metadata": {},
   "outputs": [
    {
     "name": "stdout",
     "output_type": "stream",
     "text": [
      "MSE(SVM regression): 543.32\n"
     ]
    }
   ],
   "source": [
    "scaler = preprocessing.StandardScaler()\n",
    "X_train = scaler.fit_transform(df_train[features])\n",
    "y_train = np.ravel(df_train[targets])\n",
    "X_test = scaler.transform(df_test[features])\n",
    "y_test = np.ravel(df_test[targets])\n",
    "\n",
    "svmreg = ensemble.BaggingRegressor(\n",
    "    svm.SVR(verbose=True),\n",
    "    n_estimators=20,\n",
    "    max_samples=10000,\n",
    "    n_jobs=-1\n",
    ")\n",
    "svmreg.fit(X_train, y_train)\n",
    "mse_svmreg = metrics.mean_squared_error(svmreg.predict(X_test), y_test)\n",
    "print(f\"MSE(SVM regression): {mse_svmreg:.2f}\")"
   ]
  },
  {
   "cell_type": "markdown",
   "metadata": {},
   "source": [
    "## Random Forrest regression"
   ]
  },
  {
   "cell_type": "code",
   "execution_count": 15,
   "metadata": {},
   "outputs": [
    {
     "name": "stdout",
     "output_type": "stream",
     "text": [
      "MSE(Random Forrest regression): 612.14\n"
     ]
    }
   ],
   "source": [
    "scaler = preprocessing.StandardScaler()\n",
    "X_train = scaler.fit_transform(df_train[features])\n",
    "y_train = np.ravel(df_train[targets])\n",
    "X_test = scaler.transform(df_test[features])\n",
    "y_test = np.ravel(df_test[targets])\n",
    "\n",
    "rfreg = ensemble.RandomForestRegressor(\n",
    "    n_estimators=200,\n",
    "    n_jobs=-1\n",
    ")\n",
    "rfreg.fit(X_train, y_train)\n",
    "mse_rfreg = metrics.mean_squared_error(rfreg.predict(X_test), y_test)\n",
    "print(f\"MSE(Random Forrest regression): {mse_rfreg:.2f}\")"
   ]
  },
  {
   "cell_type": "code",
   "execution_count": 16,
   "metadata": {},
   "outputs": [
    {
     "data": {
      "image/png": "[encoded data removed]",
      "text/plain": [
       "<Figure size 432x288 with 1 Axes>"
      ]
     },
     "metadata": {},
     "output_type": "display_data"
    }
   ],
   "source": [
    "ind = np.arange(len(features))\n",
    "plt.bar(ind, rfreg.feature_importances_)\n",
    "plt.xticks(ind, features, rotation=90)\n",
    "plt.title(\"Feature importance for Random Forrest\");"
   ]
  },
  {
   "cell_type": "markdown",
   "metadata": {},
   "source": [
    "## Gradient Boosting"
   ]
  },
  {
   "cell_type": "code",
   "execution_count": 17,
   "metadata": {},
   "outputs": [
    {
     "name": "stdout",
     "output_type": "stream",
     "text": [
      "MSE(Gradient Boosting regression): 149.49\n"
     ]
    }
   ],
   "source": [
    "scaler = preprocessing.StandardScaler()\n",
    "X_train = scaler.fit_transform(df_train[features])\n",
    "y_train = np.ravel(df_train[targets])\n",
    "X_test = scaler.transform(df_test[features])\n",
    "y_test = np.ravel(df_test[targets])\n",
    "\n",
    "gboost = ensemble.GradientBoostingRegressor(\n",
    "    n_estimators=200\n",
    ")\n",
    "gboost.fit(X_train, y_train)\n",
    "mse_gboost = metrics.mean_squared_error(gboost.predict(X_test), y_test)\n",
    "print(f\"MSE(Gradient Boosting regression): {mse_gboost:.2f}\")"
   ]
  },
  {
   "cell_type": "code",
   "execution_count": 18,
   "metadata": {},
   "outputs": [
    {
     "data": {
      "image/png": "[encoded data removed]",
      "text/plain": [
       "<Figure size 432x288 with 1 Axes>"
      ]
     },
     "metadata": {},
     "output_type": "display_data"
    }
   ],
   "source": [
    "ind = np.arange(len(features))\n",
    "plt.bar(ind, gboost.feature_importances_)\n",
    "plt.xticks(ind, features, rotation=90)\n",
    "plt.title(\"Feature importance for Gradient Boosting\");"
   ]
  },
  {
   "cell_type": "code",
   "execution_count": 19,
   "metadata": {},
   "outputs": [
    {
     "data": {
      "image/png": "[encoded data removed]",
      "text/plain": [
       "<Figure size 432x288 with 1 Axes>"
      ]
     },
     "metadata": {},
     "output_type": "display_data"
    }
   ],
   "source": [
    "plt.plot(y_test, gboost.predict(X_test), 'k.', alpha=.2)\n",
    "plt.grid()"
   ]
  }
 ],
 "metadata": {
  "kernelspec": {
   "display_name": "conda_python3",
   "language": "python",
   "name": "conda_python3"
  },
  "language_info": {
   "codemirror_mode": {
    "name": "ipython",
    "version": 3
   },
   "file_extension": ".py",
   "mimetype": "text/x-python",
   "name": "python",
   "nbconvert_exporter": "python",
   "pygments_lexer": "ipython3",
   "version": "3.6.5"
  }
 },
 "nbformat": 4,
 "nbformat_minor": 2
}
