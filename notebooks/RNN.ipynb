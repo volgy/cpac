{
 "cells": [
  {
   "cell_type": "markdown",
   "id": "db5ac04a-d5c5-4d30-ac99-d2b511cbd019",
   "metadata": {},
   "source": [
    "# RNN-based clutch control"
   ]
  },
  {
   "cell_type": "code",
   "execution_count": 1,
   "id": "1772151e-fe7d-45e4-b6db-f2a8e8c44803",
   "metadata": {},
   "outputs": [],
   "source": [
    "from tqdm import tqdm\n",
    "import numpy as np\n",
    "import pandas as pd\n",
    "import torch\n",
    "from torch import nn"
   ]
  },
  {
   "cell_type": "markdown",
   "id": "f1d29be1-b18c-4b4e-b4ef-f7f20ce25e05",
   "metadata": {},
   "source": [
    "## Load dataset"
   ]
  },
  {
   "cell_type": "code",
   "execution_count": 2,
   "id": "ba573f86-3589-48ae-963e-189a3da33439",
   "metadata": {},
   "outputs": [],
   "source": [
    "dfs = pd.read_excel(\"../data/Thrust 2 Data Collections/lifting_data_simplified.xlsx\",\n",
    "                    sheet_name=None, # read all sheets (-> dict of DataFrames)\n",
    "                   )"
   ]
  },
  {
   "cell_type": "markdown",
   "id": "5b9cd7a6-5952-4d11-9d3e-c2df9a7acd45",
   "metadata": {},
   "source": [
    "## Test/train and feature/target selection"
   ]
  },
  {
   "cell_type": "code",
   "execution_count": 3,
   "id": "8a9f941b-e2f7-47ea-9f44-dec57b2d0a7d",
   "metadata": {},
   "outputs": [
    {
     "name": "stdout",
     "output_type": "stream",
     "text": [
      "Train: [(84748, 20), (113406, 20), (45963, 20)]\n",
      "Test: [(79999, 20)]\n"
     ]
    }
   ],
   "source": [
    "TEST_TRIALS = [\"trial1\"]\n",
    "TARGET = \"rule1\"\n",
    "#FEATURES = slice(\"pelvis_ax\", None)\n",
    "FEATURES = ['pelvis_ax', 'pelvis_ay', 'pelvis_az',\n",
    "       't8_ax', 't8_ay', 't8_az', 'pelvis_ex', 'pelvis_ey',\n",
    "       'pelvis_ez', 't8_ex', 't8_ey', 't8_ez', 'pelvis_q0',\n",
    "       'pelvis_q1', 'pelvis_q2', 'pelvis_q3', 't8_q0', 't8_q1', 'T8 q2',\n",
    "       't8_q3']\n",
    "DELAY = 1\n",
    "\n",
    "train_seqs = []\n",
    "test_seqs = []\n",
    "\n",
    "for trial_name, trial_df in dfs.items():\n",
    "    features, target = trial_df.loc[:, FEATURES].values, trial_df.loc[:, TARGET].values\n",
    "    # tape delay\n",
    "    features, target = features[DELAY:, ...], target[:-DELAY, ...]\n",
    "    if trial_name in TEST_TRIALS:\n",
    "        test_seqs.append((features, target))\n",
    "    else:\n",
    "        train_seqs.append((features, target))\n",
    "\n",
    "print(f\"Train: {[X.shape for X, _ in train_seqs]}\")\n",
    "print(f\"Test: {[X.shape for X, _ in test_seqs]}\")"
   ]
  },
  {
   "cell_type": "markdown",
   "id": "e8885ca1-73fe-43e2-b8d9-651c4723c648",
   "metadata": {},
   "source": [
    "## Model"
   ]
  },
  {
   "cell_type": "code",
   "execution_count": 4,
   "id": "fc83a521-17cf-403d-92ee-029bf1ea5710",
   "metadata": {},
   "outputs": [],
   "source": [
    "HIDDEN_SIZE = 16\n",
    "NUM_LAYERS = 2\n",
    "\n",
    "class RNNModel(nn.Module):\n",
    "    # X: (<1>, seq, features)\n",
    "    # h0, c0: (num_layers, 1, hidden_size)\n",
    "    # out: (<1>, seq)\n",
    "    def __init__(self, input_size, hidden_size, num_layers):\n",
    "        super().__init__()\n",
    "        self.num_layers = num_layers\n",
    "        self.hidden_size = hidden_size\n",
    "        #self.rnn = nn.RNN(input_size, hidden_size, num_layers, batch_first=True)\n",
    "        # or:\n",
    "        #self.gru = nn.GRU(input_size, hidden_size, num_layers, batch_first=True)\n",
    "        self.lstm = nn.LSTM(input_size, hidden_size, num_layers, batch_first=True)\n",
    "        self.fc = nn.Linear(hidden_size, 1)\n",
    "        self.reset_hidden()\n",
    "        \n",
    "    def forward(self, x):\n",
    "        #out, h0 = self.rnn(x, self.h0)  \n",
    "        # or:\n",
    "        out, (h0, c0) = self.lstm(x, (self.h0, self.c0))\n",
    "        out = self.fc(out)\n",
    "        self.h0, self.c0 = h0.detach(), c0.detach()\n",
    "        return out\n",
    "    \n",
    "    def reset_hidden(self):\n",
    "        self.h0 = torch.zeros(self.num_layers, 1, self.hidden_size)\n",
    "        self.c0 = torch.zeros(self.num_layers, 1, self.hidden_size) \n",
    "\n",
    "model = RNNModel(train_seqs[0][0].shape[-1], HIDDEN_SIZE, NUM_LAYERS)"
   ]
  },
  {
   "cell_type": "markdown",
   "id": "15af4071-3b16-4720-b662-82bc1873f486",
   "metadata": {},
   "source": [
    "## Loss and optimizer"
   ]
  },
  {
   "cell_type": "code",
   "execution_count": 5,
   "id": "df74648a-e633-476f-9f1e-eac10922f648",
   "metadata": {},
   "outputs": [],
   "source": [
    "LEARNING_RATE = 0.001\n",
    "\n",
    "criterion = nn.BCEWithLogitsLoss()\n",
    "optimizer = torch.optim.Adam(model.parameters(), lr=LEARNING_RATE)  "
   ]
  },
  {
   "cell_type": "markdown",
   "id": "defcaa1a-effc-4574-b80d-3735af5547be",
   "metadata": {},
   "source": [
    "## Train the model"
   ]
  },
  {
   "cell_type": "code",
   "execution_count": 6,
   "id": "228a4a2a-645f-45c2-bdf7-9657898d6ba5",
   "metadata": {},
   "outputs": [
    {
     "name": "stderr",
     "output_type": "stream",
     "text": [
      "Epoch 0: 955it [01:01, 15.45it/s, accuracy=0.742, loss=0.00222]                         \n",
      "Epoch 1: 955it [01:01, 15.54it/s, accuracy=0.783, loss=0.00198]                         \n",
      "Epoch 2: 955it [01:01, 15.54it/s, accuracy=0.781, loss=0.00196]                         \n",
      "Epoch 3: 955it [01:01, 15.53it/s, accuracy=0.837, loss=0.00165]                         \n",
      "Epoch 4: 955it [01:01, 15.52it/s, accuracy=0.869, loss=0.00138]                         \n",
      "Epoch 5: 955it [01:01, 15.52it/s, accuracy=0.854, loss=0.00138]                         \n",
      "Epoch 6: 955it [01:01, 15.46it/s, accuracy=0.783, loss=0.00152]                         \n",
      "Epoch 7: 955it [01:01, 15.41it/s, accuracy=0.839, loss=0.00136]                         \n",
      "Epoch 8: 955it [01:02, 15.39it/s, accuracy=0.862, loss=0.00121]                         \n",
      "Epoch 9: 955it [01:01, 15.46it/s, accuracy=0.852, loss=0.00131]                         \n",
      "Epoch 10: 955it [01:01, 15.46it/s, accuracy=0.841, loss=0.00126]                         \n",
      "Epoch 11: 955it [01:01, 15.46it/s, accuracy=0.858, loss=0.00125]                          \n",
      "Epoch 12: 955it [01:01, 15.47it/s, accuracy=0.89, loss=0.00107]                           \n",
      "Epoch 13: 955it [01:01, 15.47it/s, accuracy=0.901, loss=0.00101]                          \n",
      "Epoch 14: 955it [01:01, 15.55it/s, accuracy=0.923, loss=0.000852]                         \n",
      "Epoch 15: 955it [01:01, 15.51it/s, accuracy=0.935, loss=0.000758]                         \n",
      "Epoch 16: 955it [01:01, 15.55it/s, accuracy=0.939, loss=0.00071]                          \n",
      "Epoch 17: 955it [01:01, 15.52it/s, accuracy=0.943, loss=0.000609]                         \n",
      "Epoch 18: 955it [01:02, 15.36it/s, accuracy=0.95, loss=0.000587]                          \n",
      "Epoch 19: 955it [01:01, 15.48it/s, accuracy=0.949, loss=0.000591]                         \n",
      "Epoch 20: 955it [01:01, 15.46it/s, accuracy=0.938, loss=0.000676]                         \n",
      "Epoch 21: 955it [01:01, 15.48it/s, accuracy=0.948, loss=0.000612]                         \n",
      "Epoch 22: 955it [01:01, 15.47it/s, accuracy=0.946, loss=0.000593]                         \n",
      "Epoch 23: 955it [01:01, 15.46it/s, accuracy=0.94, loss=0.000657]                          \n",
      "Epoch 24: 955it [01:01, 15.53it/s, accuracy=0.938, loss=0.000654]                         \n",
      "Epoch 25: 955it [01:01, 15.53it/s, accuracy=0.944, loss=0.000583]                         \n",
      "Epoch 26: 955it [01:01, 15.54it/s, accuracy=0.942, loss=0.000547]                         \n",
      "Epoch 27: 955it [01:01, 15.52it/s, accuracy=0.943, loss=0.000549]                         \n",
      "Epoch 28: 955it [01:01, 15.45it/s, accuracy=0.947, loss=0.000564]                         \n",
      "Epoch 29: 955it [01:01, 15.43it/s, accuracy=0.945, loss=0.000595]                         \n",
      "Epoch 30: 955it [01:01, 15.47it/s, accuracy=0.947, loss=0.000601]                         \n",
      "Epoch 31: 955it [01:01, 15.45it/s, accuracy=0.943, loss=0.000564]                         \n",
      "Epoch 32: 955it [01:01, 15.44it/s, accuracy=0.944, loss=0.00055]                          \n",
      "Epoch 33: 955it [01:02, 15.38it/s, accuracy=0.945, loss=0.000575]                         \n",
      "Epoch 34: 955it [01:02, 15.36it/s, accuracy=0.946, loss=0.000552]                         \n",
      "Epoch 35: 955it [01:01, 15.46it/s, accuracy=0.947, loss=0.000584]                         \n",
      "Epoch 36: 955it [01:01, 15.47it/s, accuracy=0.943, loss=0.000573]                         \n",
      "Epoch 37: 955it [01:01, 15.48it/s, accuracy=0.943, loss=0.000599]                         \n",
      "Epoch 38: 955it [01:01, 15.48it/s, accuracy=0.949, loss=0.000525]                         \n",
      "Epoch 39: 955it [01:01, 15.46it/s, accuracy=0.945, loss=0.000537]                         \n",
      "Epoch 40: 955it [01:01, 15.46it/s, accuracy=0.951, loss=0.000535]                         \n",
      "Epoch 41: 955it [01:01, 15.43it/s, accuracy=0.955, loss=0.000515]                         \n",
      "Epoch 42: 955it [01:01, 15.51it/s, accuracy=0.954, loss=0.000522]                         \n",
      "Epoch 43: 955it [01:01, 15.50it/s, accuracy=0.954, loss=0.000488]                         \n",
      "Epoch 44: 955it [01:01, 15.51it/s, accuracy=0.951, loss=0.000527]                         \n",
      "Epoch 45: 955it [01:01, 15.55it/s, accuracy=0.947, loss=0.00056]                          \n",
      "Epoch 46: 955it [01:01, 15.53it/s, accuracy=0.936, loss=0.000636]                         \n",
      "Epoch 47: 955it [01:01, 15.53it/s, accuracy=0.945, loss=0.00057]                          \n",
      "Epoch 48: 955it [01:01, 15.49it/s, accuracy=0.94, loss=0.000603]                          \n",
      "Epoch 49: 955it [01:01, 15.46it/s, accuracy=0.945, loss=0.000613]                         \n",
      "Epoch 50: 955it [01:01, 15.52it/s, accuracy=0.948, loss=0.000557]                         \n",
      "Epoch 51: 955it [01:01, 15.53it/s, accuracy=0.948, loss=0.000551]                         \n",
      "Epoch 52: 955it [01:01, 15.48it/s, accuracy=0.941, loss=0.000624]                         \n",
      "Epoch 53: 955it [01:01, 15.45it/s, accuracy=0.939, loss=0.000668]                         \n",
      "Epoch 54: 955it [01:01, 15.42it/s, accuracy=0.919, loss=0.000791]                         \n",
      "Epoch 55: 955it [01:01, 15.42it/s, accuracy=0.932, loss=0.000727]                         \n",
      "Epoch 56: 955it [01:02, 15.33it/s, accuracy=0.941, loss=0.000652]                         \n",
      "Epoch 57: 955it [01:02, 15.37it/s, accuracy=0.938, loss=0.000664]                         \n",
      "Epoch 58: 955it [01:02, 15.35it/s, accuracy=0.94, loss=0.000564]                          \n",
      "Epoch 59: 955it [01:15, 12.61it/s, accuracy=0.945, loss=0.000616]                         \n",
      "Epoch 60: 955it [01:25, 11.18it/s, accuracy=0.944, loss=0.000589]                         \n",
      "Epoch 61: 955it [01:05, 14.57it/s, accuracy=0.937, loss=0.000658]                         \n",
      "Epoch 62: 955it [01:01, 15.46it/s, accuracy=0.939, loss=0.000607]                         \n",
      "Epoch 63: 955it [01:02, 15.27it/s, accuracy=0.942, loss=0.000587]                         \n",
      "Epoch 64: 955it [01:02, 15.32it/s, accuracy=0.94, loss=0.000638]                          \n",
      "Epoch 65: 955it [01:02, 15.39it/s, accuracy=0.948, loss=0.000546]                         \n",
      "Epoch 66: 955it [01:02, 15.38it/s, accuracy=0.942, loss=0.00059]                          \n",
      "Epoch 67: 955it [01:02, 15.37it/s, accuracy=0.949, loss=0.000559]                         \n",
      "Epoch 68: 955it [01:01, 15.42it/s, accuracy=0.95, loss=0.000549]                          \n",
      "Epoch 69: 955it [01:01, 15.44it/s, accuracy=0.941, loss=0.000616]                         \n",
      "Epoch 70: 955it [01:01, 15.45it/s, accuracy=0.936, loss=0.000623]                         \n",
      "Epoch 71: 955it [01:01, 15.41it/s, accuracy=0.948, loss=0.000523]                         \n",
      "Epoch 72: 955it [01:02, 15.32it/s, accuracy=0.946, loss=0.000537]                         \n",
      "Epoch 73: 955it [01:03, 15.12it/s, accuracy=0.947, loss=0.000532]                         \n",
      "Epoch 74: 955it [01:03, 15.15it/s, accuracy=0.949, loss=0.000586]                         \n",
      "Epoch 75: 955it [01:02, 15.28it/s, accuracy=0.938, loss=0.000569]                         \n",
      "Epoch 76: 955it [01:02, 15.33it/s, accuracy=0.954, loss=0.0005]                           \n",
      "Epoch 77: 955it [01:02, 15.20it/s, accuracy=0.948, loss=0.000584]                         \n",
      "Epoch 78: 955it [01:02, 15.27it/s, accuracy=0.948, loss=0.00057]                          \n",
      "Epoch 79: 955it [01:03, 15.13it/s, accuracy=0.941, loss=0.000578]                         \n",
      "Epoch 80: 955it [01:03, 15.12it/s, accuracy=0.941, loss=0.000589]                         \n",
      "Epoch 81: 955it [01:02, 15.23it/s, accuracy=0.953, loss=0.000506]                         \n",
      "Epoch 82: 955it [01:02, 15.36it/s, accuracy=0.954, loss=0.00054]                          \n",
      "Epoch 83: 955it [01:02, 15.37it/s, accuracy=0.965, loss=0.000425]                         \n",
      "Epoch 84: 955it [01:02, 15.37it/s, accuracy=0.959, loss=0.000473]                         \n",
      "Epoch 85: 955it [01:02, 15.38it/s, accuracy=0.961, loss=0.00043]                          \n",
      "Epoch 86: 955it [01:01, 15.43it/s, accuracy=0.963, loss=0.000407]                         \n",
      "Epoch 87: 955it [01:01, 15.42it/s, accuracy=0.956, loss=0.000473]                         \n",
      "Epoch 88: 955it [01:02, 15.37it/s, accuracy=0.959, loss=0.000413]                         \n",
      "Epoch 89: 955it [01:02, 15.40it/s, accuracy=0.956, loss=0.000466]                         \n",
      "Epoch 90: 955it [01:01, 15.49it/s, accuracy=0.957, loss=0.000442]                         \n",
      "Epoch 91: 955it [01:02, 15.36it/s, accuracy=0.956, loss=0.000464]                         \n",
      "Epoch 92: 955it [01:01, 15.42it/s, accuracy=0.957, loss=0.00046]                          \n",
      "Epoch 93: 955it [01:01, 15.49it/s, accuracy=0.949, loss=0.000565]                         \n",
      "Epoch 94: 955it [01:02, 15.39it/s, accuracy=0.958, loss=0.000426]                         \n",
      "Epoch 95: 955it [01:01, 15.43it/s, accuracy=0.955, loss=0.000508]                         \n",
      "Epoch 96: 955it [01:01, 15.50it/s, accuracy=0.956, loss=0.00047]                          \n",
      "Epoch 97: 955it [01:02, 15.34it/s, accuracy=0.96, loss=0.000439]                          \n",
      "Epoch 98: 955it [01:02, 15.17it/s, accuracy=0.964, loss=0.000409]                         \n",
      "Epoch 99: 955it [01:01, 15.51it/s, accuracy=0.964, loss=0.000396]                         \n"
     ]
    }
   ],
   "source": [
    "NUM_EPOCHS = 100\n",
    "BATCH_LEN = 256\n",
    "\n",
    "model.train()\n",
    "epoch_steps = sum(X.shape[0] for X, _ in train_seqs) // BATCH_LEN\n",
    "for epoch in range(NUM_EPOCHS):\n",
    "    epoch_total_loss = 0\n",
    "    epoch_total_accuracy = 0\n",
    "    epoch_samples = 0\n",
    "    with tqdm(desc=f\"Epoch {epoch}\", total=epoch_steps) as pbar:\n",
    "        for seq_X, seq_y in train_seqs:\n",
    "            #model.reset_hidden()\n",
    "            for i in range(0, seq_X.shape[0], BATCH_LEN):\n",
    "                # add dummy batch dimension\n",
    "                X = torch.from_numpy(seq_X[np.newaxis, i : i + BATCH_LEN]).float()\n",
    "                # add dummy batch and target dimensions\n",
    "                y = torch.from_numpy(seq_y[np.newaxis, i : i + BATCH_LEN, np.newaxis] ).float()\n",
    "                output = model(X)\n",
    "                loss = criterion(output, y)\n",
    "                \n",
    "                # Backward and optimize\n",
    "                optimizer.zero_grad()\n",
    "                loss.backward()\n",
    "                optimizer.step()\n",
    "                \n",
    "                epoch_total_loss += loss.item()\n",
    "                y_hat = torch.where(output.detach() < 0, 0, 1)\n",
    "                epoch_total_accuracy += torch.sum(y_hat == y).item()\n",
    "    \n",
    "                epoch_samples += X.shape[1]\n",
    "                pbar.update()\n",
    "                if epoch_samples and epoch_samples % 100 == 0:\n",
    "                    pbar.set_postfix(loss=epoch_total_loss/epoch_samples,\n",
    "                                     accuracy=epoch_total_accuracy/epoch_samples)\n",
    "\n",
    "            \n",
    "            \n",
    "        "
   ]
  },
  {
   "cell_type": "markdown",
   "id": "dd5c74e3-b5c7-4252-ba59-30a915c15660",
   "metadata": {},
   "source": [
    "## Test the model"
   ]
  },
  {
   "cell_type": "code",
   "execution_count": 7,
   "id": "635e34d8-1277-4ab3-ad6b-10bf5a255ea4",
   "metadata": {},
   "outputs": [
    {
     "name": "stdout",
     "output_type": "stream",
     "text": [
      "Test accuracy: 0.9056863210790135\n"
     ]
    }
   ],
   "source": [
    "model.eval()\n",
    "pred_seqs = []\n",
    "total_accuracy = 0\n",
    "total_samples = 0\n",
    "with torch.no_grad():\n",
    "    for seq_X, seq_y in test_seqs:\n",
    "        model.reset_hidden()\n",
    "        y_hats = []\n",
    "        for i in range(0, seq_X.shape[0], BATCH_LEN):\n",
    "            # add dummy batch dimension\n",
    "            X = torch.from_numpy(seq_X[np.newaxis, i : i + BATCH_LEN]).float()\n",
    "            # add dummy batch and target dimensions\n",
    "            y = torch.from_numpy(seq_y[np.newaxis, i : i + BATCH_LEN, np.newaxis] ).float()\n",
    "            output = model(X)\n",
    "            y_hat = torch.where(output < 0, 0, 1)\n",
    "            y_hats.append(y_hat.view(-1))\n",
    "            total_accuracy += torch.sum(y_hat == y).item()\n",
    "            total_samples += y_hat.numel()\n",
    "            \n",
    "        pred_seqs.append(torch.cat(y_hats))\n",
    "        \n",
    "print(f\"Test accuracy: {total_accuracy / total_samples}\")\n",
    "\n",
    "            "
   ]
  },
  {
   "cell_type": "code",
   "execution_count": 8,
   "id": "9af8f492-1435-4e4a-b144-83e47be94cf2",
   "metadata": {},
   "outputs": [
    {
     "data": {
      "image/png": "[encoded data removed]",
      "text/plain": [
       "<Figure size 1152x288 with 1 Axes>"
      ]
     },
     "metadata": {
      "needs_background": "light"
     },
     "output_type": "display_data"
    }
   ],
   "source": [
    "import matplotlib.pyplot as plt\n",
    "plt.figure(figsize=(16,4))\n",
    "plt.plot(pred_seqs[0][:80000] + 0.05, \"r\", label=\"predicted\");\n",
    "plt.plot(test_seqs[0][1][:80000], \"k\", label=\"actual\");\n",
    "plt.title(\"Clutch Control - Test Data\")\n",
    "plt.legend()\n",
    "plt.yticks([0, 1], [\"off\", \"on\"])\n",
    "plt.xlabel(\"Time (sample)\")\n",
    "plt.savefig(\"RNN.png\")"
   ]
  }
 ],
 "metadata": {
  "kernelspec": {
   "display_name": "cpac",
   "language": "python",
   "name": "cpac"
  },
  "language_info": {
   "codemirror_mode": {
    "name": "ipython",
    "version": 3
   },
   "file_extension": ".py",
   "mimetype": "text/x-python",
   "name": "python",
   "nbconvert_exporter": "python",
   "pygments_lexer": "ipython3",
   "version": "3.8.10"
  }
 },
 "nbformat": 4,
 "nbformat_minor": 5
}
