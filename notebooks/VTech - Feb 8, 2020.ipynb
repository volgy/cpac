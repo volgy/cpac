{
 "cells": [
  {
   "cell_type": "code",
   "execution_count": 1,
   "metadata": {},
   "outputs": [],
   "source": [
    "# Standard library\n",
    "import warnings\n",
    "import math\n",
    "\n",
    "# Third party\n",
    "import numpy as np\n",
    "import pandas as pd\n",
    "\n",
    "import tensorflow as tf\n",
    "from tensorflow import keras\n",
    "\n"
   ]
  },
  {
   "cell_type": "markdown",
   "metadata": {},
   "source": [
    "## Load dataset"
   ]
  },
  {
   "cell_type": "code",
   "execution_count": 2,
   "metadata": {},
   "outputs": [],
   "source": [
    "df = pd.read_csv(f\"../data/VTech/_VTech_merged.csv\")"
   ]
  },
  {
   "cell_type": "markdown",
   "metadata": {},
   "source": [
    "## Dataset information"
   ]
  },
  {
   "cell_type": "code",
   "execution_count": 3,
   "metadata": {},
   "outputs": [
    {
     "name": "stdout",
     "output_type": "stream",
     "text": [
      "Number of workers: 4\n",
      "\tWorker 1: 1 days, 5 trials,  28 transitions,  1,448,215 samples\n",
      "\tWorker 2: 3 days, 4 trials,  68 transitions,  1,351,866 samples\n",
      "\tWorker 3: 1 days, 2 trials,  59 transitions,    859,697 samples\n",
      "\tWorker 4: 1 days, 6 trials, 110 transitions,  1,646,663 samples\n",
      "Total number of transitions: 266.0\n"
     ]
    }
   ],
   "source": [
    "print(f\"Number of workers: {len(df['worker'].unique())}\")\n",
    "for worker, worker_df in df.groupby(\"worker\"):\n",
    "    print(f\"\\tWorker {worker}: {len(worker_df['day'].unique())} days\"\n",
    "          f\", {len(worker_df['trial'].unique())} trials\"\n",
    "          f\", {worker_df['mode'].diff().abs().sum():3.0f} transitions\"\n",
    "          f\", {len(worker_df):10,} samples\")\n",
    "print(f\"Total number of transitions: {df['mode'].diff().abs().sum()}\")\n"
   ]
  },
  {
   "cell_type": "markdown",
   "metadata": {},
   "source": [
    "## Building the TF Dataset\n",
    "\n",
    "Stack consecutive `WINDOW_SIZE` samples with a sliding window, use the least sample for the target variable.\n",
    "Do not overlap different workers/trials.\n",
    "The resulting samples in the dataset are: `(WINDOW_SIZE, N_FEATURES) -> (1,)`"
   ]
  },
  {
   "cell_type": "code",
   "execution_count": 4,
   "metadata": {},
   "outputs": [],
   "source": [
    "first_feature = \"orientation_T8_q0\"\n",
    "WINDOW_SIZE = 50\n",
    "    \n",
    "def make_windowed_dataset(ds, window_size, shift=1):\n",
    "    windows = ds.window(window_size, shift=shift)\n",
    "\n",
    "    def sub_to_batch(sub):\n",
    "        return sub.batch(window_size, drop_remainder=True)\n",
    "\n",
    "    def add_labels(batch):\n",
    "      return batch[:, :-1], batch[-1, -1]\n",
    "    \n",
    "    windows = windows.flat_map(sub_to_batch)\n",
    "    return windows.map(add_labels)\n",
    "\n",
    "\n",
    "ds = None\n",
    "for trial_id, trial_data in df.groupby([\"worker\", \"trial\"]):\n",
    "    ds_trial = make_windowed_dataset(\n",
    "        tf.data.Dataset.from_tensor_slices(trial_data.loc[:,first_feature:].values),\n",
    "        window_size=WINDOW_SIZE\n",
    "    )\n",
    "    if ds is None:\n",
    "        ds = ds_trial\n",
    "    else:\n",
    "        ds = ds.concatenate(ds_trial)"
   ]
  },
  {
   "cell_type": "markdown",
   "metadata": {},
   "source": [
    "## Model "
   ]
  },
  {
   "cell_type": "code",
   "execution_count": 9,
   "metadata": {},
   "outputs": [
    {
     "name": "stdout",
     "output_type": "stream",
     "text": [
      "Model: \"sequential_3\"\n",
      "_________________________________________________________________\n",
      "Layer (type)                 Output Shape              Param #   \n",
      "=================================================================\n",
      "normalization_3 (Normalizati (None, 50, 66)            133       \n",
      "_________________________________________________________________\n",
      "flatten_3 (Flatten)          (None, 3300)              0         \n",
      "_________________________________________________________________\n",
      "layer1 (Dense)               (None, 64)                211264    \n",
      "_________________________________________________________________\n",
      "layer2 (Dense)               (None, 16)                1040      \n",
      "_________________________________________________________________\n",
      "dense_3 (Dense)              (None, 1)                 17        \n",
      "=================================================================\n",
      "Total params: 212,454\n",
      "Trainable params: 212,321\n",
      "Non-trainable params: 133\n",
      "_________________________________________________________________\n"
     ]
    }
   ],
   "source": [
    "normalization = tf.keras.layers.experimental.preprocessing.Normalization()\n",
    "normalization.adapt(ds.take(100000).map(lambda x, y: x))\n",
    "\n",
    "\n",
    "model = keras.Sequential(\n",
    "    [\n",
    "        keras.layers.Input(shape=(WINDOW_SIZE, 66)),\n",
    "        normalization,\n",
    "        keras.layers.Flatten(),\n",
    "        keras.layers.Dense(64, activation=\"relu\", name=\"layer1\"),\n",
    "        keras.layers.Dense(16, activation=\"relu\", name=\"layer2\"),\n",
    "        keras.layers.Dense(1, activation= \"sigmoid\" ),\n",
    "    ]\n",
    ")\n",
    "model.summary()"
   ]
  },
  {
   "cell_type": "code",
   "execution_count": 10,
   "metadata": {},
   "outputs": [
    {
     "name": "stdout",
     "output_type": "stream",
     "text": [
      "Epoch 1/10\n",
      "41451/41451 [==============================] - 637s 15ms/step - loss: 0.1044 - accuracy: 0.9602\n",
      "Epoch 2/10\n",
      "41451/41451 [==============================] - 620s 15ms/step - loss: 0.1081 - accuracy: 0.9608\n",
      "Epoch 3/10\n",
      "41451/41451 [==============================] - 619s 15ms/step - loss: 0.1311 - accuracy: 0.9531\n",
      "Epoch 4/10\n",
      "41451/41451 [==============================] - 618s 15ms/step - loss: 0.1302 - accuracy: 0.9535\n",
      "Epoch 5/10\n",
      "41451/41451 [==============================] - 616s 15ms/step - loss: 0.1215 - accuracy: 0.9551\n",
      "Epoch 6/10\n",
      "41451/41451 [==============================] - 612s 15ms/step - loss: 0.1190 - accuracy: 0.9566\n",
      "Epoch 7/10\n",
      "41451/41451 [==============================] - 615s 15ms/step - loss: 0.1264 - accuracy: 0.9556\n",
      "Epoch 8/10\n",
      "41451/41451 [==============================] - 620s 15ms/step - loss: 0.1278 - accuracy: 0.9544\n",
      "Epoch 9/10\n",
      "41451/41451 [==============================] - 621s 15ms/step - loss: 0.1171 - accuracy: 0.9592\n",
      "Epoch 10/10\n",
      "41451/41451 [==============================] - 620s 15ms/step - loss: 0.1080 - accuracy: 0.9629\n"
     ]
    },
    {
     "data": {
      "text/plain": [
       "<tensorflow.python.keras.callbacks.History at 0x7f3664536a90>"
      ]
     },
     "execution_count": 10,
     "metadata": {},
     "output_type": "execute_result"
    }
   ],
   "source": [
    "model.compile(optimizer='adam',\n",
    "              loss=tf.keras.losses.binary_crossentropy, \n",
    "              metrics=['accuracy'])\n",
    "model.fit(ds.shuffle(buffer_size=2**18).batch(128), epochs=10)"
   ]
  },
  {
   "cell_type": "code",
   "execution_count": 12,
   "metadata": {},
   "outputs": [],
   "source": [
    "p = model.predict(ds.batch(128))"
   ]
  },
  {
   "cell_type": "code",
   "execution_count": 44,
   "metadata": {},
   "outputs": [
    {
     "data": {
      "text/plain": [
       "[<matplotlib.lines.Line2D at 0x7f34b81817f0>]"
      ]
     },
     "execution_count": 44,
     "metadata": {},
     "output_type": "execute_result"
    },
    {
     "data": {
      "image/png": "[encoded data removed]",
      "text/plain": [
       "<Figure size 432x288 with 1 Axes>"
      ]
     },
     "metadata": {
      "needs_background": "light"
     },
     "output_type": "display_data"
    }
   ],
   "source": [
    "plt.plot(p[:4000])"
   ]
  },
  {
   "cell_type": "code",
   "execution_count": 14,
   "metadata": {},
   "outputs": [],
   "source": [
    "import matplotlib.pyplot as plt\n"
   ]
  },
  {
   "cell_type": "code",
   "execution_count": 46,
   "metadata": {},
   "outputs": [
    {
     "data": {
      "text/plain": [
       "[<matplotlib.lines.Line2D at 0x7f34b834b580>]"
      ]
     },
     "execution_count": 46,
     "metadata": {},
     "output_type": "execute_result"
    },
    {
     "data": {
      "image/png": "[encoded data removed]",
      "text/plain": [
       "<Figure size 432x288 with 1 Axes>"
      ]
     },
     "metadata": {
      "needs_background": "light"
     },
     "output_type": "display_data"
    }
   ],
   "source": [
    "plt.plot(df.iloc[:10000,-1])"
   ]
  },
  {
   "cell_type": "code",
   "execution_count": 51,
   "metadata": {},
   "outputs": [],
   "source": [
    "y = np.array([y for _, y in ds])"
   ]
  },
  {
   "cell_type": "code",
   "execution_count": null,
   "metadata": {},
   "outputs": [],
   "source": [
    "yhat = p>0.5"
   ]
  },
  {
   "cell_type": "code",
   "execution_count": 52,
   "metadata": {},
   "outputs": [
    {
     "data": {
      "text/plain": [
       "(5305608, 5305608)"
      ]
     },
     "execution_count": 52,
     "metadata": {},
     "output_type": "execute_result"
    }
   ],
   "source": [
    "len(y), len(yhat)"
   ]
  },
  {
   "cell_type": "code",
   "execution_count": 63,
   "metadata": {},
   "outputs": [
    {
     "data": {
      "text/plain": [
       "0.8280760659287305"
      ]
     },
     "execution_count": 63,
     "metadata": {},
     "output_type": "execute_result"
    }
   ],
   "source": [
    "np.sum(y == np.asarray(yhat, dtype=np.float).flatten()) / len(y)"
   ]
  },
  {
   "cell_type": "code",
   "execution_count": 70,
   "metadata": {},
   "outputs": [
    {
     "data": {
      "text/plain": [
       "array([[0., 0.],\n",
       "       [0., 0.],\n",
       "       [0., 0.],\n",
       "       ...,\n",
       "       [0., 0.],\n",
       "       [0., 0.],\n",
       "       [0., 0.]])"
      ]
     },
     "execution_count": 70,
     "metadata": {},
     "output_type": "execute_result"
    }
   ],
   "source": [
    "stereo = np.vstack((np.asarray(yhat, dtype=np.float).flatten(), y)).T\n",
    "stereo"
   ]
  },
  {
   "cell_type": "code",
   "execution_count": 73,
   "metadata": {},
   "outputs": [],
   "source": [
    "from scipy.io import wavfile\n",
    "wavfile.write(\"vtech_preds.wav\", 25, stereo)"
   ]
  },
  {
   "cell_type": "code",
   "execution_count": null,
   "metadata": {},
   "outputs": [],
   "source": []
  }
 ],
 "metadata": {
  "kernelspec": {
   "display_name": "tf",
   "language": "python",
   "name": "tf"
  },
  "language_info": {
   "codemirror_mode": {
    "name": "ipython",
    "version": 3
   },
   "file_extension": ".py",
   "mimetype": "text/x-python",
   "name": "python",
   "nbconvert_exporter": "python",
   "pygments_lexer": "ipython3",
   "version": "3.8.5"
  }
 },
 "nbformat": 4,
 "nbformat_minor": 4
}
