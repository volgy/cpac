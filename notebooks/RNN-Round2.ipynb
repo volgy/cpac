{
 "cells": [
  {
   "cell_type": "markdown",
   "id": "db5ac04a-d5c5-4d30-ac99-d2b511cbd019",
   "metadata": {},
   "source": [
    "# RNN-based clutch control"
   ]
  },
  {
   "cell_type": "code",
   "execution_count": 1,
   "id": "1772151e-fe7d-45e4-b6db-f2a8e8c44803",
   "metadata": {},
   "outputs": [],
   "source": [
    "from pathlib import Path\n",
    "from tqdm import tqdm\n",
    "import numpy as np\n",
    "import pandas as pd\n",
    "import torch\n",
    "from torch import nn"
   ]
  },
  {
   "cell_type": "markdown",
   "id": "f1d29be1-b18c-4b4e-b4ef-f7f20ce25e05",
   "metadata": {},
   "source": [
    "## Load dataset"
   ]
  },
  {
   "cell_type": "code",
   "execution_count": 2,
   "id": "ba573f86-3589-48ae-963e-189a3da33439",
   "metadata": {},
   "outputs": [
    {
     "name": "stdout",
     "output_type": "stream",
     "text": [
      "Reading ../datasets/Thrust 2 Data Collections/In-Lab Lifting Data Round 2/PS-007.csv\n",
      "Reading ../datasets/Thrust 2 Data Collections/In-Lab Lifting Data Round 2/PS-004.csv\n",
      "Reading ../datasets/Thrust 2 Data Collections/In-Lab Lifting Data Round 2/PS-003.csv\n",
      "Reading ../datasets/Thrust 2 Data Collections/In-Lab Lifting Data Round 2/PS-005.csv\n",
      "Reading ../datasets/Thrust 2 Data Collections/In-Lab Lifting Data Round 2/PS-002.csv\n",
      "Reading ../datasets/Thrust 2 Data Collections/In-Lab Lifting Data Round 2/PS-001.csv\n",
      "Reading ../datasets/Thrust 2 Data Collections/In-Lab Lifting Data Round 2/PS-006.csv\n"
     ]
    }
   ],
   "source": [
    "dfs = {}\n",
    "dataset_dir = Path(\"../datasets/Thrust 2 Data Collections/In-Lab Lifting Data Round 2\")\n",
    "for data_file in dataset_dir.glob(\"*.csv\"):\n",
    "    print(f\"Reading {data_file}\")\n",
    "    dfs[data_file.stem] = pd.read_csv(data_file)"
   ]
  },
  {
   "cell_type": "markdown",
   "id": "5b9cd7a6-5952-4d11-9d3e-c2df9a7acd45",
   "metadata": {},
   "source": [
    "## Test/train and feature/target selection"
   ]
  },
  {
   "cell_type": "code",
   "execution_count": 3,
   "id": "8a9f941b-e2f7-47ea-9f44-dec57b2d0a7d",
   "metadata": {},
   "outputs": [
    {
     "name": "stdout",
     "output_type": "stream",
     "text": [
      "Train: [(61921, 40), (60501, 40), (31055, 40), (61921, 40), (43870, 40), (30437, 40)]\n",
      "Test: [(29863, 40)]\n"
     ]
    }
   ],
   "source": [
    "TEST_TRIALS = [\"PS-007\"]\n",
    "TARGET = \"rule\"\n",
    "FEATURES = slice(\"PelvisOrientation_q0\", \"LeftThighAccel_Z\")\n",
    "DELAY = 1\n",
    "\n",
    "train_seqs = []\n",
    "test_seqs = []\n",
    "\n",
    "for trial_name, trial_df in dfs.items():\n",
    "    features, target = trial_df.loc[:, FEATURES].values, trial_df.loc[:, TARGET].values\n",
    "    # tape delay\n",
    "    features, target = features[DELAY:, ...], target[:-DELAY, ...]\n",
    "    if trial_name in TEST_TRIALS:\n",
    "        test_seqs.append((features, target))\n",
    "    else:\n",
    "        train_seqs.append((features, target))\n",
    "\n",
    "print(f\"Train: {[X.shape for X, _ in train_seqs]}\")\n",
    "print(f\"Test: {[X.shape for X, _ in test_seqs]}\")"
   ]
  },
  {
   "cell_type": "markdown",
   "id": "e8885ca1-73fe-43e2-b8d9-651c4723c648",
   "metadata": {},
   "source": [
    "## Model"
   ]
  },
  {
   "cell_type": "code",
   "execution_count": 4,
   "id": "fc83a521-17cf-403d-92ee-029bf1ea5710",
   "metadata": {},
   "outputs": [],
   "source": [
    "HIDDEN_SIZE = 16\n",
    "NUM_LAYERS = 2\n",
    "\n",
    "class RNNModel(nn.Module):\n",
    "    # X: (<1>, seq, features)\n",
    "    # h0, c0: (num_layers, 1, hidden_size)\n",
    "    # out: (<1>, seq)\n",
    "    def __init__(self, input_size, hidden_size, num_layers):\n",
    "        super().__init__()\n",
    "        self.num_layers = num_layers\n",
    "        self.hidden_size = hidden_size\n",
    "        #self.rnn = nn.RNN(input_size, hidden_size, num_layers, batch_first=True)\n",
    "        # or:\n",
    "        #self.gru = nn.GRU(input_size, hidden_size, num_layers, batch_first=True)\n",
    "        self.lstm = nn.LSTM(input_size, hidden_size, num_layers, batch_first=True)\n",
    "        self.fc = nn.Linear(hidden_size, 1)\n",
    "        self.reset_hidden()\n",
    "        \n",
    "    def forward(self, x):\n",
    "        #out, h0 = self.rnn(x, self.h0)  \n",
    "        # or:\n",
    "        out, (h0, c0) = self.lstm(x, (self.h0, self.c0))\n",
    "        out = self.fc(out)\n",
    "        self.h0, self.c0 = h0.detach(), c0.detach()\n",
    "        return out\n",
    "    \n",
    "    def reset_hidden(self):\n",
    "        self.h0 = torch.zeros(self.num_layers, 1, self.hidden_size)\n",
    "        self.c0 = torch.zeros(self.num_layers, 1, self.hidden_size) \n",
    "\n",
    "model = RNNModel(train_seqs[0][0].shape[-1], HIDDEN_SIZE, NUM_LAYERS)"
   ]
  },
  {
   "cell_type": "markdown",
   "id": "15af4071-3b16-4720-b662-82bc1873f486",
   "metadata": {},
   "source": [
    "## Loss and optimizer"
   ]
  },
  {
   "cell_type": "code",
   "execution_count": 5,
   "id": "df74648a-e633-476f-9f1e-eac10922f648",
   "metadata": {},
   "outputs": [],
   "source": [
    "LEARNING_RATE = 0.001\n",
    "\n",
    "criterion = nn.BCEWithLogitsLoss()\n",
    "optimizer = torch.optim.Adam(model.parameters(), lr=LEARNING_RATE)  "
   ]
  },
  {
   "cell_type": "markdown",
   "id": "defcaa1a-effc-4574-b80d-3735af5547be",
   "metadata": {},
   "source": [
    "## Train the model"
   ]
  },
  {
   "cell_type": "code",
   "execution_count": 6,
   "id": "228a4a2a-645f-45c2-bdf7-9657898d6ba5",
   "metadata": {},
   "outputs": [
    {
     "name": "stderr",
     "output_type": "stream",
     "text": [
      "Epoch 0: 1134it [01:00, 18.63it/s, accuracy=0.766, loss=0.00201]                                                        \n",
      "Epoch 1: 1134it [01:06, 17.17it/s, accuracy=0.824, loss=0.00171]                                                        \n",
      "Epoch 2: 1134it [01:00, 18.74it/s, accuracy=0.837, loss=0.0016]                                                         \n",
      "Epoch 3: 1134it [01:00, 18.72it/s, accuracy=0.85, loss=0.00148]                                                         \n",
      "Epoch 4: 1134it [01:00, 18.74it/s, accuracy=0.871, loss=0.0014]                                                         \n",
      "Epoch 5: 1134it [01:00, 18.69it/s, accuracy=0.883, loss=0.00128]                                                        \n",
      "Epoch 6: 1134it [01:00, 18.69it/s, accuracy=0.891, loss=0.00122]                                                        \n",
      "Epoch 7: 1134it [01:00, 18.69it/s, accuracy=0.888, loss=0.00124]                                                        \n",
      "Epoch 8: 1134it [01:00, 18.70it/s, accuracy=0.894, loss=0.00117]                                                        \n",
      "Epoch 9: 1134it [01:00, 18.70it/s, accuracy=0.866, loss=0.00129]                                                        \n",
      "Epoch 10: 1134it [01:00, 18.75it/s, accuracy=0.884, loss=0.00119]                                                       \n",
      "Epoch 11: 1134it [01:00, 18.70it/s, accuracy=0.879, loss=0.0012]                                                        \n",
      "Epoch 12: 1134it [01:00, 18.73it/s, accuracy=0.895, loss=0.0011]                                                        \n",
      "Epoch 13: 1134it [01:00, 18.72it/s, accuracy=0.893, loss=0.00107]                                                       \n",
      "Epoch 14: 1134it [01:00, 18.72it/s, accuracy=0.903, loss=0.00113]                                                       \n",
      "Epoch 15: 1134it [01:00, 18.90it/s, accuracy=0.908, loss=0.00103]                                                       \n",
      "Epoch 16: 1134it [00:59, 18.91it/s, accuracy=0.909, loss=0.00101]                                                       \n",
      "Epoch 17: 1134it [01:00, 18.81it/s, accuracy=0.891, loss=0.0011]                                                        \n",
      "Epoch 18: 1134it [01:00, 18.76it/s, accuracy=0.905, loss=0.000992]                                                      \n",
      "Epoch 19: 1134it [01:00, 18.76it/s, accuracy=0.904, loss=0.00107]                                                       \n",
      "Epoch 20: 1134it [01:00, 18.78it/s, accuracy=0.903, loss=0.00103]                                                       \n",
      "Epoch 21: 1134it [01:00, 18.76it/s, accuracy=0.909, loss=0.000966]                                                      \n",
      "Epoch 22: 1134it [01:00, 18.80it/s, accuracy=0.917, loss=0.000878]                                                      \n",
      "Epoch 23: 1134it [01:00, 18.77it/s, accuracy=0.924, loss=0.000846]                                                      \n",
      "Epoch 24: 1134it [01:00, 18.88it/s, accuracy=0.926, loss=0.000811]                                                      \n",
      "Epoch 25: 1134it [01:00, 18.83it/s, accuracy=0.923, loss=0.000808]                                                      \n",
      "Epoch 26: 1134it [01:00, 18.77it/s, accuracy=0.927, loss=0.000834]                                                      \n",
      "Epoch 27: 1134it [01:00, 18.80it/s, accuracy=0.919, loss=0.000832]                                                      \n",
      "Epoch 28: 1134it [01:00, 18.76it/s, accuracy=0.926, loss=0.000764]                                                      \n",
      "Epoch 29: 1134it [01:00, 18.75it/s, accuracy=0.926, loss=0.000798]                                                      \n",
      "Epoch 30: 1134it [01:00, 18.75it/s, accuracy=0.93, loss=0.000742]                                                       \n",
      "Epoch 31: 1134it [01:00, 18.74it/s, accuracy=0.929, loss=0.00081]                                                       \n",
      "Epoch 32: 1134it [01:00, 18.75it/s, accuracy=0.92, loss=0.000822]                                                       \n",
      "Epoch 33: 1134it [01:00, 18.85it/s, accuracy=0.926, loss=0.000853]                                                      \n",
      "Epoch 34: 1134it [01:00, 18.87it/s, accuracy=0.926, loss=0.00084]                                                       \n",
      "Epoch 35: 1134it [01:00, 18.84it/s, accuracy=0.931, loss=0.000772]                                                      \n",
      "Epoch 36: 1134it [01:00, 18.82it/s, accuracy=0.921, loss=0.000835]                                                      \n",
      "Epoch 37: 1134it [01:00, 18.84it/s, accuracy=0.916, loss=0.000895]                                                      \n",
      "Epoch 38: 1134it [01:00, 18.86it/s, accuracy=0.923, loss=0.000779]                                                      \n",
      "Epoch 39: 1134it [01:00, 18.87it/s, accuracy=0.926, loss=0.00078]                                                       \n",
      "Epoch 40: 1134it [01:00, 18.86it/s, accuracy=0.931, loss=0.000772]                                                      \n",
      "Epoch 41: 1134it [01:00, 18.86it/s, accuracy=0.932, loss=0.000755]                                                      \n",
      "Epoch 42: 1134it [01:00, 18.86it/s, accuracy=0.925, loss=0.000829]                                                      \n",
      "Epoch 43: 1134it [01:00, 18.86it/s, accuracy=0.93, loss=0.000824]                                                       \n",
      "Epoch 44: 1134it [01:00, 18.81it/s, accuracy=0.932, loss=0.000801]                                                      \n",
      "Epoch 45: 1134it [01:00, 18.85it/s, accuracy=0.927, loss=0.000811]                                                      \n",
      "Epoch 46: 1134it [01:00, 18.85it/s, accuracy=0.935, loss=0.00076]                                                       \n",
      "Epoch 47: 1134it [01:00, 18.71it/s, accuracy=0.924, loss=0.00081]                                                       \n",
      "Epoch 48: 1134it [01:21, 13.92it/s, accuracy=0.926, loss=0.000841]                                                      \n",
      "Epoch 49: 1134it [01:21, 13.89it/s, accuracy=0.933, loss=0.000739]                                                      \n",
      "Epoch 50: 1134it [01:21, 13.93it/s, accuracy=0.934, loss=0.000738]                                                      \n",
      "Epoch 51: 1134it [01:09, 16.28it/s, accuracy=0.934, loss=0.000735]                                                      \n",
      "Epoch 52: 1134it [00:59, 18.90it/s, accuracy=0.937, loss=0.000735]                                                      \n",
      "Epoch 53: 1134it [01:00, 18.89it/s, accuracy=0.924, loss=0.000796]                                                      \n",
      "Epoch 54: 1134it [00:59, 19.00it/s, accuracy=0.937, loss=0.000719]                                                      \n",
      "Epoch 55: 1134it [00:59, 19.01it/s, accuracy=0.934, loss=0.000734]                                                      \n",
      "Epoch 56: 1134it [00:59, 19.01it/s, accuracy=0.93, loss=0.000748]                                                       \n",
      "Epoch 57: 1134it [00:59, 19.00it/s, accuracy=0.939, loss=0.00065]                                                       \n",
      "Epoch 58: 1134it [00:59, 19.02it/s, accuracy=0.935, loss=0.000706]                                                      \n",
      "Epoch 59: 1134it [01:00, 18.84it/s, accuracy=0.939, loss=0.000675]                                                      \n",
      "Epoch 60: 1134it [01:00, 18.69it/s, accuracy=0.934, loss=0.000665]                                                      \n",
      "Epoch 61: 1134it [01:00, 18.77it/s, accuracy=0.929, loss=0.000725]                                                      \n",
      "Epoch 62: 1134it [01:00, 18.73it/s, accuracy=0.93, loss=0.000717]                                                       \n",
      "Epoch 63: 1134it [01:00, 18.76it/s, accuracy=0.933, loss=0.000663]                                                      \n",
      "Epoch 64: 1134it [01:00, 18.78it/s, accuracy=0.931, loss=0.00075]                                                       \n",
      "Epoch 65: 1134it [01:00, 18.76it/s, accuracy=0.943, loss=0.00062]                                                       \n",
      "Epoch 66: 1134it [01:00, 18.79it/s, accuracy=0.937, loss=0.000687]                                                      \n",
      "Epoch 67: 1134it [01:00, 18.78it/s, accuracy=0.939, loss=0.000631]                                                      \n",
      "Epoch 68: 1134it [01:00, 18.80it/s, accuracy=0.931, loss=0.000686]                                                      \n",
      "Epoch 69: 1134it [01:00, 18.80it/s, accuracy=0.933, loss=0.00068]                                                       \n",
      "Epoch 70: 1134it [01:08, 16.44it/s, accuracy=0.937, loss=0.000626]                                                      \n",
      "Epoch 71: 1134it [01:21, 13.95it/s, accuracy=0.933, loss=0.000682]                                                      \n",
      "Epoch 72: 1134it [01:13, 15.38it/s, accuracy=0.939, loss=0.000641]                                                      \n",
      "Epoch 73: 1134it [00:59, 18.94it/s, accuracy=0.934, loss=0.000646]                                                      \n",
      "Epoch 74: 1134it [00:59, 19.03it/s, accuracy=0.939, loss=0.000627]                                                      \n",
      "Epoch 75: 1134it [00:59, 18.94it/s, accuracy=0.923, loss=0.000757]                                                      \n",
      "Epoch 76: 1134it [00:59, 18.91it/s, accuracy=0.935, loss=0.000637]                                                      \n",
      "Epoch 77: 1134it [00:59, 18.90it/s, accuracy=0.944, loss=0.000583]                                                      \n",
      "Epoch 78: 1134it [01:00, 18.89it/s, accuracy=0.945, loss=0.000561]                                                      \n",
      "Epoch 79: 1134it [01:00, 18.87it/s, accuracy=0.949, loss=0.000551]                                                      \n",
      "Epoch 80: 1134it [01:00, 18.86it/s, accuracy=0.944, loss=0.000589]                                                      \n",
      "Epoch 81: 1134it [01:00, 18.81it/s, accuracy=0.935, loss=0.000688]                                                      \n",
      "Epoch 82: 1134it [01:00, 18.84it/s, accuracy=0.94, loss=0.000702]                                                       \n",
      "Epoch 83: 1134it [01:00, 18.86it/s, accuracy=0.945, loss=0.000612]                                                      \n",
      "Epoch 84: 1134it [01:00, 18.82it/s, accuracy=0.946, loss=0.000585]                                                      \n",
      "Epoch 85: 1134it [01:15, 15.07it/s, accuracy=0.946, loss=0.000615]                                                      \n",
      "Epoch 86: 1134it [01:03, 17.88it/s, accuracy=0.938, loss=0.000676]                                                      \n",
      "Epoch 87: 1134it [00:59, 18.94it/s, accuracy=0.945, loss=0.000606]                                                      \n",
      "Epoch 88: 1134it [00:59, 18.90it/s, accuracy=0.947, loss=0.000559]                                                      \n",
      "Epoch 89: 1134it [01:00, 18.89it/s, accuracy=0.948, loss=0.000545]                                                      \n",
      "Epoch 90: 1134it [01:00, 18.88it/s, accuracy=0.943, loss=0.000577]                                                      \n",
      "Epoch 91: 1134it [00:59, 18.92it/s, accuracy=0.946, loss=0.000532]                                                      \n",
      "Epoch 92: 1134it [00:59, 18.94it/s, accuracy=0.949, loss=0.00056]                                                       \n",
      "Epoch 93: 1134it [01:09, 16.24it/s, accuracy=0.944, loss=0.000592]                                                      \n",
      "Epoch 94: 1134it [01:21, 13.96it/s, accuracy=0.945, loss=0.000565]                                                      \n",
      "Epoch 95: 1134it [01:21, 13.89it/s, accuracy=0.948, loss=0.000545]                                                      \n",
      "Epoch 96: 1134it [01:21, 13.93it/s, accuracy=0.949, loss=0.000533]                                                      \n",
      "Epoch 97: 1134it [01:21, 13.96it/s, accuracy=0.95, loss=0.000557]                                                       \n",
      "Epoch 98: 1134it [01:11, 15.76it/s, accuracy=0.95, loss=0.000516]                                                       \n",
      "Epoch 99: 1134it [01:13, 15.38it/s, accuracy=0.945, loss=0.000545]                                                      \n"
     ]
    }
   ],
   "source": [
    "NUM_EPOCHS = 100\n",
    "BATCH_LEN = 256\n",
    "\n",
    "model.train()\n",
    "epoch_steps = sum(X.shape[0] for X, _ in train_seqs) // BATCH_LEN\n",
    "for epoch in range(NUM_EPOCHS):\n",
    "    epoch_total_loss = 0\n",
    "    epoch_total_accuracy = 0\n",
    "    epoch_samples = 0\n",
    "    with tqdm(desc=f\"Epoch {epoch}\", total=epoch_steps) as pbar:\n",
    "        for seq_X, seq_y in train_seqs:\n",
    "            #model.reset_hidden()\n",
    "            for i in range(0, seq_X.shape[0], BATCH_LEN):\n",
    "                # add dummy batch dimension\n",
    "                X = torch.from_numpy(seq_X[np.newaxis, i : i + BATCH_LEN]).float()\n",
    "                # add dummy batch and target dimensions\n",
    "                y = torch.from_numpy(seq_y[np.newaxis, i : i + BATCH_LEN, np.newaxis] ).float()\n",
    "                output = model(X)\n",
    "                loss = criterion(output, y)\n",
    "                \n",
    "                # Backward and optimize\n",
    "                optimizer.zero_grad()\n",
    "                loss.backward()\n",
    "                optimizer.step()\n",
    "                \n",
    "                epoch_total_loss += loss.item()\n",
    "                y_hat = torch.where(output.detach() < 0, 0, 1)\n",
    "                epoch_total_accuracy += torch.sum(y_hat == y).item()\n",
    "    \n",
    "                epoch_samples += X.shape[1]\n",
    "                pbar.update()\n",
    "                if epoch_samples and epoch_samples % 100 == 0:\n",
    "                    pbar.set_postfix(loss=epoch_total_loss/epoch_samples,\n",
    "                                     accuracy=epoch_total_accuracy/epoch_samples)\n",
    "\n",
    "            \n",
    "            \n",
    "        "
   ]
  },
  {
   "cell_type": "markdown",
   "id": "dd5c74e3-b5c7-4252-ba59-30a915c15660",
   "metadata": {},
   "source": [
    "## Test the model"
   ]
  },
  {
   "cell_type": "code",
   "execution_count": 7,
   "id": "635e34d8-1277-4ab3-ad6b-10bf5a255ea4",
   "metadata": {},
   "outputs": [
    {
     "name": "stdout",
     "output_type": "stream",
     "text": [
      "Test accuracy: 0.8185714764089341\n"
     ]
    }
   ],
   "source": [
    "model.eval()\n",
    "pred_seqs = []\n",
    "total_accuracy = 0\n",
    "total_samples = 0\n",
    "with torch.no_grad():\n",
    "    for seq_X, seq_y in test_seqs:\n",
    "        model.reset_hidden()\n",
    "        y_hats = []\n",
    "        for i in range(0, seq_X.shape[0], BATCH_LEN):\n",
    "            # add dummy batch dimension\n",
    "            X = torch.from_numpy(seq_X[np.newaxis, i : i + BATCH_LEN]).float()\n",
    "            # add dummy batch and target dimensions\n",
    "            y = torch.from_numpy(seq_y[np.newaxis, i : i + BATCH_LEN, np.newaxis] ).float()\n",
    "            output = model(X)\n",
    "            y_hat = torch.where(output < 0, 0, 1)\n",
    "            y_hats.append(y_hat.view(-1))\n",
    "            total_accuracy += torch.sum(y_hat == y).item()\n",
    "            total_samples += y_hat.numel()\n",
    "            \n",
    "        pred_seqs.append(torch.cat(y_hats))\n",
    "        \n",
    "print(f\"Test accuracy: {total_accuracy / total_samples}\")\n",
    "\n",
    "            "
   ]
  },
  {
   "cell_type": "markdown",
   "id": "68a98c6e-17ca-4730-8a73-d7f9b5e7d9cc",
   "metadata": {},
   "source": [
    "## Metrics"
   ]
  },
  {
   "cell_type": "code",
   "execution_count": 8,
   "id": "9af8f492-1435-4e4a-b144-83e47be94cf2",
   "metadata": {},
   "outputs": [
    {
     "data": {
      "image/png": "[encoded data removed]",
      "text/plain": [
       "<Figure size 1152x288 with 1 Axes>"
      ]
     },
     "metadata": {
      "needs_background": "light"
     },
     "output_type": "display_data"
    }
   ],
   "source": [
    "from sklearn.metrics import confusion_matrix\n",
    "import matplotlib.pyplot as plt\n",
    "import seaborn as sns\n",
    "\n",
    "assert len(TEST_TRIALS) == 1\n",
    "test_name = TEST_TRIALS[0]\n",
    "\n",
    "results = Path(\"./results_RNN_Round2\")\n",
    "results.mkdir(parents=True, exist_ok=True)\n",
    "\n",
    "plt.figure(figsize=(16,4))\n",
    "plt.plot(pred_seqs[0] + 0.05, \"r\", label=\"Prediction\");\n",
    "plt.plot(test_seqs[0][1], \"k\", label=\"Target\");\n",
    "plt.title(f\"Clutch Control Timeline: {test_name}\")\n",
    "plt.legend()\n",
    "plt.yticks([0, 1], [\"off\", \"on\"])\n",
    "plt.xlabel(\"Time (sample)\")\n",
    "plt.savefig(results / f\"Timeline_{test_name}.png\")"
   ]
  },
  {
   "cell_type": "code",
   "execution_count": 9,
   "id": "74048fca-c7aa-4462-93ed-4dc9df2571c2",
   "metadata": {},
   "outputs": [
    {
     "data": {
      "image/png": "[encoded data removed]",
      "text/plain": [
       "<Figure size 432x288 with 2 Axes>"
      ]
     },
     "metadata": {
      "needs_background": "light"
     },
     "output_type": "display_data"
    }
   ],
   "source": [
    "cf_matrix = confusion_matrix(test_seqs[0][1], pred_seqs[0])\n",
    "f = sns.heatmap(cf_matrix / cf_matrix.sum(), annot=True, fmt='.2%')\n",
    "plt.xlabel(\"Prediction\")\n",
    "plt.ylabel(\"Target\")\n",
    "plt.title(f\"Clutch Control Metrics: {test_name}\\nAccuracy = {total_accuracy / total_samples:.2%}\")\n",
    "plt.savefig(results / f\"Metrics_{test_name}.png\")"
   ]
  },
  {
   "cell_type": "code",
   "execution_count": 10,
   "id": "b753bfa2-c858-4765-aa72-a367ed841401",
   "metadata": {},
   "outputs": [],
   "source": [
    "np.savetxt(results / f\"cf_{test_name}.txt\", cf_matrix,  fmt=\"%d\")"
   ]
  }
 ],
 "metadata": {
  "kernelspec": {
   "display_name": "cpac",
   "language": "python",
   "name": "cpac"
  },
  "language_info": {
   "codemirror_mode": {
    "name": "ipython",
    "version": 3
   },
   "file_extension": ".py",
   "mimetype": "text/x-python",
   "name": "python",
   "nbconvert_exporter": "python",
   "pygments_lexer": "ipython3",
   "version": "3.9.7"
  }
 },
 "nbformat": 4,
 "nbformat_minor": 5
}
