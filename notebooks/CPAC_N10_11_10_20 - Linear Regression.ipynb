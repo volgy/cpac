{
 "cells": [
  {
   "cell_type": "markdown",
   "metadata": {},
   "source": [
    "# Linear Regression on CPAC_N10_11_10_20 dataset\n",
    "\n",
    "- **Model**: Linear Regression\n",
    "- **Target(s)**: `TF_Pelvis_Moment_X_BWBH`\n",
    "- **Features**: sag trunk angle\n",
    "- **Results**: slope/intercept\n"
   ]
  },
  {
   "cell_type": "markdown",
   "metadata": {},
   "source": [
    "## Libraries"
   ]
  },
  {
   "cell_type": "code",
   "execution_count": 2,
   "metadata": {},
   "outputs": [],
   "source": [
    "# Standard library\n",
    "import warnings\n",
    "import os\n",
    "\n",
    "\n",
    "# Third party\n",
    "import numpy as np\n",
    "import pandas as pd\n",
    "from sklearn import linear_model\n",
    "\n",
    "from IPython.display import display, Markdown\n",
    "\n",
    "\n",
    "# Local\n",
    "import utils"
   ]
  },
  {
   "cell_type": "markdown",
   "metadata": {},
   "source": [
    "## Load Dataset"
   ]
  },
  {
   "cell_type": "code",
   "execution_count": 3,
   "metadata": {},
   "outputs": [
    {
     "data": {
      "text/html": [
       "<div>\n",
       "<style scoped>\n",
       "    .dataframe tbody tr th:only-of-type {\n",
       "        vertical-align: middle;\n",
       "    }\n",
       "\n",
       "    .dataframe tbody tr th {\n",
       "        vertical-align: top;\n",
       "    }\n",
       "\n",
       "    .dataframe thead th {\n",
       "        text-align: right;\n",
       "    }\n",
       "</style>\n",
       "<table border=\"1\" class=\"dataframe\">\n",
       "  <thead>\n",
       "    <tr style=\"text-align: right;\">\n",
       "      <th></th>\n",
       "      <th>M_Trial_Num</th>\n",
       "      <th>M_Mass</th>\n",
       "      <th>M_Mass_to_L5S1</th>\n",
       "      <th>M_sub_task_indices</th>\n",
       "      <th>M_sub_task_num</th>\n",
       "      <th>M_include_overall</th>\n",
       "      <th>M_Index</th>\n",
       "      <th>M_Sub</th>\n",
       "      <th>M_sub_task_num_overall</th>\n",
       "      <th>M_Index_overall</th>\n",
       "      <th>...</th>\n",
       "      <th>RWEO_01_02_00_00_INSOLE_RX_ML_threshF50_mm</th>\n",
       "      <th>RWEO_01_02_00_00_INSOLE_RY_AP_threshF50_mm</th>\n",
       "      <th>RWEF_03_00_00_00_INSOLE_LFORCE_threshF50_BW</th>\n",
       "      <th>RWEF_03_04_00_00_INSOLE_LX_ML_threshF50_BH</th>\n",
       "      <th>RWEF_03_04_00_00_INSOLE_LY_AP_threshF50_BH</th>\n",
       "      <th>RWEF_01_00_00_00_INSOLE_RFORCE_threshF50_BW</th>\n",
       "      <th>RWEF_01_02_00_00_INSOLE_RX_ML_threshF50_BH</th>\n",
       "      <th>RWEF_01_02_00_00_INSOLE_RY_AP_threshF50_BH</th>\n",
       "      <th>RWSF_SCALED_RINSOLE_BW</th>\n",
       "      <th>RWSF_SCALED_LINSOLE_BW</th>\n",
       "    </tr>\n",
       "  </thead>\n",
       "  <tbody>\n",
       "    <tr>\n",
       "      <th>count</th>\n",
       "      <td>1.971017e+06</td>\n",
       "      <td>1.971017e+06</td>\n",
       "      <td>567.0</td>\n",
       "      <td>0.0</td>\n",
       "      <td>0.0</td>\n",
       "      <td>1.971017e+06</td>\n",
       "      <td>1.971017e+06</td>\n",
       "      <td>1.971017e+06</td>\n",
       "      <td>1971017.0</td>\n",
       "      <td>1.971017e+06</td>\n",
       "      <td>...</td>\n",
       "      <td>1.683991e+06</td>\n",
       "      <td>1.683991e+06</td>\n",
       "      <td>1.967609e+06</td>\n",
       "      <td>1.661377e+06</td>\n",
       "      <td>1.661377e+06</td>\n",
       "      <td>1.967609e+06</td>\n",
       "      <td>1.683991e+06</td>\n",
       "      <td>1.683991e+06</td>\n",
       "      <td>1.967609e+06</td>\n",
       "      <td>1.967609e+06</td>\n",
       "    </tr>\n",
       "    <tr>\n",
       "      <th>mean</th>\n",
       "      <td>6.942408e+01</td>\n",
       "      <td>1.053204e+01</td>\n",
       "      <td>0.0</td>\n",
       "      <td>NaN</td>\n",
       "      <td>NaN</td>\n",
       "      <td>8.154633e-01</td>\n",
       "      <td>2.716049e+03</td>\n",
       "      <td>5.396072e+00</td>\n",
       "      <td>0.0</td>\n",
       "      <td>9.236236e+04</td>\n",
       "      <td>...</td>\n",
       "      <td>4.899182e+01</td>\n",
       "      <td>1.319880e+02</td>\n",
       "      <td>4.390082e-01</td>\n",
       "      <td>2.785011e-02</td>\n",
       "      <td>6.597227e-02</td>\n",
       "      <td>4.570948e-01</td>\n",
       "      <td>2.698083e-02</td>\n",
       "      <td>7.262811e-02</td>\n",
       "      <td>4.262551e-01</td>\n",
       "      <td>3.744147e-01</td>\n",
       "    </tr>\n",
       "    <tr>\n",
       "      <th>std</th>\n",
       "      <td>2.367938e+01</td>\n",
       "      <td>5.845028e+00</td>\n",
       "      <td>0.0</td>\n",
       "      <td>NaN</td>\n",
       "      <td>NaN</td>\n",
       "      <td>3.879214e-01</td>\n",
       "      <td>2.566750e+03</td>\n",
       "      <td>2.934289e+00</td>\n",
       "      <td>0.0</td>\n",
       "      <td>6.388543e+04</td>\n",
       "      <td>...</td>\n",
       "      <td>9.183171e+00</td>\n",
       "      <td>5.335901e+01</td>\n",
       "      <td>3.258924e-01</td>\n",
       "      <td>5.077019e-03</td>\n",
       "      <td>3.046704e-02</td>\n",
       "      <td>3.370890e-01</td>\n",
       "      <td>5.108799e-03</td>\n",
       "      <td>2.956883e-02</td>\n",
       "      <td>3.576745e-01</td>\n",
       "      <td>3.189683e-01</td>\n",
       "    </tr>\n",
       "    <tr>\n",
       "      <th>min</th>\n",
       "      <td>1.000000e+00</td>\n",
       "      <td>0.000000e+00</td>\n",
       "      <td>0.0</td>\n",
       "      <td>NaN</td>\n",
       "      <td>NaN</td>\n",
       "      <td>0.000000e+00</td>\n",
       "      <td>1.000000e+00</td>\n",
       "      <td>1.000000e+00</td>\n",
       "      <td>0.0</td>\n",
       "      <td>0.000000e+00</td>\n",
       "      <td>...</td>\n",
       "      <td>0.000000e+00</td>\n",
       "      <td>0.000000e+00</td>\n",
       "      <td>0.000000e+00</td>\n",
       "      <td>0.000000e+00</td>\n",
       "      <td>0.000000e+00</td>\n",
       "      <td>0.000000e+00</td>\n",
       "      <td>0.000000e+00</td>\n",
       "      <td>0.000000e+00</td>\n",
       "      <td>-5.407405e-02</td>\n",
       "      <td>-5.624677e-02</td>\n",
       "    </tr>\n",
       "    <tr>\n",
       "      <th>25%</th>\n",
       "      <td>4.900000e+01</td>\n",
       "      <td>5.000000e+00</td>\n",
       "      <td>0.0</td>\n",
       "      <td>NaN</td>\n",
       "      <td>NaN</td>\n",
       "      <td>1.000000e+00</td>\n",
       "      <td>5.980000e+02</td>\n",
       "      <td>3.000000e+00</td>\n",
       "      <td>0.0</td>\n",
       "      <td>3.568000e+04</td>\n",
       "      <td>...</td>\n",
       "      <td>4.514000e+01</td>\n",
       "      <td>8.828000e+01</td>\n",
       "      <td>1.586822e-01</td>\n",
       "      <td>2.579404e-02</td>\n",
       "      <td>3.957558e-02</td>\n",
       "      <td>1.723314e-01</td>\n",
       "      <td>2.458140e-02</td>\n",
       "      <td>4.846361e-02</td>\n",
       "      <td>1.368566e-01</td>\n",
       "      <td>1.042724e-01</td>\n",
       "    </tr>\n",
       "    <tr>\n",
       "      <th>50%</th>\n",
       "      <td>7.900000e+01</td>\n",
       "      <td>1.000000e+01</td>\n",
       "      <td>0.0</td>\n",
       "      <td>NaN</td>\n",
       "      <td>NaN</td>\n",
       "      <td>1.000000e+00</td>\n",
       "      <td>1.875000e+03</td>\n",
       "      <td>5.000000e+00</td>\n",
       "      <td>0.0</td>\n",
       "      <td>9.043000e+04</td>\n",
       "      <td>...</td>\n",
       "      <td>5.076000e+01</td>\n",
       "      <td>1.302100e+02</td>\n",
       "      <td>4.173078e-01</td>\n",
       "      <td>2.872237e-02</td>\n",
       "      <td>6.118229e-02</td>\n",
       "      <td>4.304055e-01</td>\n",
       "      <td>2.806366e-02</td>\n",
       "      <td>7.106925e-02</td>\n",
       "      <td>3.676134e-01</td>\n",
       "      <td>3.228916e-01</td>\n",
       "    </tr>\n",
       "    <tr>\n",
       "      <th>75%</th>\n",
       "      <td>8.700000e+01</td>\n",
       "      <td>1.500000e+01</td>\n",
       "      <td>0.0</td>\n",
       "      <td>NaN</td>\n",
       "      <td>NaN</td>\n",
       "      <td>1.000000e+00</td>\n",
       "      <td>4.215000e+03</td>\n",
       "      <td>8.000000e+00</td>\n",
       "      <td>0.0</td>\n",
       "      <td>1.451810e+05</td>\n",
       "      <td>...</td>\n",
       "      <td>5.473000e+01</td>\n",
       "      <td>1.777800e+02</td>\n",
       "      <td>6.735348e-01</td>\n",
       "      <td>3.100000e-02</td>\n",
       "      <td>9.114589e-02</td>\n",
       "      <td>6.958240e-01</td>\n",
       "      <td>3.011671e-02</td>\n",
       "      <td>9.697091e-02</td>\n",
       "      <td>6.673267e-01</td>\n",
       "      <td>6.007689e-01</td>\n",
       "    </tr>\n",
       "    <tr>\n",
       "      <th>max</th>\n",
       "      <td>9.600000e+01</td>\n",
       "      <td>2.300000e+01</td>\n",
       "      <td>0.0</td>\n",
       "      <td>NaN</td>\n",
       "      <td>NaN</td>\n",
       "      <td>1.000000e+00</td>\n",
       "      <td>1.411700e+04</td>\n",
       "      <td>1.000000e+01</td>\n",
       "      <td>0.0</td>\n",
       "      <td>2.368970e+05</td>\n",
       "      <td>...</td>\n",
       "      <td>7.911000e+01</td>\n",
       "      <td>2.677800e+02</td>\n",
       "      <td>2.068044e+00</td>\n",
       "      <td>4.425281e-02</td>\n",
       "      <td>1.506798e-01</td>\n",
       "      <td>2.041016e+00</td>\n",
       "      <td>4.326744e-02</td>\n",
       "      <td>1.504382e-01</td>\n",
       "      <td>1.981410e+00</td>\n",
       "      <td>1.950301e+00</td>\n",
       "    </tr>\n",
       "  </tbody>\n",
       "</table>\n",
       "<p>8 rows × 379 columns</p>\n",
       "</div>"
      ],
      "text/plain": [
       "        M_Trial_Num        M_Mass  M_Mass_to_L5S1  M_sub_task_indices  \\\n",
       "count  1.971017e+06  1.971017e+06           567.0                 0.0   \n",
       "mean   6.942408e+01  1.053204e+01             0.0                 NaN   \n",
       "std    2.367938e+01  5.845028e+00             0.0                 NaN   \n",
       "min    1.000000e+00  0.000000e+00             0.0                 NaN   \n",
       "25%    4.900000e+01  5.000000e+00             0.0                 NaN   \n",
       "50%    7.900000e+01  1.000000e+01             0.0                 NaN   \n",
       "75%    8.700000e+01  1.500000e+01             0.0                 NaN   \n",
       "max    9.600000e+01  2.300000e+01             0.0                 NaN   \n",
       "\n",
       "       M_sub_task_num  M_include_overall       M_Index         M_Sub  \\\n",
       "count             0.0       1.971017e+06  1.971017e+06  1.971017e+06   \n",
       "mean              NaN       8.154633e-01  2.716049e+03  5.396072e+00   \n",
       "std               NaN       3.879214e-01  2.566750e+03  2.934289e+00   \n",
       "min               NaN       0.000000e+00  1.000000e+00  1.000000e+00   \n",
       "25%               NaN       1.000000e+00  5.980000e+02  3.000000e+00   \n",
       "50%               NaN       1.000000e+00  1.875000e+03  5.000000e+00   \n",
       "75%               NaN       1.000000e+00  4.215000e+03  8.000000e+00   \n",
       "max               NaN       1.000000e+00  1.411700e+04  1.000000e+01   \n",
       "\n",
       "       M_sub_task_num_overall  M_Index_overall  ...  \\\n",
       "count               1971017.0     1.971017e+06  ...   \n",
       "mean                      0.0     9.236236e+04  ...   \n",
       "std                       0.0     6.388543e+04  ...   \n",
       "min                       0.0     0.000000e+00  ...   \n",
       "25%                       0.0     3.568000e+04  ...   \n",
       "50%                       0.0     9.043000e+04  ...   \n",
       "75%                       0.0     1.451810e+05  ...   \n",
       "max                       0.0     2.368970e+05  ...   \n",
       "\n",
       "       RWEO_01_02_00_00_INSOLE_RX_ML_threshF50_mm  \\\n",
       "count                                1.683991e+06   \n",
       "mean                                 4.899182e+01   \n",
       "std                                  9.183171e+00   \n",
       "min                                  0.000000e+00   \n",
       "25%                                  4.514000e+01   \n",
       "50%                                  5.076000e+01   \n",
       "75%                                  5.473000e+01   \n",
       "max                                  7.911000e+01   \n",
       "\n",
       "       RWEO_01_02_00_00_INSOLE_RY_AP_threshF50_mm  \\\n",
       "count                                1.683991e+06   \n",
       "mean                                 1.319880e+02   \n",
       "std                                  5.335901e+01   \n",
       "min                                  0.000000e+00   \n",
       "25%                                  8.828000e+01   \n",
       "50%                                  1.302100e+02   \n",
       "75%                                  1.777800e+02   \n",
       "max                                  2.677800e+02   \n",
       "\n",
       "       RWEF_03_00_00_00_INSOLE_LFORCE_threshF50_BW  \\\n",
       "count                                 1.967609e+06   \n",
       "mean                                  4.390082e-01   \n",
       "std                                   3.258924e-01   \n",
       "min                                   0.000000e+00   \n",
       "25%                                   1.586822e-01   \n",
       "50%                                   4.173078e-01   \n",
       "75%                                   6.735348e-01   \n",
       "max                                   2.068044e+00   \n",
       "\n",
       "       RWEF_03_04_00_00_INSOLE_LX_ML_threshF50_BH  \\\n",
       "count                                1.661377e+06   \n",
       "mean                                 2.785011e-02   \n",
       "std                                  5.077019e-03   \n",
       "min                                  0.000000e+00   \n",
       "25%                                  2.579404e-02   \n",
       "50%                                  2.872237e-02   \n",
       "75%                                  3.100000e-02   \n",
       "max                                  4.425281e-02   \n",
       "\n",
       "       RWEF_03_04_00_00_INSOLE_LY_AP_threshF50_BH  \\\n",
       "count                                1.661377e+06   \n",
       "mean                                 6.597227e-02   \n",
       "std                                  3.046704e-02   \n",
       "min                                  0.000000e+00   \n",
       "25%                                  3.957558e-02   \n",
       "50%                                  6.118229e-02   \n",
       "75%                                  9.114589e-02   \n",
       "max                                  1.506798e-01   \n",
       "\n",
       "       RWEF_01_00_00_00_INSOLE_RFORCE_threshF50_BW  \\\n",
       "count                                 1.967609e+06   \n",
       "mean                                  4.570948e-01   \n",
       "std                                   3.370890e-01   \n",
       "min                                   0.000000e+00   \n",
       "25%                                   1.723314e-01   \n",
       "50%                                   4.304055e-01   \n",
       "75%                                   6.958240e-01   \n",
       "max                                   2.041016e+00   \n",
       "\n",
       "       RWEF_01_02_00_00_INSOLE_RX_ML_threshF50_BH  \\\n",
       "count                                1.683991e+06   \n",
       "mean                                 2.698083e-02   \n",
       "std                                  5.108799e-03   \n",
       "min                                  0.000000e+00   \n",
       "25%                                  2.458140e-02   \n",
       "50%                                  2.806366e-02   \n",
       "75%                                  3.011671e-02   \n",
       "max                                  4.326744e-02   \n",
       "\n",
       "       RWEF_01_02_00_00_INSOLE_RY_AP_threshF50_BH  RWSF_SCALED_RINSOLE_BW  \\\n",
       "count                                1.683991e+06            1.967609e+06   \n",
       "mean                                 7.262811e-02            4.262551e-01   \n",
       "std                                  2.956883e-02            3.576745e-01   \n",
       "min                                  0.000000e+00           -5.407405e-02   \n",
       "25%                                  4.846361e-02            1.368566e-01   \n",
       "50%                                  7.106925e-02            3.676134e-01   \n",
       "75%                                  9.697091e-02            6.673267e-01   \n",
       "max                                  1.504382e-01            1.981410e+00   \n",
       "\n",
       "       RWSF_SCALED_LINSOLE_BW  \n",
       "count            1.967609e+06  \n",
       "mean             3.744147e-01  \n",
       "std              3.189683e-01  \n",
       "min             -5.624677e-02  \n",
       "25%              1.042724e-01  \n",
       "50%              3.228916e-01  \n",
       "75%              6.007689e-01  \n",
       "max              1.950301e+00  \n",
       "\n",
       "[8 rows x 379 columns]"
      ]
     },
     "execution_count": 3,
     "metadata": {},
     "output_type": "execute_result"
    }
   ],
   "source": [
    "DATASET = \"CPAC_N10_11_10_20\"\n",
    "DATASET_CSV = f\"s3://cpac/ORIG/{DATASET}/CPAC10S_N10_11_10_20.csv\"\n",
    "DATASET_README = f\"s3://cpac/ORIG/{DATASET}/READ_ME.xlsx\"\n",
    "RESULTS_DIR = f\"results/{DATASET}\"\n",
    "\n",
    "\n",
    "df_orig = utils.load_dataset(DATASET_CSV)\n",
    "df_orig.describe()"
   ]
  },
  {
   "cell_type": "markdown",
   "metadata": {},
   "source": [
    "## Clean-up dataset\n",
    "\n",
    "- Remove samples based on `M_include_overall`"
   ]
  },
  {
   "cell_type": "code",
   "execution_count": 5,
   "metadata": {},
   "outputs": [
    {
     "name": "stdout",
     "output_type": "stream",
     "text": [
      "Number of samples: 1,607,292 (before clean-up: 1,971,017)\n",
      "Number of trials: 174 (before clean-up: 174)\n",
      "Number of subjects: 10\n"
     ]
    }
   ],
   "source": [
    "df = df_orig[df_orig[\"M_include_overall\"] > 0]\n",
    "\n",
    "# Weed out wonky subjects\n",
    "#df = df[df[\"M_Sub\"].isin([2,4,5,6,7,8,9])]\n",
    "#RESULTS_DIR += \"_nowonky\"\n",
    "\n",
    "print(f\"Number of samples: {df.shape[0]:,d} (before clean-up: {df_orig.shape[0]:,d})\")\n",
    "print(f\"Number of trials: {len(df['M_Trial_Name'].unique())} (before clean-up: {len(df_orig['M_Trial_Name'].unique())})\")\n",
    "print(f\"Number of subjects: {len(df['M_Sub'].unique())}\")"
   ]
  },
  {
   "cell_type": "markdown",
   "metadata": {},
   "source": [
    "## Linear Regression"
   ]
  },
  {
   "cell_type": "code",
   "execution_count": 32,
   "metadata": {},
   "outputs": [
    {
     "data": {
      "text/plain": [
       "LinearRegression(copy_X=True, fit_intercept=True, n_jobs=None, normalize=False)"
      ]
     },
     "execution_count": 32,
     "metadata": {},
     "output_type": "execute_result"
    }
   ],
   "source": [
    "df_linreg = df[[\"TF_Pelvis_Moment_X_BWBH\", \"SWRF_05_12_00_00_TRUNK_ANGLE_VL_X_sag\"]].dropna()\n",
    "X = df_linreg[\"SWRF_05_12_00_00_TRUNK_ANGLE_VL_X_sag\"].values.reshape(-1, 1)\n",
    "y = df_linreg[\"TF_Pelvis_Moment_X_BWBH\"].values\n",
    "\n",
    "\n",
    "estimator = linear_model.LinearRegression()\n",
    "estimator.fit(X, y)"
   ]
  },
  {
   "cell_type": "code",
   "execution_count": 33,
   "metadata": {},
   "outputs": [
    {
     "data": {
      "text/plain": [
       "array([0.00121295])"
      ]
     },
     "execution_count": 33,
     "metadata": {},
     "output_type": "execute_result"
    }
   ],
   "source": [
    "estimator.coef_"
   ]
  },
  {
   "cell_type": "code",
   "execution_count": 34,
   "metadata": {},
   "outputs": [
    {
     "data": {
      "text/plain": [
       "-0.014837700062068568"
      ]
     },
     "execution_count": 34,
     "metadata": {},
     "output_type": "execute_result"
    }
   ],
   "source": [
    "estimator.intercept_"
   ]
  },
  {
   "cell_type": "code",
   "execution_count": 38,
   "metadata": {},
   "outputs": [
    {
     "data": {
      "text/plain": [
       "(array([-0.1027784]), -0.19516205451610896)"
      ]
     },
     "execution_count": 38,
     "metadata": {},
     "output_type": "execute_result"
    }
   ],
   "source": [
    "estimator.predict(X[100:101]), y[100]"
   ]
  },
  {
   "cell_type": "code",
   "execution_count": 43,
   "metadata": {},
   "outputs": [
    {
     "data": {
      "text/plain": [
       "(array([ 0.00121295, -0.0148377 ]),\n",
       " array([883.82060204]),\n",
       " 2,\n",
       " array([55680.12152307,   864.24368316]))"
      ]
     },
     "execution_count": 43,
     "metadata": {},
     "output_type": "execute_result"
    }
   ],
   "source": [
    "np.linalg.lstsq(np.hstack((X, np.ones_like(X))), y)"
   ]
  },
  {
   "cell_type": "code",
   "execution_count": 44,
   "metadata": {},
   "outputs": [
    {
     "data": {
      "text/plain": [
       "0.7065912033269665"
      ]
     },
     "execution_count": 44,
     "metadata": {},
     "output_type": "execute_result"
    }
   ],
   "source": [
    "estimator.score(X, y)"
   ]
  },
  {
   "cell_type": "code",
   "execution_count": null,
   "metadata": {},
   "outputs": [],
   "source": []
  }
 ],
 "metadata": {
  "instance_type": "ml.m5.8xlarge",
  "kernelspec": {
   "display_name": "Python 3 (Data Science)",
   "language": "python",
   "name": "python3__SAGEMAKER_INTERNAL__arn:aws:sagemaker:us-east-1:081325390199:image/datascience-1.0"
  },
  "language_info": {
   "codemirror_mode": {
    "name": "ipython",
    "version": 3
   },
   "file_extension": ".py",
   "mimetype": "text/x-python",
   "name": "python",
   "nbconvert_exporter": "python",
   "pygments_lexer": "ipython3",
   "version": "3.7.6"
  }
 },
 "nbformat": 4,
 "nbformat_minor": 4
}
